{
 "cells": [
  {
   "cell_type": "code",
   "execution_count": 1,
   "id": "f75eec84",
   "metadata": {},
   "outputs": [],
   "source": [
    "import pandas as pd\n",
    "import numpy as np\n",
    "\n",
    "import matplotlib.pylab as plt\n",
    "%matplotlib inline\n",
    "\n",
    "import seaborn as sns\n",
    "from sklearn.model_selection  import train_test_split\n",
    "from sklearn.cluster import KMeans\n",
    "\n",
    "from scipy.stats import zscore\n"
   ]
  },
  {
   "cell_type": "markdown",
   "id": "45c5b9e3",
   "metadata": {},
   "source": [
    "#### Data Understanding and exploration"
   ]
  },
  {
   "cell_type": "markdown",
   "id": "3c8c2f53",
   "metadata": {},
   "source": [
    "#### A. Read ‘Car name.csv’ as a DataFrame and assign it to a variable."
   ]
  },
  {
   "cell_type": "code",
   "execution_count": 2,
   "id": "fa29472c",
   "metadata": {},
   "outputs": [],
   "source": [
    "df=pd.read_csv('car.csv')"
   ]
  },
  {
   "cell_type": "code",
   "execution_count": 3,
   "id": "da0a46c5",
   "metadata": {},
   "outputs": [
    {
     "data": {
      "text/html": [
       "<div>\n",
       "<style scoped>\n",
       "    .dataframe tbody tr th:only-of-type {\n",
       "        vertical-align: middle;\n",
       "    }\n",
       "\n",
       "    .dataframe tbody tr th {\n",
       "        vertical-align: top;\n",
       "    }\n",
       "\n",
       "    .dataframe thead th {\n",
       "        text-align: right;\n",
       "    }\n",
       "</style>\n",
       "<table border=\"1\" class=\"dataframe\">\n",
       "  <thead>\n",
       "    <tr style=\"text-align: right;\">\n",
       "      <th></th>\n",
       "      <th>car_name</th>\n",
       "    </tr>\n",
       "  </thead>\n",
       "  <tbody>\n",
       "    <tr>\n",
       "      <th>0</th>\n",
       "      <td>chevrolet chevelle malibu</td>\n",
       "    </tr>\n",
       "    <tr>\n",
       "      <th>1</th>\n",
       "      <td>buick skylark 320</td>\n",
       "    </tr>\n",
       "    <tr>\n",
       "      <th>2</th>\n",
       "      <td>plymouth satellite</td>\n",
       "    </tr>\n",
       "    <tr>\n",
       "      <th>3</th>\n",
       "      <td>amc rebel sst</td>\n",
       "    </tr>\n",
       "    <tr>\n",
       "      <th>4</th>\n",
       "      <td>ford torino</td>\n",
       "    </tr>\n",
       "    <tr>\n",
       "      <th>...</th>\n",
       "      <td>...</td>\n",
       "    </tr>\n",
       "    <tr>\n",
       "      <th>393</th>\n",
       "      <td>ford mustang gl</td>\n",
       "    </tr>\n",
       "    <tr>\n",
       "      <th>394</th>\n",
       "      <td>vw pickup</td>\n",
       "    </tr>\n",
       "    <tr>\n",
       "      <th>395</th>\n",
       "      <td>dodge rampage</td>\n",
       "    </tr>\n",
       "    <tr>\n",
       "      <th>396</th>\n",
       "      <td>ford ranger</td>\n",
       "    </tr>\n",
       "    <tr>\n",
       "      <th>397</th>\n",
       "      <td>chevy s-10</td>\n",
       "    </tr>\n",
       "  </tbody>\n",
       "</table>\n",
       "<p>398 rows × 1 columns</p>\n",
       "</div>"
      ],
      "text/plain": [
       "                      car_name\n",
       "0    chevrolet chevelle malibu\n",
       "1            buick skylark 320\n",
       "2           plymouth satellite\n",
       "3                amc rebel sst\n",
       "4                  ford torino\n",
       "..                         ...\n",
       "393            ford mustang gl\n",
       "394                  vw pickup\n",
       "395              dodge rampage\n",
       "396                ford ranger\n",
       "397                 chevy s-10\n",
       "\n",
       "[398 rows x 1 columns]"
      ]
     },
     "execution_count": 3,
     "metadata": {},
     "output_type": "execute_result"
    }
   ],
   "source": [
    "df"
   ]
  },
  {
   "cell_type": "markdown",
   "id": "8d032282",
   "metadata": {},
   "source": [
    "#### B. Read ‘Car-Attributes.json as a DataFrame and assign it to a variable."
   ]
  },
  {
   "cell_type": "code",
   "execution_count": 4,
   "id": "68f1ad56",
   "metadata": {},
   "outputs": [],
   "source": [
    "df_json = pd.read_json('car.json')"
   ]
  },
  {
   "cell_type": "code",
   "execution_count": 5,
   "id": "56e490ba",
   "metadata": {},
   "outputs": [
    {
     "data": {
      "text/html": [
       "<div>\n",
       "<style scoped>\n",
       "    .dataframe tbody tr th:only-of-type {\n",
       "        vertical-align: middle;\n",
       "    }\n",
       "\n",
       "    .dataframe tbody tr th {\n",
       "        vertical-align: top;\n",
       "    }\n",
       "\n",
       "    .dataframe thead th {\n",
       "        text-align: right;\n",
       "    }\n",
       "</style>\n",
       "<table border=\"1\" class=\"dataframe\">\n",
       "  <thead>\n",
       "    <tr style=\"text-align: right;\">\n",
       "      <th></th>\n",
       "      <th>mpg</th>\n",
       "      <th>cyl</th>\n",
       "      <th>disp</th>\n",
       "      <th>hp</th>\n",
       "      <th>wt</th>\n",
       "      <th>acc</th>\n",
       "      <th>yr</th>\n",
       "      <th>origin</th>\n",
       "    </tr>\n",
       "  </thead>\n",
       "  <tbody>\n",
       "    <tr>\n",
       "      <th>0</th>\n",
       "      <td>18.0</td>\n",
       "      <td>8</td>\n",
       "      <td>307.0</td>\n",
       "      <td>130</td>\n",
       "      <td>3504</td>\n",
       "      <td>12.0</td>\n",
       "      <td>70</td>\n",
       "      <td>1</td>\n",
       "    </tr>\n",
       "    <tr>\n",
       "      <th>1</th>\n",
       "      <td>15.0</td>\n",
       "      <td>8</td>\n",
       "      <td>350.0</td>\n",
       "      <td>165</td>\n",
       "      <td>3693</td>\n",
       "      <td>11.5</td>\n",
       "      <td>70</td>\n",
       "      <td>1</td>\n",
       "    </tr>\n",
       "    <tr>\n",
       "      <th>2</th>\n",
       "      <td>18.0</td>\n",
       "      <td>8</td>\n",
       "      <td>318.0</td>\n",
       "      <td>150</td>\n",
       "      <td>3436</td>\n",
       "      <td>11.0</td>\n",
       "      <td>70</td>\n",
       "      <td>1</td>\n",
       "    </tr>\n",
       "    <tr>\n",
       "      <th>3</th>\n",
       "      <td>16.0</td>\n",
       "      <td>8</td>\n",
       "      <td>304.0</td>\n",
       "      <td>150</td>\n",
       "      <td>3433</td>\n",
       "      <td>12.0</td>\n",
       "      <td>70</td>\n",
       "      <td>1</td>\n",
       "    </tr>\n",
       "    <tr>\n",
       "      <th>4</th>\n",
       "      <td>17.0</td>\n",
       "      <td>8</td>\n",
       "      <td>302.0</td>\n",
       "      <td>140</td>\n",
       "      <td>3449</td>\n",
       "      <td>10.5</td>\n",
       "      <td>70</td>\n",
       "      <td>1</td>\n",
       "    </tr>\n",
       "    <tr>\n",
       "      <th>...</th>\n",
       "      <td>...</td>\n",
       "      <td>...</td>\n",
       "      <td>...</td>\n",
       "      <td>...</td>\n",
       "      <td>...</td>\n",
       "      <td>...</td>\n",
       "      <td>...</td>\n",
       "      <td>...</td>\n",
       "    </tr>\n",
       "    <tr>\n",
       "      <th>393</th>\n",
       "      <td>27.0</td>\n",
       "      <td>4</td>\n",
       "      <td>140.0</td>\n",
       "      <td>86</td>\n",
       "      <td>2790</td>\n",
       "      <td>15.6</td>\n",
       "      <td>82</td>\n",
       "      <td>1</td>\n",
       "    </tr>\n",
       "    <tr>\n",
       "      <th>394</th>\n",
       "      <td>44.0</td>\n",
       "      <td>4</td>\n",
       "      <td>97.0</td>\n",
       "      <td>52</td>\n",
       "      <td>2130</td>\n",
       "      <td>24.6</td>\n",
       "      <td>82</td>\n",
       "      <td>2</td>\n",
       "    </tr>\n",
       "    <tr>\n",
       "      <th>395</th>\n",
       "      <td>32.0</td>\n",
       "      <td>4</td>\n",
       "      <td>135.0</td>\n",
       "      <td>84</td>\n",
       "      <td>2295</td>\n",
       "      <td>11.6</td>\n",
       "      <td>82</td>\n",
       "      <td>1</td>\n",
       "    </tr>\n",
       "    <tr>\n",
       "      <th>396</th>\n",
       "      <td>28.0</td>\n",
       "      <td>4</td>\n",
       "      <td>120.0</td>\n",
       "      <td>79</td>\n",
       "      <td>2625</td>\n",
       "      <td>18.6</td>\n",
       "      <td>82</td>\n",
       "      <td>1</td>\n",
       "    </tr>\n",
       "    <tr>\n",
       "      <th>397</th>\n",
       "      <td>31.0</td>\n",
       "      <td>4</td>\n",
       "      <td>119.0</td>\n",
       "      <td>82</td>\n",
       "      <td>2720</td>\n",
       "      <td>19.4</td>\n",
       "      <td>82</td>\n",
       "      <td>1</td>\n",
       "    </tr>\n",
       "  </tbody>\n",
       "</table>\n",
       "<p>398 rows × 8 columns</p>\n",
       "</div>"
      ],
      "text/plain": [
       "      mpg  cyl   disp   hp    wt   acc  yr  origin\n",
       "0    18.0    8  307.0  130  3504  12.0  70       1\n",
       "1    15.0    8  350.0  165  3693  11.5  70       1\n",
       "2    18.0    8  318.0  150  3436  11.0  70       1\n",
       "3    16.0    8  304.0  150  3433  12.0  70       1\n",
       "4    17.0    8  302.0  140  3449  10.5  70       1\n",
       "..    ...  ...    ...  ...   ...   ...  ..     ...\n",
       "393  27.0    4  140.0   86  2790  15.6  82       1\n",
       "394  44.0    4   97.0   52  2130  24.6  82       2\n",
       "395  32.0    4  135.0   84  2295  11.6  82       1\n",
       "396  28.0    4  120.0   79  2625  18.6  82       1\n",
       "397  31.0    4  119.0   82  2720  19.4  82       1\n",
       "\n",
       "[398 rows x 8 columns]"
      ]
     },
     "execution_count": 5,
     "metadata": {},
     "output_type": "execute_result"
    }
   ],
   "source": [
    "df_json"
   ]
  },
  {
   "cell_type": "markdown",
   "id": "ae38f39b",
   "metadata": {},
   "source": [
    "#### C. Merge both the DataFrames together to form a single DataFrame "
   ]
  },
  {
   "cell_type": "code",
   "execution_count": 6,
   "id": "ad22fb27",
   "metadata": {},
   "outputs": [],
   "source": [
    " car=pd.concat([df,df_json],axis=1)"
   ]
  },
  {
   "cell_type": "code",
   "execution_count": 7,
   "id": "707d98fa",
   "metadata": {},
   "outputs": [
    {
     "data": {
      "text/html": [
       "<div>\n",
       "<style scoped>\n",
       "    .dataframe tbody tr th:only-of-type {\n",
       "        vertical-align: middle;\n",
       "    }\n",
       "\n",
       "    .dataframe tbody tr th {\n",
       "        vertical-align: top;\n",
       "    }\n",
       "\n",
       "    .dataframe thead th {\n",
       "        text-align: right;\n",
       "    }\n",
       "</style>\n",
       "<table border=\"1\" class=\"dataframe\">\n",
       "  <thead>\n",
       "    <tr style=\"text-align: right;\">\n",
       "      <th></th>\n",
       "      <th>car_name</th>\n",
       "      <th>mpg</th>\n",
       "      <th>cyl</th>\n",
       "      <th>disp</th>\n",
       "      <th>hp</th>\n",
       "      <th>wt</th>\n",
       "      <th>acc</th>\n",
       "      <th>yr</th>\n",
       "      <th>origin</th>\n",
       "    </tr>\n",
       "  </thead>\n",
       "  <tbody>\n",
       "    <tr>\n",
       "      <th>0</th>\n",
       "      <td>chevrolet chevelle malibu</td>\n",
       "      <td>18.0</td>\n",
       "      <td>8</td>\n",
       "      <td>307.0</td>\n",
       "      <td>130</td>\n",
       "      <td>3504</td>\n",
       "      <td>12.0</td>\n",
       "      <td>70</td>\n",
       "      <td>1</td>\n",
       "    </tr>\n",
       "    <tr>\n",
       "      <th>1</th>\n",
       "      <td>buick skylark 320</td>\n",
       "      <td>15.0</td>\n",
       "      <td>8</td>\n",
       "      <td>350.0</td>\n",
       "      <td>165</td>\n",
       "      <td>3693</td>\n",
       "      <td>11.5</td>\n",
       "      <td>70</td>\n",
       "      <td>1</td>\n",
       "    </tr>\n",
       "    <tr>\n",
       "      <th>2</th>\n",
       "      <td>plymouth satellite</td>\n",
       "      <td>18.0</td>\n",
       "      <td>8</td>\n",
       "      <td>318.0</td>\n",
       "      <td>150</td>\n",
       "      <td>3436</td>\n",
       "      <td>11.0</td>\n",
       "      <td>70</td>\n",
       "      <td>1</td>\n",
       "    </tr>\n",
       "    <tr>\n",
       "      <th>3</th>\n",
       "      <td>amc rebel sst</td>\n",
       "      <td>16.0</td>\n",
       "      <td>8</td>\n",
       "      <td>304.0</td>\n",
       "      <td>150</td>\n",
       "      <td>3433</td>\n",
       "      <td>12.0</td>\n",
       "      <td>70</td>\n",
       "      <td>1</td>\n",
       "    </tr>\n",
       "    <tr>\n",
       "      <th>4</th>\n",
       "      <td>ford torino</td>\n",
       "      <td>17.0</td>\n",
       "      <td>8</td>\n",
       "      <td>302.0</td>\n",
       "      <td>140</td>\n",
       "      <td>3449</td>\n",
       "      <td>10.5</td>\n",
       "      <td>70</td>\n",
       "      <td>1</td>\n",
       "    </tr>\n",
       "    <tr>\n",
       "      <th>...</th>\n",
       "      <td>...</td>\n",
       "      <td>...</td>\n",
       "      <td>...</td>\n",
       "      <td>...</td>\n",
       "      <td>...</td>\n",
       "      <td>...</td>\n",
       "      <td>...</td>\n",
       "      <td>...</td>\n",
       "      <td>...</td>\n",
       "    </tr>\n",
       "    <tr>\n",
       "      <th>393</th>\n",
       "      <td>ford mustang gl</td>\n",
       "      <td>27.0</td>\n",
       "      <td>4</td>\n",
       "      <td>140.0</td>\n",
       "      <td>86</td>\n",
       "      <td>2790</td>\n",
       "      <td>15.6</td>\n",
       "      <td>82</td>\n",
       "      <td>1</td>\n",
       "    </tr>\n",
       "    <tr>\n",
       "      <th>394</th>\n",
       "      <td>vw pickup</td>\n",
       "      <td>44.0</td>\n",
       "      <td>4</td>\n",
       "      <td>97.0</td>\n",
       "      <td>52</td>\n",
       "      <td>2130</td>\n",
       "      <td>24.6</td>\n",
       "      <td>82</td>\n",
       "      <td>2</td>\n",
       "    </tr>\n",
       "    <tr>\n",
       "      <th>395</th>\n",
       "      <td>dodge rampage</td>\n",
       "      <td>32.0</td>\n",
       "      <td>4</td>\n",
       "      <td>135.0</td>\n",
       "      <td>84</td>\n",
       "      <td>2295</td>\n",
       "      <td>11.6</td>\n",
       "      <td>82</td>\n",
       "      <td>1</td>\n",
       "    </tr>\n",
       "    <tr>\n",
       "      <th>396</th>\n",
       "      <td>ford ranger</td>\n",
       "      <td>28.0</td>\n",
       "      <td>4</td>\n",
       "      <td>120.0</td>\n",
       "      <td>79</td>\n",
       "      <td>2625</td>\n",
       "      <td>18.6</td>\n",
       "      <td>82</td>\n",
       "      <td>1</td>\n",
       "    </tr>\n",
       "    <tr>\n",
       "      <th>397</th>\n",
       "      <td>chevy s-10</td>\n",
       "      <td>31.0</td>\n",
       "      <td>4</td>\n",
       "      <td>119.0</td>\n",
       "      <td>82</td>\n",
       "      <td>2720</td>\n",
       "      <td>19.4</td>\n",
       "      <td>82</td>\n",
       "      <td>1</td>\n",
       "    </tr>\n",
       "  </tbody>\n",
       "</table>\n",
       "<p>398 rows × 9 columns</p>\n",
       "</div>"
      ],
      "text/plain": [
       "                      car_name   mpg  cyl   disp   hp    wt   acc  yr  origin\n",
       "0    chevrolet chevelle malibu  18.0    8  307.0  130  3504  12.0  70       1\n",
       "1            buick skylark 320  15.0    8  350.0  165  3693  11.5  70       1\n",
       "2           plymouth satellite  18.0    8  318.0  150  3436  11.0  70       1\n",
       "3                amc rebel sst  16.0    8  304.0  150  3433  12.0  70       1\n",
       "4                  ford torino  17.0    8  302.0  140  3449  10.5  70       1\n",
       "..                         ...   ...  ...    ...  ...   ...   ...  ..     ...\n",
       "393            ford mustang gl  27.0    4  140.0   86  2790  15.6  82       1\n",
       "394                  vw pickup  44.0    4   97.0   52  2130  24.6  82       2\n",
       "395              dodge rampage  32.0    4  135.0   84  2295  11.6  82       1\n",
       "396                ford ranger  28.0    4  120.0   79  2625  18.6  82       1\n",
       "397                 chevy s-10  31.0    4  119.0   82  2720  19.4  82       1\n",
       "\n",
       "[398 rows x 9 columns]"
      ]
     },
     "execution_count": 7,
     "metadata": {},
     "output_type": "execute_result"
    }
   ],
   "source": [
    "car"
   ]
  },
  {
   "cell_type": "code",
   "execution_count": 8,
   "id": "dda357a4",
   "metadata": {},
   "outputs": [
    {
     "data": {
      "text/plain": [
       "(398, 9)"
      ]
     },
     "execution_count": 8,
     "metadata": {},
     "output_type": "execute_result"
    }
   ],
   "source": [
    "car.shape"
   ]
  },
  {
   "cell_type": "code",
   "execution_count": 9,
   "id": "745e91d6",
   "metadata": {},
   "outputs": [
    {
     "data": {
      "text/html": [
       "<div>\n",
       "<style scoped>\n",
       "    .dataframe tbody tr th:only-of-type {\n",
       "        vertical-align: middle;\n",
       "    }\n",
       "\n",
       "    .dataframe tbody tr th {\n",
       "        vertical-align: top;\n",
       "    }\n",
       "\n",
       "    .dataframe thead th {\n",
       "        text-align: right;\n",
       "    }\n",
       "</style>\n",
       "<table border=\"1\" class=\"dataframe\">\n",
       "  <thead>\n",
       "    <tr style=\"text-align: right;\">\n",
       "      <th></th>\n",
       "      <th>car_name</th>\n",
       "      <th>mpg</th>\n",
       "      <th>cyl</th>\n",
       "      <th>disp</th>\n",
       "      <th>hp</th>\n",
       "      <th>wt</th>\n",
       "      <th>acc</th>\n",
       "      <th>yr</th>\n",
       "      <th>origin</th>\n",
       "    </tr>\n",
       "  </thead>\n",
       "  <tbody>\n",
       "    <tr>\n",
       "      <th>0</th>\n",
       "      <td>chevrolet chevelle malibu</td>\n",
       "      <td>18.0</td>\n",
       "      <td>8</td>\n",
       "      <td>307.0</td>\n",
       "      <td>130</td>\n",
       "      <td>3504</td>\n",
       "      <td>12.0</td>\n",
       "      <td>70</td>\n",
       "      <td>1</td>\n",
       "    </tr>\n",
       "    <tr>\n",
       "      <th>1</th>\n",
       "      <td>buick skylark 320</td>\n",
       "      <td>15.0</td>\n",
       "      <td>8</td>\n",
       "      <td>350.0</td>\n",
       "      <td>165</td>\n",
       "      <td>3693</td>\n",
       "      <td>11.5</td>\n",
       "      <td>70</td>\n",
       "      <td>1</td>\n",
       "    </tr>\n",
       "    <tr>\n",
       "      <th>2</th>\n",
       "      <td>plymouth satellite</td>\n",
       "      <td>18.0</td>\n",
       "      <td>8</td>\n",
       "      <td>318.0</td>\n",
       "      <td>150</td>\n",
       "      <td>3436</td>\n",
       "      <td>11.0</td>\n",
       "      <td>70</td>\n",
       "      <td>1</td>\n",
       "    </tr>\n",
       "    <tr>\n",
       "      <th>3</th>\n",
       "      <td>amc rebel sst</td>\n",
       "      <td>16.0</td>\n",
       "      <td>8</td>\n",
       "      <td>304.0</td>\n",
       "      <td>150</td>\n",
       "      <td>3433</td>\n",
       "      <td>12.0</td>\n",
       "      <td>70</td>\n",
       "      <td>1</td>\n",
       "    </tr>\n",
       "    <tr>\n",
       "      <th>4</th>\n",
       "      <td>ford torino</td>\n",
       "      <td>17.0</td>\n",
       "      <td>8</td>\n",
       "      <td>302.0</td>\n",
       "      <td>140</td>\n",
       "      <td>3449</td>\n",
       "      <td>10.5</td>\n",
       "      <td>70</td>\n",
       "      <td>1</td>\n",
       "    </tr>\n",
       "  </tbody>\n",
       "</table>\n",
       "</div>"
      ],
      "text/plain": [
       "                    car_name   mpg  cyl   disp   hp    wt   acc  yr  origin\n",
       "0  chevrolet chevelle malibu  18.0    8  307.0  130  3504  12.0  70       1\n",
       "1          buick skylark 320  15.0    8  350.0  165  3693  11.5  70       1\n",
       "2         plymouth satellite  18.0    8  318.0  150  3436  11.0  70       1\n",
       "3              amc rebel sst  16.0    8  304.0  150  3433  12.0  70       1\n",
       "4                ford torino  17.0    8  302.0  140  3449  10.5  70       1"
      ]
     },
     "execution_count": 9,
     "metadata": {},
     "output_type": "execute_result"
    }
   ],
   "source": [
    "car.head(5)"
   ]
  },
  {
   "cell_type": "markdown",
   "id": "27f19987",
   "metadata": {},
   "source": [
    "#### D. Print 5 point summary of the numerical features and share insights"
   ]
  },
  {
   "cell_type": "code",
   "execution_count": 10,
   "id": "f6201422",
   "metadata": {},
   "outputs": [
    {
     "data": {
      "text/html": [
       "<div>\n",
       "<style scoped>\n",
       "    .dataframe tbody tr th:only-of-type {\n",
       "        vertical-align: middle;\n",
       "    }\n",
       "\n",
       "    .dataframe tbody tr th {\n",
       "        vertical-align: top;\n",
       "    }\n",
       "\n",
       "    .dataframe thead th {\n",
       "        text-align: right;\n",
       "    }\n",
       "</style>\n",
       "<table border=\"1\" class=\"dataframe\">\n",
       "  <thead>\n",
       "    <tr style=\"text-align: right;\">\n",
       "      <th></th>\n",
       "      <th>count</th>\n",
       "      <th>mean</th>\n",
       "      <th>std</th>\n",
       "      <th>min</th>\n",
       "      <th>25%</th>\n",
       "      <th>50%</th>\n",
       "      <th>75%</th>\n",
       "      <th>max</th>\n",
       "    </tr>\n",
       "  </thead>\n",
       "  <tbody>\n",
       "    <tr>\n",
       "      <th>mpg</th>\n",
       "      <td>398.0</td>\n",
       "      <td>23.514573</td>\n",
       "      <td>7.815984</td>\n",
       "      <td>9.0</td>\n",
       "      <td>17.500</td>\n",
       "      <td>23.0</td>\n",
       "      <td>29.000</td>\n",
       "      <td>46.6</td>\n",
       "    </tr>\n",
       "    <tr>\n",
       "      <th>cyl</th>\n",
       "      <td>398.0</td>\n",
       "      <td>5.454774</td>\n",
       "      <td>1.701004</td>\n",
       "      <td>3.0</td>\n",
       "      <td>4.000</td>\n",
       "      <td>4.0</td>\n",
       "      <td>8.000</td>\n",
       "      <td>8.0</td>\n",
       "    </tr>\n",
       "    <tr>\n",
       "      <th>disp</th>\n",
       "      <td>398.0</td>\n",
       "      <td>193.425879</td>\n",
       "      <td>104.269838</td>\n",
       "      <td>68.0</td>\n",
       "      <td>104.250</td>\n",
       "      <td>148.5</td>\n",
       "      <td>262.000</td>\n",
       "      <td>455.0</td>\n",
       "    </tr>\n",
       "    <tr>\n",
       "      <th>wt</th>\n",
       "      <td>398.0</td>\n",
       "      <td>2970.424623</td>\n",
       "      <td>846.841774</td>\n",
       "      <td>1613.0</td>\n",
       "      <td>2223.750</td>\n",
       "      <td>2803.5</td>\n",
       "      <td>3608.000</td>\n",
       "      <td>5140.0</td>\n",
       "    </tr>\n",
       "    <tr>\n",
       "      <th>acc</th>\n",
       "      <td>398.0</td>\n",
       "      <td>15.568090</td>\n",
       "      <td>2.757689</td>\n",
       "      <td>8.0</td>\n",
       "      <td>13.825</td>\n",
       "      <td>15.5</td>\n",
       "      <td>17.175</td>\n",
       "      <td>24.8</td>\n",
       "    </tr>\n",
       "    <tr>\n",
       "      <th>yr</th>\n",
       "      <td>398.0</td>\n",
       "      <td>76.010050</td>\n",
       "      <td>3.697627</td>\n",
       "      <td>70.0</td>\n",
       "      <td>73.000</td>\n",
       "      <td>76.0</td>\n",
       "      <td>79.000</td>\n",
       "      <td>82.0</td>\n",
       "    </tr>\n",
       "    <tr>\n",
       "      <th>origin</th>\n",
       "      <td>398.0</td>\n",
       "      <td>1.572864</td>\n",
       "      <td>0.802055</td>\n",
       "      <td>1.0</td>\n",
       "      <td>1.000</td>\n",
       "      <td>1.0</td>\n",
       "      <td>2.000</td>\n",
       "      <td>3.0</td>\n",
       "    </tr>\n",
       "  </tbody>\n",
       "</table>\n",
       "</div>"
      ],
      "text/plain": [
       "        count         mean         std     min       25%     50%       75%  \\\n",
       "mpg     398.0    23.514573    7.815984     9.0    17.500    23.0    29.000   \n",
       "cyl     398.0     5.454774    1.701004     3.0     4.000     4.0     8.000   \n",
       "disp    398.0   193.425879  104.269838    68.0   104.250   148.5   262.000   \n",
       "wt      398.0  2970.424623  846.841774  1613.0  2223.750  2803.5  3608.000   \n",
       "acc     398.0    15.568090    2.757689     8.0    13.825    15.5    17.175   \n",
       "yr      398.0    76.010050    3.697627    70.0    73.000    76.0    79.000   \n",
       "origin  398.0     1.572864    0.802055     1.0     1.000     1.0     2.000   \n",
       "\n",
       "           max  \n",
       "mpg       46.6  \n",
       "cyl        8.0  \n",
       "disp     455.0  \n",
       "wt      5140.0  \n",
       "acc       24.8  \n",
       "yr        82.0  \n",
       "origin     3.0  "
      ]
     },
     "execution_count": 10,
     "metadata": {},
     "output_type": "execute_result"
    }
   ],
   "source": [
    "car.describe().T"
   ]
  },
  {
   "cell_type": "code",
   "execution_count": 11,
   "id": "1c45d10c",
   "metadata": {},
   "outputs": [],
   "source": [
    "#### there are 398 rows of data\n",
    "#### we can see all the five figures of corresponding attributes of car as above count, max valeus, min values and "
   ]
  },
  {
   "cell_type": "markdown",
   "id": "c89e012f",
   "metadata": {},
   "source": [
    "#### 2. Data Preparation & Analysis: "
   ]
  },
  {
   "cell_type": "markdown",
   "id": "e19f5ae4",
   "metadata": {},
   "source": [
    "#### A. Check and print feature-wise percentage of missing values present in the data and impute with the best suitable approach. [2 Mark]"
   ]
  },
  {
   "cell_type": "code",
   "execution_count": 12,
   "id": "e2ab0711",
   "metadata": {},
   "outputs": [
    {
     "name": "stdout",
     "output_type": "stream",
     "text": [
      "<class 'pandas.core.frame.DataFrame'>\n",
      "RangeIndex: 398 entries, 0 to 397\n",
      "Data columns (total 9 columns):\n",
      " #   Column    Non-Null Count  Dtype  \n",
      "---  ------    --------------  -----  \n",
      " 0   car_name  398 non-null    object \n",
      " 1   mpg       398 non-null    float64\n",
      " 2   cyl       398 non-null    int64  \n",
      " 3   disp      398 non-null    float64\n",
      " 4   hp        398 non-null    object \n",
      " 5   wt        398 non-null    int64  \n",
      " 6   acc       398 non-null    float64\n",
      " 7   yr        398 non-null    int64  \n",
      " 8   origin    398 non-null    int64  \n",
      "dtypes: float64(3), int64(4), object(2)\n",
      "memory usage: 28.1+ KB\n"
     ]
    }
   ],
   "source": [
    "car.info()"
   ]
  },
  {
   "cell_type": "code",
   "execution_count": 13,
   "id": "d55469be",
   "metadata": {},
   "outputs": [
    {
     "data": {
      "text/html": [
       "<div>\n",
       "<style scoped>\n",
       "    .dataframe tbody tr th:only-of-type {\n",
       "        vertical-align: middle;\n",
       "    }\n",
       "\n",
       "    .dataframe tbody tr th {\n",
       "        vertical-align: top;\n",
       "    }\n",
       "\n",
       "    .dataframe thead th {\n",
       "        text-align: right;\n",
       "    }\n",
       "</style>\n",
       "<table border=\"1\" class=\"dataframe\">\n",
       "  <thead>\n",
       "    <tr style=\"text-align: right;\">\n",
       "      <th></th>\n",
       "      <th>column_name</th>\n",
       "      <th>percent_missing</th>\n",
       "    </tr>\n",
       "  </thead>\n",
       "  <tbody>\n",
       "    <tr>\n",
       "      <th>car_name</th>\n",
       "      <td>car_name</td>\n",
       "      <td>0.0</td>\n",
       "    </tr>\n",
       "    <tr>\n",
       "      <th>mpg</th>\n",
       "      <td>mpg</td>\n",
       "      <td>0.0</td>\n",
       "    </tr>\n",
       "    <tr>\n",
       "      <th>cyl</th>\n",
       "      <td>cyl</td>\n",
       "      <td>0.0</td>\n",
       "    </tr>\n",
       "    <tr>\n",
       "      <th>disp</th>\n",
       "      <td>disp</td>\n",
       "      <td>0.0</td>\n",
       "    </tr>\n",
       "    <tr>\n",
       "      <th>hp</th>\n",
       "      <td>hp</td>\n",
       "      <td>0.0</td>\n",
       "    </tr>\n",
       "    <tr>\n",
       "      <th>wt</th>\n",
       "      <td>wt</td>\n",
       "      <td>0.0</td>\n",
       "    </tr>\n",
       "    <tr>\n",
       "      <th>acc</th>\n",
       "      <td>acc</td>\n",
       "      <td>0.0</td>\n",
       "    </tr>\n",
       "    <tr>\n",
       "      <th>yr</th>\n",
       "      <td>yr</td>\n",
       "      <td>0.0</td>\n",
       "    </tr>\n",
       "    <tr>\n",
       "      <th>origin</th>\n",
       "      <td>origin</td>\n",
       "      <td>0.0</td>\n",
       "    </tr>\n",
       "  </tbody>\n",
       "</table>\n",
       "</div>"
      ],
      "text/plain": [
       "         column_name  percent_missing\n",
       "car_name    car_name              0.0\n",
       "mpg              mpg              0.0\n",
       "cyl              cyl              0.0\n",
       "disp            disp              0.0\n",
       "hp                hp              0.0\n",
       "wt                wt              0.0\n",
       "acc              acc              0.0\n",
       "yr                yr              0.0\n",
       "origin        origin              0.0"
      ]
     },
     "execution_count": 13,
     "metadata": {},
     "output_type": "execute_result"
    }
   ],
   "source": [
    "percent_missing = car.isnull().sum() * 100 / len(car)\n",
    "missing_value_df = pd.DataFrame({'column_name': car.columns,\n",
    "                                 'percent_missing': percent_missing})\n",
    "missing_value_df"
   ]
  },
  {
   "cell_type": "markdown",
   "id": "25a26687",
   "metadata": {},
   "source": [
    "#### there are 0 percent of data that are missing here"
   ]
  },
  {
   "cell_type": "markdown",
   "id": "d2a51ea1",
   "metadata": {},
   "source": [
    "B. Check for duplicate values in the data and impute with the best suitable approach."
   ]
  },
  {
   "cell_type": "code",
   "execution_count": 14,
   "id": "d4401ac8",
   "metadata": {},
   "outputs": [
    {
     "data": {
      "text/plain": [
       "0      False\n",
       "1      False\n",
       "2      False\n",
       "3      False\n",
       "4      False\n",
       "       ...  \n",
       "393    False\n",
       "394    False\n",
       "395    False\n",
       "396    False\n",
       "397    False\n",
       "Length: 398, dtype: bool"
      ]
     },
     "execution_count": 14,
     "metadata": {},
     "output_type": "execute_result"
    }
   ],
   "source": [
    "bool_series = car.duplicated(keep='first')\n",
    "bool_series"
   ]
  },
  {
   "cell_type": "markdown",
   "id": "72bb7946",
   "metadata": {},
   "source": [
    "#### None of the values are true which means there is no duplicate data in data set"
   ]
  },
  {
   "cell_type": "markdown",
   "id": "ddeec399",
   "metadata": {},
   "source": [
    "#### C. Plot a pairplot for all features."
   ]
  },
  {
   "cell_type": "code",
   "execution_count": 15,
   "id": "8fc6bf67",
   "metadata": {},
   "outputs": [
    {
     "data": {
      "image/png": "[encoded data removed]",
      "text/plain": [
       "<Figure size 900x900 with 30 Axes>"
      ]
     },
     "metadata": {
      "needs_background": "light"
     },
     "output_type": "display_data"
    }
   ],
   "source": [
    "#pair plot for the numeric attributes\n",
    "car_attr = car.iloc[:, 0:7]\n",
    "sns.pairplot(car_attr, diag_kind='kde');"
   ]
  },
  {
   "cell_type": "markdown",
   "id": "8c0ee273",
   "metadata": {},
   "source": [
    "#### D. Visualize a scatterplot for ‘wt’ and ‘disp’. Datapoints should be distinguishable by ‘cyl’. ["
   ]
  },
  {
   "cell_type": "code",
   "execution_count": 16,
   "id": "3177e132",
   "metadata": {},
   "outputs": [
    {
     "data": {
      "image/png": "[encoded data removed]",
      "text/plain": [
       "<Figure size 432x288 with 1 Axes>"
      ]
     },
     "metadata": {
      "needs_background": "light"
     },
     "output_type": "display_data"
    }
   ],
   "source": [
    "car.plot.scatter(x = 'wt', y = 'disp', s = 'cyl',c = 'red');"
   ]
  },
  {
   "cell_type": "markdown",
   "id": "7d566131",
   "metadata": {},
   "source": [
    "#### E. Share insights for Q2.d. "
   ]
  },
  {
   "cell_type": "code",
   "execution_count": 17,
   "id": "b02fee55",
   "metadata": {},
   "outputs": [
    {
     "name": "stdout",
     "output_type": "stream",
     "text": [
      "displacement is directly proportion to wt as wt increases , displacement is also increasing\n"
     ]
    }
   ],
   "source": [
    "print('displacement is directly proportion to wt as wt increases , displacement is also increasing')"
   ]
  },
  {
   "cell_type": "markdown",
   "id": "85352bf7",
   "metadata": {},
   "source": [
    "#### F. Visualize a scatterplot for ‘wt’ and ’mpg’. Datapoints should be distinguishable by ‘cyl’."
   ]
  },
  {
   "cell_type": "code",
   "execution_count": 18,
   "id": "aa12ae3c",
   "metadata": {},
   "outputs": [
    {
     "data": {
      "image/png": "[encoded data removed]",
      "text/plain": [
       "<Figure size 432x288 with 1 Axes>"
      ]
     },
     "metadata": {
      "needs_background": "light"
     },
     "output_type": "display_data"
    }
   ],
   "source": [
    "car.plot.scatter(x = 'wt', y = 'mpg', s = 'cyl',c = 'green');"
   ]
  },
  {
   "cell_type": "markdown",
   "id": "7f94ca93",
   "metadata": {},
   "source": [
    "#### G. Share insights for Q2.f"
   ]
  },
  {
   "cell_type": "code",
   "execution_count": 19,
   "id": "02212ee2",
   "metadata": {},
   "outputs": [
    {
     "name": "stdout",
     "output_type": "stream",
     "text": [
      "mpg is inversely proportion to wt as wt increases , mpg is decreasing\n"
     ]
    }
   ],
   "source": [
    "print('mpg is inversely proportion to wt as wt increases , mpg is decreasing')"
   ]
  },
  {
   "cell_type": "markdown",
   "id": "a9a8c91e",
   "metadata": {},
   "source": [
    "#### H. Check for unexpected values in all the features and datapoints with such values"
   ]
  },
  {
   "cell_type": "code",
   "execution_count": 20,
   "id": "a6cdf99f",
   "metadata": {},
   "outputs": [
    {
     "name": "stdout",
     "output_type": "stream",
     "text": [
      "[130 165 150 140 198 220 215 225 190 170 160 95 97 85 88 46 87 90 113 200\n",
      " 210 193 '?' 100 105 175 153 180 110 72 86 70 76 65 69 60 80 54 208 155\n",
      " 112 92 145 137 158 167 94 107 230 49 75 91 122 67 83 78 52 61 93 148 129\n",
      " 96 71 98 115 53 81 79 120 152 102 108 68 58 149 89 63 48 66 139 103 125\n",
      " 133 138 135 142 77 62 132 84 64 74 116 82]\n"
     ]
    }
   ],
   "source": [
    "print(car['hp'].unique())"
   ]
  },
  {
   "cell_type": "markdown",
   "id": "6b12fdf3",
   "metadata": {},
   "source": [
    "#### we can see hp column has ? values which need to be replace by Nan of hp column data"
   ]
  },
  {
   "cell_type": "code",
   "execution_count": 21,
   "id": "ae4ceda0",
   "metadata": {},
   "outputs": [],
   "source": [
    "# Replace missing values with NaN\n",
    "car = car.replace('?', np.nan)\n",
    "#car[hpIsDigit['hp'] == False] "
   ]
  },
  {
   "cell_type": "code",
   "execution_count": 22,
   "id": "9a6c8487",
   "metadata": {},
   "outputs": [
    {
     "name": "stdout",
     "output_type": "stream",
     "text": [
      "[3504 3693 3436 3433 3449 4341 4354 4312 4425 3850 3563 3609 3761 3086\n",
      " 2372 2833 2774 2587 2130 1835 2672 2430 2375 2234 2648 4615 4376 4382\n",
      " 4732 2264 2228 2046 2634 3439 3329 3302 3288 4209 4464 4154 4096 4955\n",
      " 4746 5140 2962 2408 3282 3139 2220 2123 2074 2065 1773 1613 1834 1955\n",
      " 2278 2126 2254 2226 4274 4385 4135 4129 3672 4633 4502 4456 4422 2330\n",
      " 3892 4098 4294 4077 2933 2511 2979 2189 2395 2288 2506 2164 2100 4100\n",
      " 3988 4042 3777 4952 4363 4237 4735 4951 3821 3121 3278 2945 3021 2904\n",
      " 1950 4997 4906 4654 4499 2789 2279 2401 2379 2124 2310 2472 2265 4082\n",
      " 4278 1867 2158 2582 2868 3399 2660 2807 3664 3102 2875 2901 3336 2451\n",
      " 1836 2542 3781 3632 3613 4141 4699 4457 4638 4257 2219 1963 2300 1649\n",
      " 2003 2125 2108 2246 2489 2391 2000 3264 3459 3432 3158 4668 4440 4498\n",
      " 4657 3907 3897 3730 3785 3039 3221 3169 2171 2639 2914 2592 2702 2223\n",
      " 2545 2984 1937 3211 2694 2957 2671 1795 2464 2572 2255 2202 4215 4190\n",
      " 3962 3233 3353 3012 3085 2035 3651 3574 3645 3193 1825 1990 2155 2565\n",
      " 3150 3940 3270 2930 3820 4380 4055 3870 3755 2045 1945 3880 4060 4140\n",
      " 4295 3520 3425 3630 3525 4220 4165 4325 4335 1940 2740 2755 2051 2075\n",
      " 1985 2190 2815 2600 2720 1800 2070 3365 3735 3570 3535 3155 2965 3430\n",
      " 3210 3380 3070 3620 3410 3445 3205 4080 2560 2230 2515 2745 2855 2405\n",
      " 2830 3140 2795 2135 3245 2990 2890 3265 3360 3840 3725 3955 3830 4360\n",
      " 4054 3605 1925 1975 1915 2670 3530 3900 3190 3420 2200 2150 2020 2595\n",
      " 2700 2556 2144 1968 2120 2019 2678 2870 3003 3381 2188 2711 2434 2110\n",
      " 2800 2085 2335 2950 3250 1850 2145 1845 2910 2420 2500 2905 2290 2490\n",
      " 2635 2620 2725 2385 1755 1875 1760 2050 2215 2380 2320 2210 2350 2615\n",
      " 3230 3160 2900 3415 3060 3465 2605 2640 2575 2525 2735 2865 3035 1980\n",
      " 2025 1970 2160 2205 2245 1965 1995 3015 2585 2835 2665 2370 2790 2295\n",
      " 2625]\n"
     ]
    }
   ],
   "source": [
    "print(car['wt'].unique())"
   ]
  },
  {
   "cell_type": "code",
   "execution_count": 23,
   "id": "cded380f",
   "metadata": {},
   "outputs": [
    {
     "name": "stdout",
     "output_type": "stream",
     "text": [
      "[307.  350.  318.  304.  302.  429.  454.  440.  455.  390.  383.  340.\n",
      " 400.  113.  198.  199.  200.   97.  110.  107.  104.  121.  360.  140.\n",
      "  98.  232.  225.  250.  351.  258.  122.  116.   79.   88.   71.   72.\n",
      "  91.   97.5  70.  120.   96.  108.  155.   68.  114.  156.   76.   83.\n",
      "  90.  231.  262.  134.  119.  171.  115.  101.  305.   85.  130.  168.\n",
      " 111.  260.  151.  146.   80.   78.  105.  131.  163.   89.  267.   86.\n",
      " 183.  141.  173.  135.   81.  100.  145.  112.  181.  144. ]\n"
     ]
    }
   ],
   "source": [
    "print(car['disp'].unique())"
   ]
  },
  {
   "cell_type": "code",
   "execution_count": 24,
   "id": "0ad52cff",
   "metadata": {},
   "outputs": [
    {
     "name": "stdout",
     "output_type": "stream",
     "text": [
      "[8 4 6 3 5]\n"
     ]
    }
   ],
   "source": [
    "print(car['cyl'].unique())"
   ]
  },
  {
   "cell_type": "code",
   "execution_count": 25,
   "id": "f3f84b0a",
   "metadata": {},
   "outputs": [
    {
     "name": "stdout",
     "output_type": "stream",
     "text": [
      "[1 3 2]\n"
     ]
    }
   ],
   "source": [
    "print(car['origin'].unique())"
   ]
  },
  {
   "cell_type": "markdown",
   "id": "6a67e9a4",
   "metadata": {},
   "source": [
    "#### After checking all the attributes it seems only hp attribute has NaN that can be replace by median"
   ]
  },
  {
   "cell_type": "code",
   "execution_count": 26,
   "id": "e070d046",
   "metadata": {},
   "outputs": [],
   "source": [
    "#replace hp with median\n",
    "car['hp'].fillna((car['hp'].median()), inplace=True)"
   ]
  },
  {
   "cell_type": "code",
   "execution_count": 27,
   "id": "8c7ebfe1",
   "metadata": {},
   "outputs": [
    {
     "name": "stdout",
     "output_type": "stream",
     "text": [
      "The data set has no missing values \n",
      "\n"
     ]
    },
    {
     "data": {
      "text/plain": [
       "car_name    0\n",
       "mpg         0\n",
       "cyl         0\n",
       "disp        0\n",
       "hp          0\n",
       "wt          0\n",
       "acc         0\n",
       "yr          0\n",
       "origin      0\n",
       "dtype: int64"
      ]
     },
     "execution_count": 27,
     "metadata": {},
     "output_type": "execute_result"
    }
   ],
   "source": [
    "print('The data set has no missing values \\n')\n",
    "car.isnull().sum()"
   ]
  },
  {
   "cell_type": "markdown",
   "id": "3003b8ae",
   "metadata": {},
   "source": [
    "### 3. Clustering: [15 Marks]"
   ]
  },
  {
   "cell_type": "markdown",
   "id": "d89b6ed6",
   "metadata": {},
   "source": [
    "#### A. Apply K-Means clustering for 2 to 10 clusters."
   ]
  },
  {
   "cell_type": "code",
   "execution_count": 28,
   "id": "87bf3495",
   "metadata": {},
   "outputs": [
    {
     "data": {
      "text/html": [
       "<div>\n",
       "<style scoped>\n",
       "    .dataframe tbody tr th:only-of-type {\n",
       "        vertical-align: middle;\n",
       "    }\n",
       "\n",
       "    .dataframe tbody tr th {\n",
       "        vertical-align: top;\n",
       "    }\n",
       "\n",
       "    .dataframe thead th {\n",
       "        text-align: right;\n",
       "    }\n",
       "</style>\n",
       "<table border=\"1\" class=\"dataframe\">\n",
       "  <thead>\n",
       "    <tr style=\"text-align: right;\">\n",
       "      <th></th>\n",
       "      <th>car_name</th>\n",
       "      <th>mpg</th>\n",
       "      <th>cyl</th>\n",
       "      <th>disp</th>\n",
       "      <th>hp</th>\n",
       "      <th>wt</th>\n",
       "      <th>acc</th>\n",
       "      <th>yr</th>\n",
       "    </tr>\n",
       "  </thead>\n",
       "  <tbody>\n",
       "    <tr>\n",
       "      <th>0</th>\n",
       "      <td>chevrolet chevelle malibu</td>\n",
       "      <td>18.0</td>\n",
       "      <td>8</td>\n",
       "      <td>307.0</td>\n",
       "      <td>130.0</td>\n",
       "      <td>3504</td>\n",
       "      <td>12.0</td>\n",
       "      <td>70</td>\n",
       "    </tr>\n",
       "    <tr>\n",
       "      <th>1</th>\n",
       "      <td>buick skylark 320</td>\n",
       "      <td>15.0</td>\n",
       "      <td>8</td>\n",
       "      <td>350.0</td>\n",
       "      <td>165.0</td>\n",
       "      <td>3693</td>\n",
       "      <td>11.5</td>\n",
       "      <td>70</td>\n",
       "    </tr>\n",
       "    <tr>\n",
       "      <th>2</th>\n",
       "      <td>plymouth satellite</td>\n",
       "      <td>18.0</td>\n",
       "      <td>8</td>\n",
       "      <td>318.0</td>\n",
       "      <td>150.0</td>\n",
       "      <td>3436</td>\n",
       "      <td>11.0</td>\n",
       "      <td>70</td>\n",
       "    </tr>\n",
       "    <tr>\n",
       "      <th>3</th>\n",
       "      <td>amc rebel sst</td>\n",
       "      <td>16.0</td>\n",
       "      <td>8</td>\n",
       "      <td>304.0</td>\n",
       "      <td>150.0</td>\n",
       "      <td>3433</td>\n",
       "      <td>12.0</td>\n",
       "      <td>70</td>\n",
       "    </tr>\n",
       "    <tr>\n",
       "      <th>4</th>\n",
       "      <td>ford torino</td>\n",
       "      <td>17.0</td>\n",
       "      <td>8</td>\n",
       "      <td>302.0</td>\n",
       "      <td>140.0</td>\n",
       "      <td>3449</td>\n",
       "      <td>10.5</td>\n",
       "      <td>70</td>\n",
       "    </tr>\n",
       "  </tbody>\n",
       "</table>\n",
       "</div>"
      ],
      "text/plain": [
       "                    car_name   mpg  cyl   disp     hp    wt   acc  yr\n",
       "0  chevrolet chevelle malibu  18.0    8  307.0  130.0  3504  12.0  70\n",
       "1          buick skylark 320  15.0    8  350.0  165.0  3693  11.5  70\n",
       "2         plymouth satellite  18.0    8  318.0  150.0  3436  11.0  70\n",
       "3              amc rebel sst  16.0    8  304.0  150.0  3433  12.0  70\n",
       "4                ford torino  17.0    8  302.0  140.0  3449  10.5  70"
      ]
     },
     "execution_count": 28,
     "metadata": {},
     "output_type": "execute_result"
    }
   ],
   "source": [
    "#separating numeric variables\n",
    "cc = car.iloc[:,0:8] \n",
    "cc.head()"
   ]
  },
  {
   "cell_type": "code",
   "execution_count": 29,
   "id": "38247695",
   "metadata": {},
   "outputs": [],
   "source": [
    "#dropping/ignoring car_name \n",
    "car = car.drop('car_name', axis=1)"
   ]
  },
  {
   "cell_type": "code",
   "execution_count": 30,
   "id": "630390ed",
   "metadata": {},
   "outputs": [
    {
     "data": {
      "text/html": [
       "<div>\n",
       "<style scoped>\n",
       "    .dataframe tbody tr th:only-of-type {\n",
       "        vertical-align: middle;\n",
       "    }\n",
       "\n",
       "    .dataframe tbody tr th {\n",
       "        vertical-align: top;\n",
       "    }\n",
       "\n",
       "    .dataframe thead th {\n",
       "        text-align: right;\n",
       "    }\n",
       "</style>\n",
       "<table border=\"1\" class=\"dataframe\">\n",
       "  <thead>\n",
       "    <tr style=\"text-align: right;\">\n",
       "      <th></th>\n",
       "      <th>mpg</th>\n",
       "      <th>cyl</th>\n",
       "      <th>disp</th>\n",
       "      <th>hp</th>\n",
       "      <th>wt</th>\n",
       "      <th>acc</th>\n",
       "      <th>yr</th>\n",
       "      <th>origin</th>\n",
       "    </tr>\n",
       "  </thead>\n",
       "  <tbody>\n",
       "    <tr>\n",
       "      <th>0</th>\n",
       "      <td>18.0</td>\n",
       "      <td>8</td>\n",
       "      <td>307.0</td>\n",
       "      <td>130.0</td>\n",
       "      <td>3504</td>\n",
       "      <td>12.0</td>\n",
       "      <td>70</td>\n",
       "      <td>1</td>\n",
       "    </tr>\n",
       "    <tr>\n",
       "      <th>1</th>\n",
       "      <td>15.0</td>\n",
       "      <td>8</td>\n",
       "      <td>350.0</td>\n",
       "      <td>165.0</td>\n",
       "      <td>3693</td>\n",
       "      <td>11.5</td>\n",
       "      <td>70</td>\n",
       "      <td>1</td>\n",
       "    </tr>\n",
       "    <tr>\n",
       "      <th>2</th>\n",
       "      <td>18.0</td>\n",
       "      <td>8</td>\n",
       "      <td>318.0</td>\n",
       "      <td>150.0</td>\n",
       "      <td>3436</td>\n",
       "      <td>11.0</td>\n",
       "      <td>70</td>\n",
       "      <td>1</td>\n",
       "    </tr>\n",
       "    <tr>\n",
       "      <th>3</th>\n",
       "      <td>16.0</td>\n",
       "      <td>8</td>\n",
       "      <td>304.0</td>\n",
       "      <td>150.0</td>\n",
       "      <td>3433</td>\n",
       "      <td>12.0</td>\n",
       "      <td>70</td>\n",
       "      <td>1</td>\n",
       "    </tr>\n",
       "    <tr>\n",
       "      <th>4</th>\n",
       "      <td>17.0</td>\n",
       "      <td>8</td>\n",
       "      <td>302.0</td>\n",
       "      <td>140.0</td>\n",
       "      <td>3449</td>\n",
       "      <td>10.5</td>\n",
       "      <td>70</td>\n",
       "      <td>1</td>\n",
       "    </tr>\n",
       "  </tbody>\n",
       "</table>\n",
       "</div>"
      ],
      "text/plain": [
       "    mpg  cyl   disp     hp    wt   acc  yr  origin\n",
       "0  18.0    8  307.0  130.0  3504  12.0  70       1\n",
       "1  15.0    8  350.0  165.0  3693  11.5  70       1\n",
       "2  18.0    8  318.0  150.0  3436  11.0  70       1\n",
       "3  16.0    8  304.0  150.0  3433  12.0  70       1\n",
       "4  17.0    8  302.0  140.0  3449  10.5  70       1"
      ]
     },
     "execution_count": 30,
     "metadata": {},
     "output_type": "execute_result"
    }
   ],
   "source": [
    "car.head()"
   ]
  },
  {
   "cell_type": "code",
   "execution_count": 31,
   "id": "00b435aa",
   "metadata": {},
   "outputs": [],
   "source": [
    "#dropping orign also as it is categorical\n",
    "car = car.drop('origin', axis=1)"
   ]
  },
  {
   "cell_type": "code",
   "execution_count": 32,
   "id": "5f9916b3",
   "metadata": {},
   "outputs": [
    {
     "data": {
      "text/html": [
       "<div>\n",
       "<style scoped>\n",
       "    .dataframe tbody tr th:only-of-type {\n",
       "        vertical-align: middle;\n",
       "    }\n",
       "\n",
       "    .dataframe tbody tr th {\n",
       "        vertical-align: top;\n",
       "    }\n",
       "\n",
       "    .dataframe thead th {\n",
       "        text-align: right;\n",
       "    }\n",
       "</style>\n",
       "<table border=\"1\" class=\"dataframe\">\n",
       "  <thead>\n",
       "    <tr style=\"text-align: right;\">\n",
       "      <th></th>\n",
       "      <th>mpg</th>\n",
       "      <th>cyl</th>\n",
       "      <th>disp</th>\n",
       "      <th>hp</th>\n",
       "      <th>wt</th>\n",
       "      <th>acc</th>\n",
       "      <th>yr</th>\n",
       "    </tr>\n",
       "  </thead>\n",
       "  <tbody>\n",
       "    <tr>\n",
       "      <th>0</th>\n",
       "      <td>18.0</td>\n",
       "      <td>8</td>\n",
       "      <td>307.0</td>\n",
       "      <td>130.0</td>\n",
       "      <td>3504</td>\n",
       "      <td>12.0</td>\n",
       "      <td>70</td>\n",
       "    </tr>\n",
       "    <tr>\n",
       "      <th>1</th>\n",
       "      <td>15.0</td>\n",
       "      <td>8</td>\n",
       "      <td>350.0</td>\n",
       "      <td>165.0</td>\n",
       "      <td>3693</td>\n",
       "      <td>11.5</td>\n",
       "      <td>70</td>\n",
       "    </tr>\n",
       "    <tr>\n",
       "      <th>2</th>\n",
       "      <td>18.0</td>\n",
       "      <td>8</td>\n",
       "      <td>318.0</td>\n",
       "      <td>150.0</td>\n",
       "      <td>3436</td>\n",
       "      <td>11.0</td>\n",
       "      <td>70</td>\n",
       "    </tr>\n",
       "    <tr>\n",
       "      <th>3</th>\n",
       "      <td>16.0</td>\n",
       "      <td>8</td>\n",
       "      <td>304.0</td>\n",
       "      <td>150.0</td>\n",
       "      <td>3433</td>\n",
       "      <td>12.0</td>\n",
       "      <td>70</td>\n",
       "    </tr>\n",
       "    <tr>\n",
       "      <th>4</th>\n",
       "      <td>17.0</td>\n",
       "      <td>8</td>\n",
       "      <td>302.0</td>\n",
       "      <td>140.0</td>\n",
       "      <td>3449</td>\n",
       "      <td>10.5</td>\n",
       "      <td>70</td>\n",
       "    </tr>\n",
       "  </tbody>\n",
       "</table>\n",
       "</div>"
      ],
      "text/plain": [
       "    mpg  cyl   disp     hp    wt   acc  yr\n",
       "0  18.0    8  307.0  130.0  3504  12.0  70\n",
       "1  15.0    8  350.0  165.0  3693  11.5  70\n",
       "2  18.0    8  318.0  150.0  3436  11.0  70\n",
       "3  16.0    8  304.0  150.0  3433  12.0  70\n",
       "4  17.0    8  302.0  140.0  3449  10.5  70"
      ]
     },
     "execution_count": 32,
     "metadata": {},
     "output_type": "execute_result"
    }
   ],
   "source": [
    "car.head()"
   ]
  },
  {
   "cell_type": "code",
   "execution_count": 33,
   "id": "9748eb11",
   "metadata": {},
   "outputs": [
    {
     "data": {
      "text/html": [
       "<div>\n",
       "<style scoped>\n",
       "    .dataframe tbody tr th:only-of-type {\n",
       "        vertical-align: middle;\n",
       "    }\n",
       "\n",
       "    .dataframe tbody tr th {\n",
       "        vertical-align: top;\n",
       "    }\n",
       "\n",
       "    .dataframe thead th {\n",
       "        text-align: right;\n",
       "    }\n",
       "</style>\n",
       "<table border=\"1\" class=\"dataframe\">\n",
       "  <thead>\n",
       "    <tr style=\"text-align: right;\">\n",
       "      <th></th>\n",
       "      <th>mpg</th>\n",
       "      <th>cyl</th>\n",
       "      <th>disp</th>\n",
       "      <th>hp</th>\n",
       "      <th>wt</th>\n",
       "      <th>acc</th>\n",
       "      <th>yr</th>\n",
       "    </tr>\n",
       "  </thead>\n",
       "  <tbody>\n",
       "    <tr>\n",
       "      <th>0</th>\n",
       "      <td>-0.706439</td>\n",
       "      <td>1.498191</td>\n",
       "      <td>1.090604</td>\n",
       "      <td>0.673118</td>\n",
       "      <td>0.630870</td>\n",
       "      <td>-1.295498</td>\n",
       "      <td>-1.627426</td>\n",
       "    </tr>\n",
       "    <tr>\n",
       "      <th>1</th>\n",
       "      <td>-1.090751</td>\n",
       "      <td>1.498191</td>\n",
       "      <td>1.503514</td>\n",
       "      <td>1.589958</td>\n",
       "      <td>0.854333</td>\n",
       "      <td>-1.477038</td>\n",
       "      <td>-1.627426</td>\n",
       "    </tr>\n",
       "    <tr>\n",
       "      <th>2</th>\n",
       "      <td>-0.706439</td>\n",
       "      <td>1.498191</td>\n",
       "      <td>1.196232</td>\n",
       "      <td>1.197027</td>\n",
       "      <td>0.550470</td>\n",
       "      <td>-1.658577</td>\n",
       "      <td>-1.627426</td>\n",
       "    </tr>\n",
       "    <tr>\n",
       "      <th>3</th>\n",
       "      <td>-0.962647</td>\n",
       "      <td>1.498191</td>\n",
       "      <td>1.061796</td>\n",
       "      <td>1.197027</td>\n",
       "      <td>0.546923</td>\n",
       "      <td>-1.295498</td>\n",
       "      <td>-1.627426</td>\n",
       "    </tr>\n",
       "    <tr>\n",
       "      <th>4</th>\n",
       "      <td>-0.834543</td>\n",
       "      <td>1.498191</td>\n",
       "      <td>1.042591</td>\n",
       "      <td>0.935072</td>\n",
       "      <td>0.565841</td>\n",
       "      <td>-1.840117</td>\n",
       "      <td>-1.627426</td>\n",
       "    </tr>\n",
       "  </tbody>\n",
       "</table>\n",
       "</div>"
      ],
      "text/plain": [
       "        mpg       cyl      disp        hp        wt       acc        yr\n",
       "0 -0.706439  1.498191  1.090604  0.673118  0.630870 -1.295498 -1.627426\n",
       "1 -1.090751  1.498191  1.503514  1.589958  0.854333 -1.477038 -1.627426\n",
       "2 -0.706439  1.498191  1.196232  1.197027  0.550470 -1.658577 -1.627426\n",
       "3 -0.962647  1.498191  1.061796  1.197027  0.546923 -1.295498 -1.627426\n",
       "4 -0.834543  1.498191  1.042591  0.935072  0.565841 -1.840117 -1.627426"
      ]
     },
     "execution_count": 33,
     "metadata": {},
     "output_type": "execute_result"
    }
   ],
   "source": [
    "car_z = car.apply(zscore)\n",
    "car_z.head()"
   ]
  },
  {
   "cell_type": "markdown",
   "id": "d8226a39",
   "metadata": {},
   "source": [
    "#### B. Plot a visual and find elbow point."
   ]
  },
  {
   "cell_type": "code",
   "execution_count": 34,
   "id": "628e5820",
   "metadata": {},
   "outputs": [
    {
     "data": {
      "text/plain": [
       "Text(0.5, 1.0, 'Selecting k with the Elbow Method')"
      ]
     },
     "execution_count": 34,
     "metadata": {},
     "output_type": "execute_result"
    },
    {
     "data": {
      "image/png": "[encoded data removed]",
      "text/plain": [
       "<Figure size 432x288 with 1 Axes>"
      ]
     },
     "metadata": {
      "needs_background": "light"
     },
     "output_type": "display_data"
    }
   ],
   "source": [
    "#Finding optimal no. of clusters\n",
    "from scipy.spatial.distance import cdist\n",
    "clusters=range(2,10)\n",
    "meanDistortions=[]\n",
    "\n",
    "for k in clusters:\n",
    "    model=KMeans(n_clusters=k)\n",
    "    model.fit(car_z)\n",
    "    prediction=model.predict(car_z)\n",
    "    meanDistortions.append(sum(np.min(cdist(car_z, model.cluster_centers_, 'euclidean'), axis=1)) / car_z.shape[0])\n",
    "\n",
    "\n",
    "plt.plot(clusters, meanDistortions, 'bx-')\n",
    "plt.xlabel('k')\n",
    "plt.ylabel('Average distortion')\n",
    "plt.title('Selecting k with the Elbow Method')"
   ]
  },
  {
   "cell_type": "markdown",
   "id": "3241193c",
   "metadata": {},
   "source": [
    "#### C. On the above visual, highlight which are the possible Elbow points."
   ]
  },
  {
   "cell_type": "code",
   "execution_count": 35,
   "id": "932e33dc",
   "metadata": {},
   "outputs": [
    {
     "name": "stdout",
     "output_type": "stream",
     "text": [
      "possible elbow points are 3 and 4\n"
     ]
    }
   ],
   "source": [
    "print('possible elbow points are 3 and 4')"
   ]
  },
  {
   "cell_type": "markdown",
   "id": "f7b9e502",
   "metadata": {},
   "source": [
    "#### D Train a K-means clustering model once again on the optimal number of clusters"
   ]
  },
  {
   "cell_type": "code",
   "execution_count": 36,
   "id": "655d7844",
   "metadata": {},
   "outputs": [],
   "source": [
    "# Let us first start with K = 3\n",
    "#using 2 centroids for clustering\n",
    "k_means = KMeans(n_clusters = 3)\n",
    "k_means.fit(car_z)\n",
    "labels = k_means.labels_"
   ]
  },
  {
   "cell_type": "code",
   "execution_count": 37,
   "id": "65966b52",
   "metadata": {},
   "outputs": [
    {
     "data": {
      "text/plain": [
       "0.35314791198988205"
      ]
     },
     "execution_count": 37,
     "metadata": {},
     "output_type": "execute_result"
    }
   ],
   "source": [
    "# Calculating silhouette_score\n",
    "from sklearn.metrics import silhouette_samples, silhouette_score\n",
    "silhouette_score(car_z,labels)"
   ]
  },
  {
   "cell_type": "code",
   "execution_count": 38,
   "id": "01c798f1",
   "metadata": {},
   "outputs": [],
   "source": [
    "# Let us first start with K = 4\n",
    "#using 2 centroids for clustering\n",
    "k_means = KMeans(n_clusters = 4)\n",
    "k_means.fit(car_z)\n",
    "labels = k_means.labels_"
   ]
  },
  {
   "cell_type": "code",
   "execution_count": 39,
   "id": "54eeb770",
   "metadata": {},
   "outputs": [
    {
     "data": {
      "text/plain": [
       "0.3481793333017884"
      ]
     },
     "execution_count": 39,
     "metadata": {},
     "output_type": "execute_result"
    }
   ],
   "source": [
    "silhouette_score(car_z,labels)"
   ]
  },
  {
   "cell_type": "code",
   "execution_count": 40,
   "id": "ea1f8346",
   "metadata": {},
   "outputs": [
    {
     "data": {
      "text/plain": [
       "0.46264452576184095"
      ]
     },
     "execution_count": 40,
     "metadata": {},
     "output_type": "execute_result"
    }
   ],
   "source": [
    "# Let us first start with K = 2\n",
    "#using 2 centroids for clustering\n",
    "k_means = KMeans(n_clusters = 2)\n",
    "k_means.fit(car_z)\n",
    "labels = k_means.labels_\n",
    "silhouette_score(car_z,labels)"
   ]
  },
  {
   "cell_type": "code",
   "execution_count": 41,
   "id": "0047c65f",
   "metadata": {},
   "outputs": [
    {
     "name": "stdout",
     "output_type": "stream",
     "text": [
      "Here silhoute score for K=2 is higher then of 3 and 4 so there will be 2 groups\n"
     ]
    }
   ],
   "source": [
    "print('Here silhoute score for K=2 is higher then of 3 and 4 so there will be 2 groups')"
   ]
  },
  {
   "cell_type": "code",
   "execution_count": 42,
   "id": "a40dbf34",
   "metadata": {},
   "outputs": [],
   "source": [
    "#calculating silhouette score for different centroids\n",
    "kmeans_kwargs = {\n",
    "   \"init\": \"random\",\n",
    "   \"n_init\": 10,\n",
    "   \"max_iter\": 300,\n",
    "   \"random_state\": 42,\n",
    "}\n",
    "\n",
    "\n",
    "silhouette_coefficients = []\n",
    "\n",
    " # Notice you start at 2 clusters for silhouette coefficient\n",
    "for k in range(2, 10):\n",
    "    kmeans = KMeans(n_clusters=k, **kmeans_kwargs)\n",
    "    kmeans.fit(car_z)\n",
    "    score = silhouette_score(car_z,kmeans.labels_)\n",
    "    silhouette_coefficients.append(score)\n",
    "    \n"
   ]
  },
  {
   "cell_type": "code",
   "execution_count": 43,
   "id": "0e44dc86",
   "metadata": {},
   "outputs": [
    {
     "data": {
      "image/png": "[encoded data removed]",
      "text/plain": [
       "<Figure size 432x288 with 1 Axes>"
      ]
     },
     "metadata": {
      "needs_background": "light"
     },
     "output_type": "display_data"
    }
   ],
   "source": [
    "#plotting silhouette score for different centroids\n",
    "plt.plot(range(2, 10), silhouette_coefficients)\n",
    "plt.xticks(range(2, 10))\n",
    "plt.xlabel(\"Number of Clusters\")\n",
    "plt.ylabel(\"Silhouette Coefficient\")\n",
    "plt.show()"
   ]
  },
  {
   "cell_type": "code",
   "execution_count": 44,
   "id": "ef543cf6",
   "metadata": {},
   "outputs": [
    {
     "data": {
      "text/plain": [
       "[2786.0,\n",
       " 1294.8418950727319,\n",
       " 946.0197908553794,\n",
       " 738.3923281527314,\n",
       " 665.4397633380624,\n",
       " 597.2867540207785,\n",
       " 541.3180240839058,\n",
       " 497.13623623775004,\n",
       " 454.0445407411571,\n",
       " 428.4486877980909]"
      ]
     },
     "execution_count": 44,
     "metadata": {},
     "output_type": "execute_result"
    }
   ],
   "source": [
    "#### Calculating WSS for other values of K - Elbow Method\n",
    "wss =[] \n",
    "for i in range(1,11):\n",
    "    KM = KMeans(n_clusters=i)\n",
    "    KM.fit(car_z)\n",
    "    wss.append(KM.inertia_)\n",
    "wss"
   ]
  },
  {
   "cell_type": "code",
   "execution_count": 45,
   "id": "2ac5d976",
   "metadata": {},
   "outputs": [
    {
     "data": {
      "text/plain": [
       "[<matplotlib.lines.Line2D at 0x7fcbc5548c40>]"
      ]
     },
     "execution_count": 45,
     "metadata": {},
     "output_type": "execute_result"
    },
    {
     "data": {
      "image/png": "[encoded data removed]",
      "text/plain": [
       "<Figure size 432x288 with 1 Axes>"
      ]
     },
     "metadata": {
      "needs_background": "light"
     },
     "output_type": "display_data"
    }
   ],
   "source": [
    "plt.plot(range(1,11), wss)"
   ]
  },
  {
   "cell_type": "code",
   "execution_count": 46,
   "id": "37ab1173",
   "metadata": {},
   "outputs": [
    {
     "data": {
      "text/html": [
       "<div>\n",
       "<style scoped>\n",
       "    .dataframe tbody tr th:only-of-type {\n",
       "        vertical-align: middle;\n",
       "    }\n",
       "\n",
       "    .dataframe tbody tr th {\n",
       "        vertical-align: top;\n",
       "    }\n",
       "\n",
       "    .dataframe thead th {\n",
       "        text-align: right;\n",
       "    }\n",
       "</style>\n",
       "<table border=\"1\" class=\"dataframe\">\n",
       "  <thead>\n",
       "    <tr style=\"text-align: right;\">\n",
       "      <th></th>\n",
       "      <th>mpg</th>\n",
       "      <th>cyl</th>\n",
       "      <th>disp</th>\n",
       "      <th>hp</th>\n",
       "      <th>wt</th>\n",
       "      <th>acc</th>\n",
       "      <th>yr</th>\n",
       "      <th>cluster_K</th>\n",
       "    </tr>\n",
       "  </thead>\n",
       "  <tbody>\n",
       "    <tr>\n",
       "      <th>0</th>\n",
       "      <td>18.0</td>\n",
       "      <td>8</td>\n",
       "      <td>307.0</td>\n",
       "      <td>130.0</td>\n",
       "      <td>3504</td>\n",
       "      <td>12.0</td>\n",
       "      <td>70</td>\n",
       "      <td>1</td>\n",
       "    </tr>\n",
       "    <tr>\n",
       "      <th>1</th>\n",
       "      <td>15.0</td>\n",
       "      <td>8</td>\n",
       "      <td>350.0</td>\n",
       "      <td>165.0</td>\n",
       "      <td>3693</td>\n",
       "      <td>11.5</td>\n",
       "      <td>70</td>\n",
       "      <td>1</td>\n",
       "    </tr>\n",
       "    <tr>\n",
       "      <th>2</th>\n",
       "      <td>18.0</td>\n",
       "      <td>8</td>\n",
       "      <td>318.0</td>\n",
       "      <td>150.0</td>\n",
       "      <td>3436</td>\n",
       "      <td>11.0</td>\n",
       "      <td>70</td>\n",
       "      <td>1</td>\n",
       "    </tr>\n",
       "    <tr>\n",
       "      <th>3</th>\n",
       "      <td>16.0</td>\n",
       "      <td>8</td>\n",
       "      <td>304.0</td>\n",
       "      <td>150.0</td>\n",
       "      <td>3433</td>\n",
       "      <td>12.0</td>\n",
       "      <td>70</td>\n",
       "      <td>1</td>\n",
       "    </tr>\n",
       "    <tr>\n",
       "      <th>4</th>\n",
       "      <td>17.0</td>\n",
       "      <td>8</td>\n",
       "      <td>302.0</td>\n",
       "      <td>140.0</td>\n",
       "      <td>3449</td>\n",
       "      <td>10.5</td>\n",
       "      <td>70</td>\n",
       "      <td>1</td>\n",
       "    </tr>\n",
       "  </tbody>\n",
       "</table>\n",
       "</div>"
      ],
      "text/plain": [
       "    mpg  cyl   disp     hp    wt   acc  yr  cluster_K\n",
       "0  18.0    8  307.0  130.0  3504  12.0  70          1\n",
       "1  15.0    8  350.0  165.0  3693  11.5  70          1\n",
       "2  18.0    8  318.0  150.0  3436  11.0  70          1\n",
       "3  16.0    8  304.0  150.0  3433  12.0  70          1\n",
       "4  17.0    8  302.0  140.0  3449  10.5  70          1"
      ]
     },
     "execution_count": 46,
     "metadata": {},
     "output_type": "execute_result"
    }
   ],
   "source": [
    "#attaching the labels to the datasets\n",
    "car[\"cluster_K\"] = labels\n",
    "car_z['cluster_K']=labels\n",
    "Kclus=car\n",
    "Kclus.head()"
   ]
  },
  {
   "cell_type": "code",
   "execution_count": 47,
   "id": "9afd8859",
   "metadata": {},
   "outputs": [
    {
     "data": {
      "text/plain": [
       "0    276\n",
       "1    122\n",
       "Name: cluster_K, dtype: int64"
      ]
     },
     "execution_count": 47,
     "metadata": {},
     "output_type": "execute_result"
    }
   ],
   "source": [
    "#vieweing the distribution of clusters\n",
    "car.cluster_K.value_counts().sort_index()"
   ]
  },
  {
   "cell_type": "markdown",
   "id": "20ae70cb",
   "metadata": {},
   "source": [
    "#### E Add a new feature in the DataFrame which will have labels based upon cluster value."
   ]
  },
  {
   "cell_type": "code",
   "execution_count": 48,
   "id": "ff0de3a4",
   "metadata": {},
   "outputs": [
    {
     "data": {
      "text/html": [
       "<div>\n",
       "<style scoped>\n",
       "    .dataframe tbody tr th:only-of-type {\n",
       "        vertical-align: middle;\n",
       "    }\n",
       "\n",
       "    .dataframe tbody tr th {\n",
       "        vertical-align: top;\n",
       "    }\n",
       "\n",
       "    .dataframe thead th {\n",
       "        text-align: right;\n",
       "    }\n",
       "</style>\n",
       "<table border=\"1\" class=\"dataframe\">\n",
       "  <thead>\n",
       "    <tr style=\"text-align: right;\">\n",
       "      <th></th>\n",
       "      <th>mpg</th>\n",
       "      <th>cyl</th>\n",
       "      <th>disp</th>\n",
       "      <th>hp</th>\n",
       "      <th>wt</th>\n",
       "      <th>acc</th>\n",
       "      <th>yr</th>\n",
       "      <th>cluster_K</th>\n",
       "    </tr>\n",
       "  </thead>\n",
       "  <tbody>\n",
       "    <tr>\n",
       "      <th>0</th>\n",
       "      <td>-0.706439</td>\n",
       "      <td>1.498191</td>\n",
       "      <td>1.090604</td>\n",
       "      <td>0.673118</td>\n",
       "      <td>0.630870</td>\n",
       "      <td>-1.295498</td>\n",
       "      <td>-1.627426</td>\n",
       "      <td>1</td>\n",
       "    </tr>\n",
       "    <tr>\n",
       "      <th>1</th>\n",
       "      <td>-1.090751</td>\n",
       "      <td>1.498191</td>\n",
       "      <td>1.503514</td>\n",
       "      <td>1.589958</td>\n",
       "      <td>0.854333</td>\n",
       "      <td>-1.477038</td>\n",
       "      <td>-1.627426</td>\n",
       "      <td>1</td>\n",
       "    </tr>\n",
       "    <tr>\n",
       "      <th>2</th>\n",
       "      <td>-0.706439</td>\n",
       "      <td>1.498191</td>\n",
       "      <td>1.196232</td>\n",
       "      <td>1.197027</td>\n",
       "      <td>0.550470</td>\n",
       "      <td>-1.658577</td>\n",
       "      <td>-1.627426</td>\n",
       "      <td>1</td>\n",
       "    </tr>\n",
       "    <tr>\n",
       "      <th>3</th>\n",
       "      <td>-0.962647</td>\n",
       "      <td>1.498191</td>\n",
       "      <td>1.061796</td>\n",
       "      <td>1.197027</td>\n",
       "      <td>0.546923</td>\n",
       "      <td>-1.295498</td>\n",
       "      <td>-1.627426</td>\n",
       "      <td>1</td>\n",
       "    </tr>\n",
       "    <tr>\n",
       "      <th>4</th>\n",
       "      <td>-0.834543</td>\n",
       "      <td>1.498191</td>\n",
       "      <td>1.042591</td>\n",
       "      <td>0.935072</td>\n",
       "      <td>0.565841</td>\n",
       "      <td>-1.840117</td>\n",
       "      <td>-1.627426</td>\n",
       "      <td>1</td>\n",
       "    </tr>\n",
       "    <tr>\n",
       "      <th>...</th>\n",
       "      <td>...</td>\n",
       "      <td>...</td>\n",
       "      <td>...</td>\n",
       "      <td>...</td>\n",
       "      <td>...</td>\n",
       "      <td>...</td>\n",
       "      <td>...</td>\n",
       "      <td>...</td>\n",
       "    </tr>\n",
       "    <tr>\n",
       "      <th>195</th>\n",
       "      <td>0.702705</td>\n",
       "      <td>-0.856321</td>\n",
       "      <td>-1.041167</td>\n",
       "      <td>-1.370127</td>\n",
       "      <td>-1.105994</td>\n",
       "      <td>2.407906</td>\n",
       "      <td>-0.002721</td>\n",
       "      <td>0</td>\n",
       "    </tr>\n",
       "    <tr>\n",
       "      <th>196</th>\n",
       "      <td>0.126237</td>\n",
       "      <td>-0.856321</td>\n",
       "      <td>-0.916334</td>\n",
       "      <td>-1.160564</td>\n",
       "      <td>-0.953472</td>\n",
       "      <td>2.371599</td>\n",
       "      <td>-0.002721</td>\n",
       "      <td>0</td>\n",
       "    </tr>\n",
       "    <tr>\n",
       "      <th>197</th>\n",
       "      <td>0.702705</td>\n",
       "      <td>-0.856321</td>\n",
       "      <td>-0.993154</td>\n",
       "      <td>-0.898609</td>\n",
       "      <td>-1.221864</td>\n",
       "      <td>-0.496725</td>\n",
       "      <td>-0.002721</td>\n",
       "      <td>0</td>\n",
       "    </tr>\n",
       "    <tr>\n",
       "      <th>198</th>\n",
       "      <td>1.215121</td>\n",
       "      <td>-0.856321</td>\n",
       "      <td>-0.983552</td>\n",
       "      <td>-1.343932</td>\n",
       "      <td>-1.389757</td>\n",
       "      <td>0.665128</td>\n",
       "      <td>-0.002721</td>\n",
       "      <td>0</td>\n",
       "    </tr>\n",
       "    <tr>\n",
       "      <th>199</th>\n",
       "      <td>-0.450231</td>\n",
       "      <td>0.320935</td>\n",
       "      <td>0.303193</td>\n",
       "      <td>-0.112746</td>\n",
       "      <td>0.804675</td>\n",
       "      <td>0.774051</td>\n",
       "      <td>-0.002721</td>\n",
       "      <td>0</td>\n",
       "    </tr>\n",
       "  </tbody>\n",
       "</table>\n",
       "<p>200 rows × 8 columns</p>\n",
       "</div>"
      ],
      "text/plain": [
       "          mpg       cyl      disp        hp        wt       acc        yr  \\\n",
       "0   -0.706439  1.498191  1.090604  0.673118  0.630870 -1.295498 -1.627426   \n",
       "1   -1.090751  1.498191  1.503514  1.589958  0.854333 -1.477038 -1.627426   \n",
       "2   -0.706439  1.498191  1.196232  1.197027  0.550470 -1.658577 -1.627426   \n",
       "3   -0.962647  1.498191  1.061796  1.197027  0.546923 -1.295498 -1.627426   \n",
       "4   -0.834543  1.498191  1.042591  0.935072  0.565841 -1.840117 -1.627426   \n",
       "..        ...       ...       ...       ...       ...       ...       ...   \n",
       "195  0.702705 -0.856321 -1.041167 -1.370127 -1.105994  2.407906 -0.002721   \n",
       "196  0.126237 -0.856321 -0.916334 -1.160564 -0.953472  2.371599 -0.002721   \n",
       "197  0.702705 -0.856321 -0.993154 -0.898609 -1.221864 -0.496725 -0.002721   \n",
       "198  1.215121 -0.856321 -0.983552 -1.343932 -1.389757  0.665128 -0.002721   \n",
       "199 -0.450231  0.320935  0.303193 -0.112746  0.804675  0.774051 -0.002721   \n",
       "\n",
       "     cluster_K  \n",
       "0            1  \n",
       "1            1  \n",
       "2            1  \n",
       "3            1  \n",
       "4            1  \n",
       "..         ...  \n",
       "195          0  \n",
       "196          0  \n",
       "197          0  \n",
       "198          0  \n",
       "199          0  \n",
       "\n",
       "[200 rows x 8 columns]"
      ]
     },
     "execution_count": 48,
     "metadata": {},
     "output_type": "execute_result"
    }
   ],
   "source": [
    "#attaching the clsuters to the scaled data\n",
    "car_z[\"cluster_K\"] = labels\n",
    "car_z.head(200)"
   ]
  },
  {
   "cell_type": "code",
   "execution_count": 49,
   "id": "72b47220",
   "metadata": {},
   "outputs": [
    {
     "data": {
      "text/plain": [
       "0    276\n",
       "1    122\n",
       "Name: cluster_K, dtype: int64"
      ]
     },
     "execution_count": 49,
     "metadata": {},
     "output_type": "execute_result"
    }
   ],
   "source": [
    "#vieweing the distribution of clusters\n",
    "car_z.cluster_K.value_counts().sort_index()"
   ]
  },
  {
   "cell_type": "code",
   "execution_count": 50,
   "id": "2a522925",
   "metadata": {},
   "outputs": [
    {
     "data": {
      "text/html": [
       "<div>\n",
       "<style scoped>\n",
       "    .dataframe tbody tr th:only-of-type {\n",
       "        vertical-align: middle;\n",
       "    }\n",
       "\n",
       "    .dataframe tbody tr th {\n",
       "        vertical-align: top;\n",
       "    }\n",
       "\n",
       "    .dataframe thead th {\n",
       "        text-align: right;\n",
       "    }\n",
       "</style>\n",
       "<table border=\"1\" class=\"dataframe\">\n",
       "  <thead>\n",
       "    <tr style=\"text-align: right;\">\n",
       "      <th></th>\n",
       "      <th>mpg</th>\n",
       "      <th>cyl</th>\n",
       "      <th>disp</th>\n",
       "      <th>hp</th>\n",
       "      <th>wt</th>\n",
       "      <th>acc</th>\n",
       "      <th>yr</th>\n",
       "      <th>Freq</th>\n",
       "    </tr>\n",
       "    <tr>\n",
       "      <th>cluster_K</th>\n",
       "      <th></th>\n",
       "      <th></th>\n",
       "      <th></th>\n",
       "      <th></th>\n",
       "      <th></th>\n",
       "      <th></th>\n",
       "      <th></th>\n",
       "      <th></th>\n",
       "    </tr>\n",
       "  </thead>\n",
       "  <tbody>\n",
       "    <tr>\n",
       "      <th>0</th>\n",
       "      <td>27.156522</td>\n",
       "      <td>4.474638</td>\n",
       "      <td>133.559783</td>\n",
       "      <td>83.865942</td>\n",
       "      <td>2511.485507</td>\n",
       "      <td>16.543841</td>\n",
       "      <td>76.974638</td>\n",
       "      <td>276</td>\n",
       "    </tr>\n",
       "    <tr>\n",
       "      <th>1</th>\n",
       "      <td>15.275410</td>\n",
       "      <td>7.672131</td>\n",
       "      <td>328.860656</td>\n",
       "      <td>150.540984</td>\n",
       "      <td>4008.680328</td>\n",
       "      <td>13.360656</td>\n",
       "      <td>73.827869</td>\n",
       "      <td>122</td>\n",
       "    </tr>\n",
       "  </tbody>\n",
       "</table>\n",
       "</div>"
      ],
      "text/plain": [
       "                 mpg       cyl        disp          hp           wt  \\\n",
       "cluster_K                                                             \n",
       "0          27.156522  4.474638  133.559783   83.865942  2511.485507   \n",
       "1          15.275410  7.672131  328.860656  150.540984  4008.680328   \n",
       "\n",
       "                 acc         yr  Freq  \n",
       "cluster_K                              \n",
       "0          16.543841  76.974638   276  \n",
       "1          13.360656  73.827869   122  "
      ]
     },
     "execution_count": 50,
     "metadata": {},
     "output_type": "execute_result"
    }
   ],
   "source": [
    "#aggregating the numerical variable with the clusters formed with the mean\n",
    "aggdata=car.groupby('cluster_K').mean()\n",
    "aggdata['Freq']=car.cluster_K.value_counts().sort_index()\n",
    "aggdata"
   ]
  },
  {
   "cell_type": "markdown",
   "id": "fa5d6165",
   "metadata": {},
   "source": [
    "#### F Plot a visual and color the datapoints based upon clusters."
   ]
  },
  {
   "cell_type": "code",
   "execution_count": 51,
   "id": "bf24dd1e",
   "metadata": {},
   "outputs": [
    {
     "data": {
      "image/png": "[encoded data removed]",
      "text/plain": [
       "<Figure size 720x576 with 1 Axes>"
      ]
     },
     "metadata": {
      "needs_background": "light"
     },
     "output_type": "display_data"
    }
   ],
   "source": [
    "#plotting the clusters\n",
    "plt.figure(figsize=(10, 8))\n",
    "sns.scatterplot(x=\"mpg\", y=\"hp\", hue=\"cluster_K\",\n",
    "              data=car_z, \n",
    "                    palette=['green','brown']);"
   ]
  },
  {
   "cell_type": "markdown",
   "id": "42c9001a",
   "metadata": {},
   "source": [
    "##### Cluster 0 are with high hp and less mpg"
   ]
  },
  {
   "cell_type": "markdown",
   "id": "222acef0",
   "metadata": {},
   "source": [
    "#### cluster 1 classified low hp and higher mpg"
   ]
  },
  {
   "cell_type": "code",
   "execution_count": 52,
   "id": "c60969e3",
   "metadata": {},
   "outputs": [
    {
     "data": {
      "text/plain": [
       "array([[<AxesSubplot:title={'center':'acc'}, xlabel='[cluster_K]'>,\n",
       "        <AxesSubplot:title={'center':'cyl'}, xlabel='[cluster_K]'>,\n",
       "        <AxesSubplot:title={'center':'disp'}, xlabel='[cluster_K]'>,\n",
       "        <AxesSubplot:title={'center':'hp'}, xlabel='[cluster_K]'>],\n",
       "       [<AxesSubplot:title={'center':'mpg'}, xlabel='[cluster_K]'>,\n",
       "        <AxesSubplot:title={'center':'wt'}, xlabel='[cluster_K]'>,\n",
       "        <AxesSubplot:title={'center':'yr'}, xlabel='[cluster_K]'>,\n",
       "        <AxesSubplot:>]], dtype=object)"
      ]
     },
     "execution_count": 52,
     "metadata": {},
     "output_type": "execute_result"
    },
    {
     "data": {
      "image/png": "[encoded data removed]",
      "text/plain": [
       "<Figure size 1080x720 with 8 Axes>"
      ]
     },
     "metadata": {
      "needs_background": "light"
     },
     "output_type": "display_data"
    }
   ],
   "source": [
    "car_z.boxplot(by='cluster_K', layout = (2,4),figsize=(15,10))"
   ]
  },
  {
   "cell_type": "markdown",
   "id": "60285bdc",
   "metadata": {},
   "source": [
    "#### • DOMAIN: Automobile\n",
    "#### • CONTEXT: The purpose is to classify a given silhouette as one of three types of vehicle, using a set of features extracted from the silhouette. The vehicle may be viewed from one of many different angles.\n",
    "#### DATA DESCRIPTION: The data contains features extracted from the silhouette of vehicles in different angles. Four \"Corgie\" model vehicles were used for the experiment: a double decker bus, Cheverolet van, Saab 9000 and an Opel Manta 400 cars. This particular combination of vehicles was chosen with the expectation that the bus, van and either one of the cars would be readily distinguishable, but it would be more difficult to distinguish between the cars.\n",
    "#### • All the features are numeric i.e. geometric features extracted from the silhouette.\n",
    "#### • PROJECT OBJECTIVE: Apply dimensionality reduction technique – PCA and train a model and compare relative results."
   ]
  },
  {
   "cell_type": "markdown",
   "id": "9fd7511c",
   "metadata": {},
   "source": [
    "#### 1. Data Understanding & Cleaning:"
   ]
  },
  {
   "cell_type": "markdown",
   "id": "40321dc6",
   "metadata": {},
   "source": [
    "#### A. Read ‘vehicle.csv’ and save as DataFrame."
   ]
  },
  {
   "cell_type": "code",
   "execution_count": 53,
   "id": "15f77bf4",
   "metadata": {},
   "outputs": [],
   "source": [
    "vehicle = pd.read_csv('Vehicle.csv')"
   ]
  },
  {
   "cell_type": "code",
   "execution_count": 54,
   "id": "5577ac7a",
   "metadata": {},
   "outputs": [
    {
     "data": {
      "text/html": [
       "<div>\n",
       "<style scoped>\n",
       "    .dataframe tbody tr th:only-of-type {\n",
       "        vertical-align: middle;\n",
       "    }\n",
       "\n",
       "    .dataframe tbody tr th {\n",
       "        vertical-align: top;\n",
       "    }\n",
       "\n",
       "    .dataframe thead th {\n",
       "        text-align: right;\n",
       "    }\n",
       "</style>\n",
       "<table border=\"1\" class=\"dataframe\">\n",
       "  <thead>\n",
       "    <tr style=\"text-align: right;\">\n",
       "      <th></th>\n",
       "      <th>compactness</th>\n",
       "      <th>circularity</th>\n",
       "      <th>distance_circularity</th>\n",
       "      <th>radius_ratio</th>\n",
       "      <th>pr.axis_aspect_ratio</th>\n",
       "      <th>max.length_aspect_ratio</th>\n",
       "      <th>scatter_ratio</th>\n",
       "      <th>elongatedness</th>\n",
       "      <th>pr.axis_rectangularity</th>\n",
       "      <th>max.length_rectangularity</th>\n",
       "      <th>scaled_variance</th>\n",
       "      <th>scaled_variance.1</th>\n",
       "      <th>scaled_radius_of_gyration</th>\n",
       "      <th>scaled_radius_of_gyration.1</th>\n",
       "      <th>skewness_about</th>\n",
       "      <th>skewness_about.1</th>\n",
       "      <th>skewness_about.2</th>\n",
       "      <th>hollows_ratio</th>\n",
       "      <th>class</th>\n",
       "    </tr>\n",
       "  </thead>\n",
       "  <tbody>\n",
       "    <tr>\n",
       "      <th>0</th>\n",
       "      <td>95</td>\n",
       "      <td>48.0</td>\n",
       "      <td>83.0</td>\n",
       "      <td>178.0</td>\n",
       "      <td>72.0</td>\n",
       "      <td>10</td>\n",
       "      <td>162.0</td>\n",
       "      <td>42.0</td>\n",
       "      <td>20.0</td>\n",
       "      <td>159</td>\n",
       "      <td>176.0</td>\n",
       "      <td>379.0</td>\n",
       "      <td>184.0</td>\n",
       "      <td>70.0</td>\n",
       "      <td>6.0</td>\n",
       "      <td>16.0</td>\n",
       "      <td>187.0</td>\n",
       "      <td>197</td>\n",
       "      <td>van</td>\n",
       "    </tr>\n",
       "    <tr>\n",
       "      <th>1</th>\n",
       "      <td>91</td>\n",
       "      <td>41.0</td>\n",
       "      <td>84.0</td>\n",
       "      <td>141.0</td>\n",
       "      <td>57.0</td>\n",
       "      <td>9</td>\n",
       "      <td>149.0</td>\n",
       "      <td>45.0</td>\n",
       "      <td>19.0</td>\n",
       "      <td>143</td>\n",
       "      <td>170.0</td>\n",
       "      <td>330.0</td>\n",
       "      <td>158.0</td>\n",
       "      <td>72.0</td>\n",
       "      <td>9.0</td>\n",
       "      <td>14.0</td>\n",
       "      <td>189.0</td>\n",
       "      <td>199</td>\n",
       "      <td>van</td>\n",
       "    </tr>\n",
       "    <tr>\n",
       "      <th>2</th>\n",
       "      <td>104</td>\n",
       "      <td>50.0</td>\n",
       "      <td>106.0</td>\n",
       "      <td>209.0</td>\n",
       "      <td>66.0</td>\n",
       "      <td>10</td>\n",
       "      <td>207.0</td>\n",
       "      <td>32.0</td>\n",
       "      <td>23.0</td>\n",
       "      <td>158</td>\n",
       "      <td>223.0</td>\n",
       "      <td>635.0</td>\n",
       "      <td>220.0</td>\n",
       "      <td>73.0</td>\n",
       "      <td>14.0</td>\n",
       "      <td>9.0</td>\n",
       "      <td>188.0</td>\n",
       "      <td>196</td>\n",
       "      <td>car</td>\n",
       "    </tr>\n",
       "    <tr>\n",
       "      <th>3</th>\n",
       "      <td>93</td>\n",
       "      <td>41.0</td>\n",
       "      <td>82.0</td>\n",
       "      <td>159.0</td>\n",
       "      <td>63.0</td>\n",
       "      <td>9</td>\n",
       "      <td>144.0</td>\n",
       "      <td>46.0</td>\n",
       "      <td>19.0</td>\n",
       "      <td>143</td>\n",
       "      <td>160.0</td>\n",
       "      <td>309.0</td>\n",
       "      <td>127.0</td>\n",
       "      <td>63.0</td>\n",
       "      <td>6.0</td>\n",
       "      <td>10.0</td>\n",
       "      <td>199.0</td>\n",
       "      <td>207</td>\n",
       "      <td>van</td>\n",
       "    </tr>\n",
       "    <tr>\n",
       "      <th>4</th>\n",
       "      <td>85</td>\n",
       "      <td>44.0</td>\n",
       "      <td>70.0</td>\n",
       "      <td>205.0</td>\n",
       "      <td>103.0</td>\n",
       "      <td>52</td>\n",
       "      <td>149.0</td>\n",
       "      <td>45.0</td>\n",
       "      <td>19.0</td>\n",
       "      <td>144</td>\n",
       "      <td>241.0</td>\n",
       "      <td>325.0</td>\n",
       "      <td>188.0</td>\n",
       "      <td>127.0</td>\n",
       "      <td>9.0</td>\n",
       "      <td>11.0</td>\n",
       "      <td>180.0</td>\n",
       "      <td>183</td>\n",
       "      <td>bus</td>\n",
       "    </tr>\n",
       "    <tr>\n",
       "      <th>...</th>\n",
       "      <td>...</td>\n",
       "      <td>...</td>\n",
       "      <td>...</td>\n",
       "      <td>...</td>\n",
       "      <td>...</td>\n",
       "      <td>...</td>\n",
       "      <td>...</td>\n",
       "      <td>...</td>\n",
       "      <td>...</td>\n",
       "      <td>...</td>\n",
       "      <td>...</td>\n",
       "      <td>...</td>\n",
       "      <td>...</td>\n",
       "      <td>...</td>\n",
       "      <td>...</td>\n",
       "      <td>...</td>\n",
       "      <td>...</td>\n",
       "      <td>...</td>\n",
       "      <td>...</td>\n",
       "    </tr>\n",
       "    <tr>\n",
       "      <th>841</th>\n",
       "      <td>93</td>\n",
       "      <td>39.0</td>\n",
       "      <td>87.0</td>\n",
       "      <td>183.0</td>\n",
       "      <td>64.0</td>\n",
       "      <td>8</td>\n",
       "      <td>169.0</td>\n",
       "      <td>40.0</td>\n",
       "      <td>20.0</td>\n",
       "      <td>134</td>\n",
       "      <td>200.0</td>\n",
       "      <td>422.0</td>\n",
       "      <td>149.0</td>\n",
       "      <td>72.0</td>\n",
       "      <td>7.0</td>\n",
       "      <td>25.0</td>\n",
       "      <td>188.0</td>\n",
       "      <td>195</td>\n",
       "      <td>car</td>\n",
       "    </tr>\n",
       "    <tr>\n",
       "      <th>842</th>\n",
       "      <td>89</td>\n",
       "      <td>46.0</td>\n",
       "      <td>84.0</td>\n",
       "      <td>163.0</td>\n",
       "      <td>66.0</td>\n",
       "      <td>11</td>\n",
       "      <td>159.0</td>\n",
       "      <td>43.0</td>\n",
       "      <td>20.0</td>\n",
       "      <td>159</td>\n",
       "      <td>173.0</td>\n",
       "      <td>368.0</td>\n",
       "      <td>176.0</td>\n",
       "      <td>72.0</td>\n",
       "      <td>1.0</td>\n",
       "      <td>20.0</td>\n",
       "      <td>186.0</td>\n",
       "      <td>197</td>\n",
       "      <td>van</td>\n",
       "    </tr>\n",
       "    <tr>\n",
       "      <th>843</th>\n",
       "      <td>106</td>\n",
       "      <td>54.0</td>\n",
       "      <td>101.0</td>\n",
       "      <td>222.0</td>\n",
       "      <td>67.0</td>\n",
       "      <td>12</td>\n",
       "      <td>222.0</td>\n",
       "      <td>30.0</td>\n",
       "      <td>25.0</td>\n",
       "      <td>173</td>\n",
       "      <td>228.0</td>\n",
       "      <td>721.0</td>\n",
       "      <td>200.0</td>\n",
       "      <td>70.0</td>\n",
       "      <td>3.0</td>\n",
       "      <td>4.0</td>\n",
       "      <td>187.0</td>\n",
       "      <td>201</td>\n",
       "      <td>car</td>\n",
       "    </tr>\n",
       "    <tr>\n",
       "      <th>844</th>\n",
       "      <td>86</td>\n",
       "      <td>36.0</td>\n",
       "      <td>78.0</td>\n",
       "      <td>146.0</td>\n",
       "      <td>58.0</td>\n",
       "      <td>7</td>\n",
       "      <td>135.0</td>\n",
       "      <td>50.0</td>\n",
       "      <td>18.0</td>\n",
       "      <td>124</td>\n",
       "      <td>155.0</td>\n",
       "      <td>270.0</td>\n",
       "      <td>148.0</td>\n",
       "      <td>66.0</td>\n",
       "      <td>0.0</td>\n",
       "      <td>25.0</td>\n",
       "      <td>190.0</td>\n",
       "      <td>195</td>\n",
       "      <td>car</td>\n",
       "    </tr>\n",
       "    <tr>\n",
       "      <th>845</th>\n",
       "      <td>85</td>\n",
       "      <td>36.0</td>\n",
       "      <td>66.0</td>\n",
       "      <td>123.0</td>\n",
       "      <td>55.0</td>\n",
       "      <td>5</td>\n",
       "      <td>120.0</td>\n",
       "      <td>56.0</td>\n",
       "      <td>17.0</td>\n",
       "      <td>128</td>\n",
       "      <td>140.0</td>\n",
       "      <td>212.0</td>\n",
       "      <td>131.0</td>\n",
       "      <td>73.0</td>\n",
       "      <td>1.0</td>\n",
       "      <td>18.0</td>\n",
       "      <td>186.0</td>\n",
       "      <td>190</td>\n",
       "      <td>van</td>\n",
       "    </tr>\n",
       "  </tbody>\n",
       "</table>\n",
       "<p>846 rows × 19 columns</p>\n",
       "</div>"
      ],
      "text/plain": [
       "     compactness  circularity  distance_circularity  radius_ratio  \\\n",
       "0             95         48.0                  83.0         178.0   \n",
       "1             91         41.0                  84.0         141.0   \n",
       "2            104         50.0                 106.0         209.0   \n",
       "3             93         41.0                  82.0         159.0   \n",
       "4             85         44.0                  70.0         205.0   \n",
       "..           ...          ...                   ...           ...   \n",
       "841           93         39.0                  87.0         183.0   \n",
       "842           89         46.0                  84.0         163.0   \n",
       "843          106         54.0                 101.0         222.0   \n",
       "844           86         36.0                  78.0         146.0   \n",
       "845           85         36.0                  66.0         123.0   \n",
       "\n",
       "     pr.axis_aspect_ratio  max.length_aspect_ratio  scatter_ratio  \\\n",
       "0                    72.0                       10          162.0   \n",
       "1                    57.0                        9          149.0   \n",
       "2                    66.0                       10          207.0   \n",
       "3                    63.0                        9          144.0   \n",
       "4                   103.0                       52          149.0   \n",
       "..                    ...                      ...            ...   \n",
       "841                  64.0                        8          169.0   \n",
       "842                  66.0                       11          159.0   \n",
       "843                  67.0                       12          222.0   \n",
       "844                  58.0                        7          135.0   \n",
       "845                  55.0                        5          120.0   \n",
       "\n",
       "     elongatedness  pr.axis_rectangularity  max.length_rectangularity  \\\n",
       "0             42.0                    20.0                        159   \n",
       "1             45.0                    19.0                        143   \n",
       "2             32.0                    23.0                        158   \n",
       "3             46.0                    19.0                        143   \n",
       "4             45.0                    19.0                        144   \n",
       "..             ...                     ...                        ...   \n",
       "841           40.0                    20.0                        134   \n",
       "842           43.0                    20.0                        159   \n",
       "843           30.0                    25.0                        173   \n",
       "844           50.0                    18.0                        124   \n",
       "845           56.0                    17.0                        128   \n",
       "\n",
       "     scaled_variance  scaled_variance.1  scaled_radius_of_gyration  \\\n",
       "0              176.0              379.0                      184.0   \n",
       "1              170.0              330.0                      158.0   \n",
       "2              223.0              635.0                      220.0   \n",
       "3              160.0              309.0                      127.0   \n",
       "4              241.0              325.0                      188.0   \n",
       "..               ...                ...                        ...   \n",
       "841            200.0              422.0                      149.0   \n",
       "842            173.0              368.0                      176.0   \n",
       "843            228.0              721.0                      200.0   \n",
       "844            155.0              270.0                      148.0   \n",
       "845            140.0              212.0                      131.0   \n",
       "\n",
       "     scaled_radius_of_gyration.1  skewness_about  skewness_about.1  \\\n",
       "0                           70.0             6.0              16.0   \n",
       "1                           72.0             9.0              14.0   \n",
       "2                           73.0            14.0               9.0   \n",
       "3                           63.0             6.0              10.0   \n",
       "4                          127.0             9.0              11.0   \n",
       "..                           ...             ...               ...   \n",
       "841                         72.0             7.0              25.0   \n",
       "842                         72.0             1.0              20.0   \n",
       "843                         70.0             3.0               4.0   \n",
       "844                         66.0             0.0              25.0   \n",
       "845                         73.0             1.0              18.0   \n",
       "\n",
       "     skewness_about.2  hollows_ratio class  \n",
       "0               187.0            197   van  \n",
       "1               189.0            199   van  \n",
       "2               188.0            196   car  \n",
       "3               199.0            207   van  \n",
       "4               180.0            183   bus  \n",
       "..                ...            ...   ...  \n",
       "841             188.0            195   car  \n",
       "842             186.0            197   van  \n",
       "843             187.0            201   car  \n",
       "844             190.0            195   car  \n",
       "845             186.0            190   van  \n",
       "\n",
       "[846 rows x 19 columns]"
      ]
     },
     "execution_count": 54,
     "metadata": {},
     "output_type": "execute_result"
    }
   ],
   "source": [
    "vehicle"
   ]
  },
  {
   "cell_type": "code",
   "execution_count": 55,
   "id": "a6e6aa33",
   "metadata": {},
   "outputs": [
    {
     "data": {
      "text/plain": [
       "(846, 19)"
      ]
     },
     "execution_count": 55,
     "metadata": {},
     "output_type": "execute_result"
    }
   ],
   "source": [
    "vehicle.shape"
   ]
  },
  {
   "cell_type": "markdown",
   "id": "e9d31d7c",
   "metadata": {},
   "source": [
    "#### B. Check percentage of missing values and impute with correct approach."
   ]
  },
  {
   "cell_type": "code",
   "execution_count": 56,
   "id": "ffa67eb5",
   "metadata": {},
   "outputs": [
    {
     "data": {
      "text/plain": [
       "circularity                    5\n",
       "distance_circularity           4\n",
       "radius_ratio                   6\n",
       "pr.axis_aspect_ratio           2\n",
       "scatter_ratio                  1\n",
       "elongatedness                  1\n",
       "pr.axis_rectangularity         3\n",
       "scaled_variance                3\n",
       "scaled_variance.1              2\n",
       "scaled_radius_of_gyration      2\n",
       "scaled_radius_of_gyration.1    4\n",
       "skewness_about                 6\n",
       "skewness_about.1               1\n",
       "skewness_about.2               1\n",
       "dtype: int64"
      ]
     },
     "execution_count": 56,
     "metadata": {},
     "output_type": "execute_result"
    }
   ],
   "source": [
    "#Columns having missing values\n",
    "missing_values_cols=vehicle.columns[vehicle.isnull().any()]\n",
    "# Number of missing values in each column\n",
    "vehicle[missing_values_cols].isnull().sum()"
   ]
  },
  {
   "cell_type": "code",
   "execution_count": 57,
   "id": "5cb771c5",
   "metadata": {},
   "outputs": [
    {
     "data": {
      "text/html": [
       "<div>\n",
       "<style scoped>\n",
       "    .dataframe tbody tr th:only-of-type {\n",
       "        vertical-align: middle;\n",
       "    }\n",
       "\n",
       "    .dataframe tbody tr th {\n",
       "        vertical-align: top;\n",
       "    }\n",
       "\n",
       "    .dataframe thead th {\n",
       "        text-align: right;\n",
       "    }\n",
       "</style>\n",
       "<table border=\"1\" class=\"dataframe\">\n",
       "  <thead>\n",
       "    <tr style=\"text-align: right;\">\n",
       "      <th></th>\n",
       "      <th>circularity</th>\n",
       "      <th>distance_circularity</th>\n",
       "      <th>radius_ratio</th>\n",
       "      <th>pr.axis_aspect_ratio</th>\n",
       "      <th>scatter_ratio</th>\n",
       "      <th>elongatedness</th>\n",
       "      <th>pr.axis_rectangularity</th>\n",
       "      <th>scaled_variance</th>\n",
       "      <th>scaled_variance.1</th>\n",
       "      <th>scaled_radius_of_gyration</th>\n",
       "      <th>scaled_radius_of_gyration.1</th>\n",
       "      <th>skewness_about</th>\n",
       "      <th>skewness_about.1</th>\n",
       "      <th>skewness_about.2</th>\n",
       "    </tr>\n",
       "  </thead>\n",
       "  <tbody>\n",
       "    <tr>\n",
       "      <th>5</th>\n",
       "      <td>NaN</td>\n",
       "      <td>106.0</td>\n",
       "      <td>172.0</td>\n",
       "      <td>50.0</td>\n",
       "      <td>255.0</td>\n",
       "      <td>26.0</td>\n",
       "      <td>28.0</td>\n",
       "      <td>280.0</td>\n",
       "      <td>957.0</td>\n",
       "      <td>264.0</td>\n",
       "      <td>85.0</td>\n",
       "      <td>5.0</td>\n",
       "      <td>9.0</td>\n",
       "      <td>181.0</td>\n",
       "    </tr>\n",
       "    <tr>\n",
       "      <th>9</th>\n",
       "      <td>44.0</td>\n",
       "      <td>98.0</td>\n",
       "      <td>NaN</td>\n",
       "      <td>62.0</td>\n",
       "      <td>183.0</td>\n",
       "      <td>36.0</td>\n",
       "      <td>22.0</td>\n",
       "      <td>202.0</td>\n",
       "      <td>505.0</td>\n",
       "      <td>152.0</td>\n",
       "      <td>64.0</td>\n",
       "      <td>4.0</td>\n",
       "      <td>14.0</td>\n",
       "      <td>195.0</td>\n",
       "    </tr>\n",
       "    <tr>\n",
       "      <th>19</th>\n",
       "      <td>56.0</td>\n",
       "      <td>100.0</td>\n",
       "      <td>215.0</td>\n",
       "      <td>NaN</td>\n",
       "      <td>208.0</td>\n",
       "      <td>32.0</td>\n",
       "      <td>24.0</td>\n",
       "      <td>227.0</td>\n",
       "      <td>651.0</td>\n",
       "      <td>223.0</td>\n",
       "      <td>74.0</td>\n",
       "      <td>6.0</td>\n",
       "      <td>5.0</td>\n",
       "      <td>186.0</td>\n",
       "    </tr>\n",
       "    <tr>\n",
       "      <th>35</th>\n",
       "      <td>46.0</td>\n",
       "      <td>NaN</td>\n",
       "      <td>172.0</td>\n",
       "      <td>67.0</td>\n",
       "      <td>157.0</td>\n",
       "      <td>43.0</td>\n",
       "      <td>20.0</td>\n",
       "      <td>170.0</td>\n",
       "      <td>363.0</td>\n",
       "      <td>184.0</td>\n",
       "      <td>67.0</td>\n",
       "      <td>17.0</td>\n",
       "      <td>7.0</td>\n",
       "      <td>192.0</td>\n",
       "    </tr>\n",
       "    <tr>\n",
       "      <th>66</th>\n",
       "      <td>43.0</td>\n",
       "      <td>68.0</td>\n",
       "      <td>125.0</td>\n",
       "      <td>57.0</td>\n",
       "      <td>149.0</td>\n",
       "      <td>46.0</td>\n",
       "      <td>19.0</td>\n",
       "      <td>169.0</td>\n",
       "      <td>323.0</td>\n",
       "      <td>172.0</td>\n",
       "      <td>NaN</td>\n",
       "      <td>NaN</td>\n",
       "      <td>18.0</td>\n",
       "      <td>179.0</td>\n",
       "    </tr>\n",
       "  </tbody>\n",
       "</table>\n",
       "</div>"
      ],
      "text/plain": [
       "    circularity  distance_circularity  radius_ratio  pr.axis_aspect_ratio  \\\n",
       "5           NaN                 106.0         172.0                  50.0   \n",
       "9          44.0                  98.0           NaN                  62.0   \n",
       "19         56.0                 100.0         215.0                   NaN   \n",
       "35         46.0                   NaN         172.0                  67.0   \n",
       "66         43.0                  68.0         125.0                  57.0   \n",
       "\n",
       "    scatter_ratio  elongatedness  pr.axis_rectangularity  scaled_variance  \\\n",
       "5           255.0           26.0                    28.0            280.0   \n",
       "9           183.0           36.0                    22.0            202.0   \n",
       "19          208.0           32.0                    24.0            227.0   \n",
       "35          157.0           43.0                    20.0            170.0   \n",
       "66          149.0           46.0                    19.0            169.0   \n",
       "\n",
       "    scaled_variance.1  scaled_radius_of_gyration  scaled_radius_of_gyration.1  \\\n",
       "5               957.0                      264.0                         85.0   \n",
       "9               505.0                      152.0                         64.0   \n",
       "19              651.0                      223.0                         74.0   \n",
       "35              363.0                      184.0                         67.0   \n",
       "66              323.0                      172.0                          NaN   \n",
       "\n",
       "    skewness_about  skewness_about.1  skewness_about.2  \n",
       "5              5.0               9.0             181.0  \n",
       "9              4.0              14.0             195.0  \n",
       "19             6.0               5.0             186.0  \n",
       "35            17.0               7.0             192.0  \n",
       "66             NaN              18.0             179.0  "
      ]
     },
     "execution_count": 57,
     "metadata": {},
     "output_type": "execute_result"
    }
   ],
   "source": [
    "#List all the rows having missing value in any of the single or multiple columns\n",
    "\n",
    "vehicle[vehicle.isnull().any(axis=1)][missing_values_cols].head()"
   ]
  },
  {
   "cell_type": "code",
   "execution_count": 58,
   "id": "3b27e8d0",
   "metadata": {},
   "outputs": [
    {
     "data": {
      "text/plain": [
       "(33, 14)"
      ]
     },
     "execution_count": 58,
     "metadata": {},
     "output_type": "execute_result"
    }
   ],
   "source": [
    "vehicle[vehicle.isnull().any(axis=1)][missing_values_cols].shape"
   ]
  },
  {
   "cell_type": "code",
   "execution_count": 59,
   "id": "8d54044a",
   "metadata": {},
   "outputs": [
    {
     "name": "stdout",
     "output_type": "stream",
     "text": [
      "there are 33 values which are missing overll in dataset\n"
     ]
    }
   ],
   "source": [
    "print('there are 33 values which are missing overll in dataset')"
   ]
  },
  {
   "cell_type": "code",
   "execution_count": 60,
   "id": "aafa8778",
   "metadata": {},
   "outputs": [
    {
     "name": "stdout",
     "output_type": "stream",
     "text": [
      "<class 'pandas.core.frame.DataFrame'>\n",
      "RangeIndex: 846 entries, 0 to 845\n",
      "Data columns (total 19 columns):\n",
      " #   Column                       Non-Null Count  Dtype  \n",
      "---  ------                       --------------  -----  \n",
      " 0   compactness                  846 non-null    int64  \n",
      " 1   circularity                  841 non-null    float64\n",
      " 2   distance_circularity         842 non-null    float64\n",
      " 3   radius_ratio                 840 non-null    float64\n",
      " 4   pr.axis_aspect_ratio         844 non-null    float64\n",
      " 5   max.length_aspect_ratio      846 non-null    int64  \n",
      " 6   scatter_ratio                845 non-null    float64\n",
      " 7   elongatedness                845 non-null    float64\n",
      " 8   pr.axis_rectangularity       843 non-null    float64\n",
      " 9   max.length_rectangularity    846 non-null    int64  \n",
      " 10  scaled_variance              843 non-null    float64\n",
      " 11  scaled_variance.1            844 non-null    float64\n",
      " 12  scaled_radius_of_gyration    844 non-null    float64\n",
      " 13  scaled_radius_of_gyration.1  842 non-null    float64\n",
      " 14  skewness_about               840 non-null    float64\n",
      " 15  skewness_about.1             845 non-null    float64\n",
      " 16  skewness_about.2             845 non-null    float64\n",
      " 17  hollows_ratio                846 non-null    int64  \n",
      " 18  class                        846 non-null    object \n",
      "dtypes: float64(14), int64(4), object(1)\n",
      "memory usage: 125.7+ KB\n"
     ]
    }
   ],
   "source": [
    "vehicle.info()"
   ]
  },
  {
   "cell_type": "code",
   "execution_count": 61,
   "id": "3b3894d0",
   "metadata": {},
   "outputs": [],
   "source": [
    "#replace hp with median\n",
    "for col in missing_values_cols:\n",
    "    vehicle[col].fillna((vehicle[col].mean()), inplace=True)"
   ]
  },
  {
   "cell_type": "code",
   "execution_count": 62,
   "id": "66ca3162",
   "metadata": {},
   "outputs": [
    {
     "data": {
      "text/html": [
       "<div>\n",
       "<style scoped>\n",
       "    .dataframe tbody tr th:only-of-type {\n",
       "        vertical-align: middle;\n",
       "    }\n",
       "\n",
       "    .dataframe tbody tr th {\n",
       "        vertical-align: top;\n",
       "    }\n",
       "\n",
       "    .dataframe thead th {\n",
       "        text-align: right;\n",
       "    }\n",
       "</style>\n",
       "<table border=\"1\" class=\"dataframe\">\n",
       "  <thead>\n",
       "    <tr style=\"text-align: right;\">\n",
       "      <th></th>\n",
       "      <th>circularity</th>\n",
       "      <th>distance_circularity</th>\n",
       "      <th>radius_ratio</th>\n",
       "      <th>pr.axis_aspect_ratio</th>\n",
       "      <th>scatter_ratio</th>\n",
       "      <th>elongatedness</th>\n",
       "      <th>pr.axis_rectangularity</th>\n",
       "      <th>scaled_variance</th>\n",
       "      <th>scaled_variance.1</th>\n",
       "      <th>scaled_radius_of_gyration</th>\n",
       "      <th>scaled_radius_of_gyration.1</th>\n",
       "      <th>skewness_about</th>\n",
       "      <th>skewness_about.1</th>\n",
       "      <th>skewness_about.2</th>\n",
       "    </tr>\n",
       "  </thead>\n",
       "  <tbody>\n",
       "  </tbody>\n",
       "</table>\n",
       "</div>"
      ],
      "text/plain": [
       "Empty DataFrame\n",
       "Columns: [circularity, distance_circularity, radius_ratio, pr.axis_aspect_ratio, scatter_ratio, elongatedness, pr.axis_rectangularity, scaled_variance, scaled_variance.1, scaled_radius_of_gyration, scaled_radius_of_gyration.1, skewness_about, skewness_about.1, skewness_about.2]\n",
       "Index: []"
      ]
     },
     "execution_count": 62,
     "metadata": {},
     "output_type": "execute_result"
    }
   ],
   "source": [
    "vehicle[vehicle.isnull().any(axis=1)][missing_values_cols].head()"
   ]
  },
  {
   "cell_type": "code",
   "execution_count": 63,
   "id": "b0ef4a27",
   "metadata": {},
   "outputs": [
    {
     "data": {
      "text/plain": [
       "(0, 14)"
      ]
     },
     "execution_count": 63,
     "metadata": {},
     "output_type": "execute_result"
    }
   ],
   "source": [
    "vehicle[vehicle.isnull().any(axis=1)][missing_values_cols].shape"
   ]
  },
  {
   "cell_type": "markdown",
   "id": "c6eb5f53",
   "metadata": {},
   "source": [
    "#### As we can see after imputing missing value data with median there is no missing data now"
   ]
  },
  {
   "cell_type": "code",
   "execution_count": 64,
   "id": "9cf10b9f",
   "metadata": {},
   "outputs": [
    {
     "data": {
      "text/html": [
       "<div>\n",
       "<style scoped>\n",
       "    .dataframe tbody tr th:only-of-type {\n",
       "        vertical-align: middle;\n",
       "    }\n",
       "\n",
       "    .dataframe tbody tr th {\n",
       "        vertical-align: top;\n",
       "    }\n",
       "\n",
       "    .dataframe thead th {\n",
       "        text-align: right;\n",
       "    }\n",
       "</style>\n",
       "<table border=\"1\" class=\"dataframe\">\n",
       "  <thead>\n",
       "    <tr style=\"text-align: right;\">\n",
       "      <th></th>\n",
       "      <th>compactness</th>\n",
       "      <th>circularity</th>\n",
       "      <th>distance_circularity</th>\n",
       "      <th>radius_ratio</th>\n",
       "      <th>pr.axis_aspect_ratio</th>\n",
       "      <th>max.length_aspect_ratio</th>\n",
       "      <th>scatter_ratio</th>\n",
       "      <th>elongatedness</th>\n",
       "      <th>pr.axis_rectangularity</th>\n",
       "      <th>max.length_rectangularity</th>\n",
       "      <th>scaled_variance</th>\n",
       "      <th>scaled_variance.1</th>\n",
       "      <th>scaled_radius_of_gyration</th>\n",
       "      <th>scaled_radius_of_gyration.1</th>\n",
       "      <th>skewness_about</th>\n",
       "      <th>skewness_about.1</th>\n",
       "      <th>skewness_about.2</th>\n",
       "      <th>hollows_ratio</th>\n",
       "      <th>class</th>\n",
       "    </tr>\n",
       "  </thead>\n",
       "  <tbody>\n",
       "    <tr>\n",
       "      <th>0</th>\n",
       "      <td>95</td>\n",
       "      <td>48.0</td>\n",
       "      <td>83.0</td>\n",
       "      <td>178.0</td>\n",
       "      <td>72.0</td>\n",
       "      <td>10</td>\n",
       "      <td>162.0</td>\n",
       "      <td>42.0</td>\n",
       "      <td>20.0</td>\n",
       "      <td>159</td>\n",
       "      <td>176.0</td>\n",
       "      <td>379.0</td>\n",
       "      <td>184.0</td>\n",
       "      <td>70.0</td>\n",
       "      <td>6.0</td>\n",
       "      <td>16.0</td>\n",
       "      <td>187.0</td>\n",
       "      <td>197</td>\n",
       "      <td>van</td>\n",
       "    </tr>\n",
       "    <tr>\n",
       "      <th>1</th>\n",
       "      <td>91</td>\n",
       "      <td>41.0</td>\n",
       "      <td>84.0</td>\n",
       "      <td>141.0</td>\n",
       "      <td>57.0</td>\n",
       "      <td>9</td>\n",
       "      <td>149.0</td>\n",
       "      <td>45.0</td>\n",
       "      <td>19.0</td>\n",
       "      <td>143</td>\n",
       "      <td>170.0</td>\n",
       "      <td>330.0</td>\n",
       "      <td>158.0</td>\n",
       "      <td>72.0</td>\n",
       "      <td>9.0</td>\n",
       "      <td>14.0</td>\n",
       "      <td>189.0</td>\n",
       "      <td>199</td>\n",
       "      <td>van</td>\n",
       "    </tr>\n",
       "    <tr>\n",
       "      <th>2</th>\n",
       "      <td>104</td>\n",
       "      <td>50.0</td>\n",
       "      <td>106.0</td>\n",
       "      <td>209.0</td>\n",
       "      <td>66.0</td>\n",
       "      <td>10</td>\n",
       "      <td>207.0</td>\n",
       "      <td>32.0</td>\n",
       "      <td>23.0</td>\n",
       "      <td>158</td>\n",
       "      <td>223.0</td>\n",
       "      <td>635.0</td>\n",
       "      <td>220.0</td>\n",
       "      <td>73.0</td>\n",
       "      <td>14.0</td>\n",
       "      <td>9.0</td>\n",
       "      <td>188.0</td>\n",
       "      <td>196</td>\n",
       "      <td>car</td>\n",
       "    </tr>\n",
       "    <tr>\n",
       "      <th>3</th>\n",
       "      <td>93</td>\n",
       "      <td>41.0</td>\n",
       "      <td>82.0</td>\n",
       "      <td>159.0</td>\n",
       "      <td>63.0</td>\n",
       "      <td>9</td>\n",
       "      <td>144.0</td>\n",
       "      <td>46.0</td>\n",
       "      <td>19.0</td>\n",
       "      <td>143</td>\n",
       "      <td>160.0</td>\n",
       "      <td>309.0</td>\n",
       "      <td>127.0</td>\n",
       "      <td>63.0</td>\n",
       "      <td>6.0</td>\n",
       "      <td>10.0</td>\n",
       "      <td>199.0</td>\n",
       "      <td>207</td>\n",
       "      <td>van</td>\n",
       "    </tr>\n",
       "    <tr>\n",
       "      <th>4</th>\n",
       "      <td>85</td>\n",
       "      <td>44.0</td>\n",
       "      <td>70.0</td>\n",
       "      <td>205.0</td>\n",
       "      <td>103.0</td>\n",
       "      <td>52</td>\n",
       "      <td>149.0</td>\n",
       "      <td>45.0</td>\n",
       "      <td>19.0</td>\n",
       "      <td>144</td>\n",
       "      <td>241.0</td>\n",
       "      <td>325.0</td>\n",
       "      <td>188.0</td>\n",
       "      <td>127.0</td>\n",
       "      <td>9.0</td>\n",
       "      <td>11.0</td>\n",
       "      <td>180.0</td>\n",
       "      <td>183</td>\n",
       "      <td>bus</td>\n",
       "    </tr>\n",
       "    <tr>\n",
       "      <th>...</th>\n",
       "      <td>...</td>\n",
       "      <td>...</td>\n",
       "      <td>...</td>\n",
       "      <td>...</td>\n",
       "      <td>...</td>\n",
       "      <td>...</td>\n",
       "      <td>...</td>\n",
       "      <td>...</td>\n",
       "      <td>...</td>\n",
       "      <td>...</td>\n",
       "      <td>...</td>\n",
       "      <td>...</td>\n",
       "      <td>...</td>\n",
       "      <td>...</td>\n",
       "      <td>...</td>\n",
       "      <td>...</td>\n",
       "      <td>...</td>\n",
       "      <td>...</td>\n",
       "      <td>...</td>\n",
       "    </tr>\n",
       "    <tr>\n",
       "      <th>841</th>\n",
       "      <td>93</td>\n",
       "      <td>39.0</td>\n",
       "      <td>87.0</td>\n",
       "      <td>183.0</td>\n",
       "      <td>64.0</td>\n",
       "      <td>8</td>\n",
       "      <td>169.0</td>\n",
       "      <td>40.0</td>\n",
       "      <td>20.0</td>\n",
       "      <td>134</td>\n",
       "      <td>200.0</td>\n",
       "      <td>422.0</td>\n",
       "      <td>149.0</td>\n",
       "      <td>72.0</td>\n",
       "      <td>7.0</td>\n",
       "      <td>25.0</td>\n",
       "      <td>188.0</td>\n",
       "      <td>195</td>\n",
       "      <td>car</td>\n",
       "    </tr>\n",
       "    <tr>\n",
       "      <th>842</th>\n",
       "      <td>89</td>\n",
       "      <td>46.0</td>\n",
       "      <td>84.0</td>\n",
       "      <td>163.0</td>\n",
       "      <td>66.0</td>\n",
       "      <td>11</td>\n",
       "      <td>159.0</td>\n",
       "      <td>43.0</td>\n",
       "      <td>20.0</td>\n",
       "      <td>159</td>\n",
       "      <td>173.0</td>\n",
       "      <td>368.0</td>\n",
       "      <td>176.0</td>\n",
       "      <td>72.0</td>\n",
       "      <td>1.0</td>\n",
       "      <td>20.0</td>\n",
       "      <td>186.0</td>\n",
       "      <td>197</td>\n",
       "      <td>van</td>\n",
       "    </tr>\n",
       "    <tr>\n",
       "      <th>843</th>\n",
       "      <td>106</td>\n",
       "      <td>54.0</td>\n",
       "      <td>101.0</td>\n",
       "      <td>222.0</td>\n",
       "      <td>67.0</td>\n",
       "      <td>12</td>\n",
       "      <td>222.0</td>\n",
       "      <td>30.0</td>\n",
       "      <td>25.0</td>\n",
       "      <td>173</td>\n",
       "      <td>228.0</td>\n",
       "      <td>721.0</td>\n",
       "      <td>200.0</td>\n",
       "      <td>70.0</td>\n",
       "      <td>3.0</td>\n",
       "      <td>4.0</td>\n",
       "      <td>187.0</td>\n",
       "      <td>201</td>\n",
       "      <td>car</td>\n",
       "    </tr>\n",
       "    <tr>\n",
       "      <th>844</th>\n",
       "      <td>86</td>\n",
       "      <td>36.0</td>\n",
       "      <td>78.0</td>\n",
       "      <td>146.0</td>\n",
       "      <td>58.0</td>\n",
       "      <td>7</td>\n",
       "      <td>135.0</td>\n",
       "      <td>50.0</td>\n",
       "      <td>18.0</td>\n",
       "      <td>124</td>\n",
       "      <td>155.0</td>\n",
       "      <td>270.0</td>\n",
       "      <td>148.0</td>\n",
       "      <td>66.0</td>\n",
       "      <td>0.0</td>\n",
       "      <td>25.0</td>\n",
       "      <td>190.0</td>\n",
       "      <td>195</td>\n",
       "      <td>car</td>\n",
       "    </tr>\n",
       "    <tr>\n",
       "      <th>845</th>\n",
       "      <td>85</td>\n",
       "      <td>36.0</td>\n",
       "      <td>66.0</td>\n",
       "      <td>123.0</td>\n",
       "      <td>55.0</td>\n",
       "      <td>5</td>\n",
       "      <td>120.0</td>\n",
       "      <td>56.0</td>\n",
       "      <td>17.0</td>\n",
       "      <td>128</td>\n",
       "      <td>140.0</td>\n",
       "      <td>212.0</td>\n",
       "      <td>131.0</td>\n",
       "      <td>73.0</td>\n",
       "      <td>1.0</td>\n",
       "      <td>18.0</td>\n",
       "      <td>186.0</td>\n",
       "      <td>190</td>\n",
       "      <td>van</td>\n",
       "    </tr>\n",
       "  </tbody>\n",
       "</table>\n",
       "<p>846 rows × 19 columns</p>\n",
       "</div>"
      ],
      "text/plain": [
       "     compactness  circularity  distance_circularity  radius_ratio  \\\n",
       "0             95         48.0                  83.0         178.0   \n",
       "1             91         41.0                  84.0         141.0   \n",
       "2            104         50.0                 106.0         209.0   \n",
       "3             93         41.0                  82.0         159.0   \n",
       "4             85         44.0                  70.0         205.0   \n",
       "..           ...          ...                   ...           ...   \n",
       "841           93         39.0                  87.0         183.0   \n",
       "842           89         46.0                  84.0         163.0   \n",
       "843          106         54.0                 101.0         222.0   \n",
       "844           86         36.0                  78.0         146.0   \n",
       "845           85         36.0                  66.0         123.0   \n",
       "\n",
       "     pr.axis_aspect_ratio  max.length_aspect_ratio  scatter_ratio  \\\n",
       "0                    72.0                       10          162.0   \n",
       "1                    57.0                        9          149.0   \n",
       "2                    66.0                       10          207.0   \n",
       "3                    63.0                        9          144.0   \n",
       "4                   103.0                       52          149.0   \n",
       "..                    ...                      ...            ...   \n",
       "841                  64.0                        8          169.0   \n",
       "842                  66.0                       11          159.0   \n",
       "843                  67.0                       12          222.0   \n",
       "844                  58.0                        7          135.0   \n",
       "845                  55.0                        5          120.0   \n",
       "\n",
       "     elongatedness  pr.axis_rectangularity  max.length_rectangularity  \\\n",
       "0             42.0                    20.0                        159   \n",
       "1             45.0                    19.0                        143   \n",
       "2             32.0                    23.0                        158   \n",
       "3             46.0                    19.0                        143   \n",
       "4             45.0                    19.0                        144   \n",
       "..             ...                     ...                        ...   \n",
       "841           40.0                    20.0                        134   \n",
       "842           43.0                    20.0                        159   \n",
       "843           30.0                    25.0                        173   \n",
       "844           50.0                    18.0                        124   \n",
       "845           56.0                    17.0                        128   \n",
       "\n",
       "     scaled_variance  scaled_variance.1  scaled_radius_of_gyration  \\\n",
       "0              176.0              379.0                      184.0   \n",
       "1              170.0              330.0                      158.0   \n",
       "2              223.0              635.0                      220.0   \n",
       "3              160.0              309.0                      127.0   \n",
       "4              241.0              325.0                      188.0   \n",
       "..               ...                ...                        ...   \n",
       "841            200.0              422.0                      149.0   \n",
       "842            173.0              368.0                      176.0   \n",
       "843            228.0              721.0                      200.0   \n",
       "844            155.0              270.0                      148.0   \n",
       "845            140.0              212.0                      131.0   \n",
       "\n",
       "     scaled_radius_of_gyration.1  skewness_about  skewness_about.1  \\\n",
       "0                           70.0             6.0              16.0   \n",
       "1                           72.0             9.0              14.0   \n",
       "2                           73.0            14.0               9.0   \n",
       "3                           63.0             6.0              10.0   \n",
       "4                          127.0             9.0              11.0   \n",
       "..                           ...             ...               ...   \n",
       "841                         72.0             7.0              25.0   \n",
       "842                         72.0             1.0              20.0   \n",
       "843                         70.0             3.0               4.0   \n",
       "844                         66.0             0.0              25.0   \n",
       "845                         73.0             1.0              18.0   \n",
       "\n",
       "     skewness_about.2  hollows_ratio class  \n",
       "0               187.0            197   van  \n",
       "1               189.0            199   van  \n",
       "2               188.0            196   car  \n",
       "3               199.0            207   van  \n",
       "4               180.0            183   bus  \n",
       "..                ...            ...   ...  \n",
       "841             188.0            195   car  \n",
       "842             186.0            197   van  \n",
       "843             187.0            201   car  \n",
       "844             190.0            195   car  \n",
       "845             186.0            190   van  \n",
       "\n",
       "[846 rows x 19 columns]"
      ]
     },
     "execution_count": 64,
     "metadata": {},
     "output_type": "execute_result"
    }
   ],
   "source": [
    "vehicle"
   ]
  },
  {
   "cell_type": "markdown",
   "id": "96960436",
   "metadata": {},
   "source": [
    "#### C. Visualize a Pie-chart and print percentage of values for variable ‘class’. "
   ]
  },
  {
   "cell_type": "code",
   "execution_count": 65,
   "id": "77653e8f",
   "metadata": {},
   "outputs": [
    {
     "data": {
      "text/plain": [
       "car    429\n",
       "bus    218\n",
       "van    199\n",
       "Name: class, dtype: int64"
      ]
     },
     "execution_count": 65,
     "metadata": {},
     "output_type": "execute_result"
    }
   ],
   "source": [
    "vehicle['class'].value_counts()"
   ]
  },
  {
   "cell_type": "code",
   "execution_count": 66,
   "id": "9b981406",
   "metadata": {},
   "outputs": [
    {
     "data": {
      "text/plain": [
       "<matplotlib.legend.Legend at 0x7fcbc55be5b0>"
      ]
     },
     "execution_count": 66,
     "metadata": {},
     "output_type": "execute_result"
    },
    {
     "data": {
      "image/png": "[encoded data removed]",
      "text/plain": [
       "<Figure size 2016x864 with 1 Axes>"
      ]
     },
     "metadata": {},
     "output_type": "display_data"
    }
   ],
   "source": [
    "def autopct(pct): # only show the label when it's > 10%\n",
    "    return ('%.2f' % pct) if pct > 10 else ''\n",
    "\n",
    "my_labels = ('car','bus','van')\n",
    "\n",
    "ax = vehicle['class'].value_counts().plot(kind='pie', figsize=(28,12), autopct=autopct, labels=None)\n",
    "ax.axes.get_yaxis().set_visible(False)\n",
    "plt.legend(loc=5, labels=my_labels)"
   ]
  },
  {
   "cell_type": "markdown",
   "id": "068d4d6c",
   "metadata": {},
   "source": [
    "#### D. Check for duplicate rows in the data and impute with correct approach."
   ]
  },
  {
   "cell_type": "code",
   "execution_count": 67,
   "id": "efc0312c",
   "metadata": {},
   "outputs": [
    {
     "data": {
      "text/plain": [
       "0      False\n",
       "1      False\n",
       "2      False\n",
       "3      False\n",
       "4      False\n",
       "       ...  \n",
       "841    False\n",
       "842    False\n",
       "843    False\n",
       "844    False\n",
       "845    False\n",
       "Length: 846, dtype: bool"
      ]
     },
     "execution_count": 67,
     "metadata": {},
     "output_type": "execute_result"
    }
   ],
   "source": [
    "bool_series = vehicle.duplicated(keep='first')\n",
    "bool_series"
   ]
  },
  {
   "cell_type": "markdown",
   "id": "dce05684",
   "metadata": {},
   "source": [
    "#### there are no duplicate values in data set as none of the value is true"
   ]
  },
  {
   "cell_type": "markdown",
   "id": "626338e9",
   "metadata": {},
   "source": [
    "#### 2. Data Preparation:"
   ]
  },
  {
   "cell_type": "markdown",
   "id": "d4323160",
   "metadata": {},
   "source": [
    "#### A. Split data into X and Y. [Train and Test optional]"
   ]
  },
  {
   "cell_type": "code",
   "execution_count": 68,
   "id": "66041050",
   "metadata": {},
   "outputs": [
    {
     "data": {
      "text/plain": [
       "((634, 19), (212, 19))"
      ]
     },
     "execution_count": 68,
     "metadata": {},
     "output_type": "execute_result"
    }
   ],
   "source": [
    "#Split into Train -Test set\n",
    "test_size = 0.30 # taking 70:30 training and test set\n",
    "seed = 7  # Random number seeding for reapeatability of the code\n",
    "df_train, df_test= train_test_split(vehicle)\n",
    "df_train.shape, df_test.shape"
   ]
  },
  {
   "cell_type": "code",
   "execution_count": 69,
   "id": "d154545a",
   "metadata": {},
   "outputs": [
    {
     "data": {
      "text/plain": [
       "((634, 18), (634,), (212, 18), (212,))"
      ]
     },
     "execution_count": 69,
     "metadata": {},
     "output_type": "execute_result"
    }
   ],
   "source": [
    "X_train=df_train.drop(labels='class', axis=1)\n",
    "y_train=df_train['class']\n",
    "X_test=df_test.drop(labels='class', axis=1)\n",
    "y_test=df_test['class']\n",
    "X_train.shape,y_train.shape, X_test.shape, y_test.shape"
   ]
  },
  {
   "cell_type": "markdown",
   "id": "9be885e2",
   "metadata": {},
   "source": [
    "#### B. Standardize the Data"
   ]
  },
  {
   "cell_type": "code",
   "execution_count": 70,
   "id": "2c8d39c1",
   "metadata": {},
   "outputs": [],
   "source": [
    "from sklearn.preprocessing import StandardScaler\n",
    "sc = StandardScaler()"
   ]
  },
  {
   "cell_type": "code",
   "execution_count": 71,
   "id": "b7bbc01d",
   "metadata": {},
   "outputs": [
    {
     "data": {
      "text/html": [
       "<style>#sk-container-id-1 {color: black;background-color: white;}#sk-container-id-1 pre{padding: 0;}#sk-container-id-1 div.sk-toggleable {background-color: white;}#sk-container-id-1 label.sk-toggleable__label {cursor: pointer;display: block;width: 100%;margin-bottom: 0;padding: 0.3em;box-sizing: border-box;text-align: center;}#sk-container-id-1 label.sk-toggleable__label-arrow:before {content: \"▸\";float: left;margin-right: 0.25em;color: #696969;}#sk-container-id-1 label.sk-toggleable__label-arrow:hover:before {color: black;}#sk-container-id-1 div.sk-estimator:hover label.sk-toggleable__label-arrow:before {color: black;}#sk-container-id-1 div.sk-toggleable__content {max-height: 0;max-width: 0;overflow: hidden;text-align: left;background-color: #f0f8ff;}#sk-container-id-1 div.sk-toggleable__content pre {margin: 0.2em;color: black;border-radius: 0.25em;background-color: #f0f8ff;}#sk-container-id-1 input.sk-toggleable__control:checked~div.sk-toggleable__content {max-height: 200px;max-width: 100%;overflow: auto;}#sk-container-id-1 input.sk-toggleable__control:checked~label.sk-toggleable__label-arrow:before {content: \"▾\";}#sk-container-id-1 div.sk-estimator input.sk-toggleable__control:checked~label.sk-toggleable__label {background-color: #d4ebff;}#sk-container-id-1 div.sk-label input.sk-toggleable__control:checked~label.sk-toggleable__label {background-color: #d4ebff;}#sk-container-id-1 input.sk-hidden--visually {border: 0;clip: rect(1px 1px 1px 1px);clip: rect(1px, 1px, 1px, 1px);height: 1px;margin: -1px;overflow: hidden;padding: 0;position: absolute;width: 1px;}#sk-container-id-1 div.sk-estimator {font-family: monospace;background-color: #f0f8ff;border: 1px dotted black;border-radius: 0.25em;box-sizing: border-box;margin-bottom: 0.5em;}#sk-container-id-1 div.sk-estimator:hover {background-color: #d4ebff;}#sk-container-id-1 div.sk-parallel-item::after {content: \"\";width: 100%;border-bottom: 1px solid gray;flex-grow: 1;}#sk-container-id-1 div.sk-label:hover label.sk-toggleable__label {background-color: #d4ebff;}#sk-container-id-1 div.sk-serial::before {content: \"\";position: absolute;border-left: 1px solid gray;box-sizing: border-box;top: 0;bottom: 0;left: 50%;z-index: 0;}#sk-container-id-1 div.sk-serial {display: flex;flex-direction: column;align-items: center;background-color: white;padding-right: 0.2em;padding-left: 0.2em;position: relative;}#sk-container-id-1 div.sk-item {position: relative;z-index: 1;}#sk-container-id-1 div.sk-parallel {display: flex;align-items: stretch;justify-content: center;background-color: white;position: relative;}#sk-container-id-1 div.sk-item::before, #sk-container-id-1 div.sk-parallel-item::before {content: \"\";position: absolute;border-left: 1px solid gray;box-sizing: border-box;top: 0;bottom: 0;left: 50%;z-index: -1;}#sk-container-id-1 div.sk-parallel-item {display: flex;flex-direction: column;z-index: 1;position: relative;background-color: white;}#sk-container-id-1 div.sk-parallel-item:first-child::after {align-self: flex-end;width: 50%;}#sk-container-id-1 div.sk-parallel-item:last-child::after {align-self: flex-start;width: 50%;}#sk-container-id-1 div.sk-parallel-item:only-child::after {width: 0;}#sk-container-id-1 div.sk-dashed-wrapped {border: 1px dashed gray;margin: 0 0.4em 0.5em 0.4em;box-sizing: border-box;padding-bottom: 0.4em;background-color: white;}#sk-container-id-1 div.sk-label label {font-family: monospace;font-weight: bold;display: inline-block;line-height: 1.2em;}#sk-container-id-1 div.sk-label-container {text-align: center;}#sk-container-id-1 div.sk-container {/* jupyter's `normalize.less` sets `[hidden] { display: none; }` but bootstrap.min.css set `[hidden] { display: none !important; }` so we also need the `!important` here to be able to override the default hidden behavior on the sphinx rendered scikit-learn.org. See: https://github.com/scikit-learn/scikit-learn/issues/21755 */display: inline-block !important;position: relative;}#sk-container-id-1 div.sk-text-repr-fallback {display: none;}</style><div id=\"sk-container-id-1\" class=\"sk-top-container\"><div class=\"sk-text-repr-fallback\"><pre>StandardScaler()</pre><b>In a Jupyter environment, please rerun this cell to show the HTML representation or trust the notebook. <br />On GitHub, the HTML representation is unable to render, please try loading this page with nbviewer.org.</b></div><div class=\"sk-container\" hidden><div class=\"sk-item\"><div class=\"sk-estimator sk-toggleable\"><input class=\"sk-toggleable__control sk-hidden--visually\" id=\"sk-estimator-id-1\" type=\"checkbox\" checked><label for=\"sk-estimator-id-1\" class=\"sk-toggleable__label sk-toggleable__label-arrow\">StandardScaler</label><div class=\"sk-toggleable__content\"><pre>StandardScaler()</pre></div></div></div></div></div>"
      ],
      "text/plain": [
       "StandardScaler()"
      ]
     },
     "execution_count": 71,
     "metadata": {},
     "output_type": "execute_result"
    }
   ],
   "source": [
    "sc.fit(X_train) # Fit scaler in train set"
   ]
  },
  {
   "cell_type": "code",
   "execution_count": 72,
   "id": "a73bc5d6",
   "metadata": {},
   "outputs": [],
   "source": [
    "# transform train set\n",
    "#Transform X_train\n",
    "X_train_std=sc.transform(X_train)\n",
    "#Transform X_test ( with same fit as train) to prevent data leak\n",
    "X_test_std=sc.transform(X_test)"
   ]
  },
  {
   "cell_type": "code",
   "execution_count": 73,
   "id": "1c9109c8",
   "metadata": {},
   "outputs": [
    {
     "data": {
      "text/plain": [
       "(array([[-0.11660769, -0.79838926, -0.58923821, ..., -1.4039212 ,\n",
       "         -0.35520533, -1.10903691],\n",
       "        [ 0.72623423,  0.98832566,  0.41935075, ..., -0.63713469,\n",
       "          0.61833892, -0.42757791],\n",
       "        [-0.47782566, -0.14867474, -0.65227502, ..., -0.96575748,\n",
       "          1.10511105,  0.93534011],\n",
       "        ...,\n",
       "        [-1.07985561, -0.79838926, -0.46316459, ...,  0.34873368,\n",
       "         -1.16649221, -1.24532871],\n",
       "        [ 0.0037983 ,  0.82589703,  0.1041667 , ..., -0.74667562,\n",
       "         -1.16649221, -0.70016151],\n",
       "        [ 1.68948215,  1.47561155,  1.68008696, ...,  1.11552019,\n",
       "         -0.03069058,  0.6627565 ]]),\n",
       " array([[ 1.44867017,  1.96289744,  1.55401334, ...,  1.99184763,\n",
       "         -1.49100696, -1.65420412],\n",
       "        [ 0.48542226, -1.12324652, -0.77834864, ...,  0.02011089,\n",
       "         -0.51746271, -1.51791232],\n",
       "        [-1.32066759, -0.79838926, -1.84997442, ..., -0.63713469,\n",
       "         -2.14003647, -1.79049592],\n",
       "        ...,\n",
       "        [ 1.56907616,  1.96289744,  1.49097653, ...,  0.7868974 ,\n",
       "         -1.32874959, -1.65420412],\n",
       "        [-1.07985561, -0.14867474, -1.03049588, ..., -1.29438027,\n",
       "         -1.49100696, -1.79049592],\n",
       "        [-0.95944962,  0.01375389, -0.77834864, ..., -0.85621655,\n",
       "         -1.49100696, -1.79049592]]))"
      ]
     },
     "execution_count": 73,
     "metadata": {},
     "output_type": "execute_result"
    }
   ],
   "source": [
    "X_train_std,X_test_std"
   ]
  },
  {
   "cell_type": "markdown",
   "id": "812fb5d0",
   "metadata": {},
   "source": [
    "#### 3. Model Building:"
   ]
  },
  {
   "cell_type": "markdown",
   "id": "73e24714",
   "metadata": {},
   "source": [
    "#### A. Train a base Classification model using SVM."
   ]
  },
  {
   "cell_type": "code",
   "execution_count": 74,
   "id": "cb5792bd",
   "metadata": {},
   "outputs": [],
   "source": [
    "from sklearn.svm import SVC\n",
    "\n",
    "# Building a Support Vector Machine on train data\n",
    "svc_model = SVC(C= .1, kernel='linear', gamma= 1)\n",
    "svc_model.fit(X_train_std, y_train)\n",
    "\n",
    "prediction = svc_model.predict(X_test_std)"
   ]
  },
  {
   "cell_type": "code",
   "execution_count": 75,
   "id": "d9db1194",
   "metadata": {},
   "outputs": [
    {
     "name": "stdout",
     "output_type": "stream",
     "text": [
      "0.943217665615142\n",
      "0.8962264150943396\n"
     ]
    }
   ],
   "source": [
    "# check the accuracy on the training set\n",
    "print(svc_model.score(X_train_std, y_train))\n",
    "print(svc_model.score(X_test_std, y_test))"
   ]
  },
  {
   "cell_type": "markdown",
   "id": "9261c18a",
   "metadata": {},
   "source": [
    "#### B. Print Classification metrics for train data. "
   ]
  },
  {
   "cell_type": "code",
   "execution_count": 76,
   "id": "8cc04349",
   "metadata": {},
   "outputs": [
    {
     "name": "stdout",
     "output_type": "stream",
     "text": [
      "Confusion Matrix:\n",
      " [[60  8  2]\n",
      " [ 4 87  2]\n",
      " [ 2  4 43]]\n"
     ]
    }
   ],
   "source": [
    "# To calculate the accuracy score of the model\n",
    "from sklearn.metrics import accuracy_score, confusion_matrix\n",
    "print(\"Confusion Matrix:\\n\",confusion_matrix(prediction,y_test))"
   ]
  },
  {
   "cell_type": "markdown",
   "id": "0dbb0c91",
   "metadata": {},
   "source": [
    "#### C. Apply PCA on the data with 10 components."
   ]
  },
  {
   "cell_type": "code",
   "execution_count": 77,
   "id": "175b37fb",
   "metadata": {},
   "outputs": [
    {
     "data": {
      "text/html": [
       "<style>#sk-container-id-2 {color: black;background-color: white;}#sk-container-id-2 pre{padding: 0;}#sk-container-id-2 div.sk-toggleable {background-color: white;}#sk-container-id-2 label.sk-toggleable__label {cursor: pointer;display: block;width: 100%;margin-bottom: 0;padding: 0.3em;box-sizing: border-box;text-align: center;}#sk-container-id-2 label.sk-toggleable__label-arrow:before {content: \"▸\";float: left;margin-right: 0.25em;color: #696969;}#sk-container-id-2 label.sk-toggleable__label-arrow:hover:before {color: black;}#sk-container-id-2 div.sk-estimator:hover label.sk-toggleable__label-arrow:before {color: black;}#sk-container-id-2 div.sk-toggleable__content {max-height: 0;max-width: 0;overflow: hidden;text-align: left;background-color: #f0f8ff;}#sk-container-id-2 div.sk-toggleable__content pre {margin: 0.2em;color: black;border-radius: 0.25em;background-color: #f0f8ff;}#sk-container-id-2 input.sk-toggleable__control:checked~div.sk-toggleable__content {max-height: 200px;max-width: 100%;overflow: auto;}#sk-container-id-2 input.sk-toggleable__control:checked~label.sk-toggleable__label-arrow:before {content: \"▾\";}#sk-container-id-2 div.sk-estimator input.sk-toggleable__control:checked~label.sk-toggleable__label {background-color: #d4ebff;}#sk-container-id-2 div.sk-label input.sk-toggleable__control:checked~label.sk-toggleable__label {background-color: #d4ebff;}#sk-container-id-2 input.sk-hidden--visually {border: 0;clip: rect(1px 1px 1px 1px);clip: rect(1px, 1px, 1px, 1px);height: 1px;margin: -1px;overflow: hidden;padding: 0;position: absolute;width: 1px;}#sk-container-id-2 div.sk-estimator {font-family: monospace;background-color: #f0f8ff;border: 1px dotted black;border-radius: 0.25em;box-sizing: border-box;margin-bottom: 0.5em;}#sk-container-id-2 div.sk-estimator:hover {background-color: #d4ebff;}#sk-container-id-2 div.sk-parallel-item::after {content: \"\";width: 100%;border-bottom: 1px solid gray;flex-grow: 1;}#sk-container-id-2 div.sk-label:hover label.sk-toggleable__label {background-color: #d4ebff;}#sk-container-id-2 div.sk-serial::before {content: \"\";position: absolute;border-left: 1px solid gray;box-sizing: border-box;top: 0;bottom: 0;left: 50%;z-index: 0;}#sk-container-id-2 div.sk-serial {display: flex;flex-direction: column;align-items: center;background-color: white;padding-right: 0.2em;padding-left: 0.2em;position: relative;}#sk-container-id-2 div.sk-item {position: relative;z-index: 1;}#sk-container-id-2 div.sk-parallel {display: flex;align-items: stretch;justify-content: center;background-color: white;position: relative;}#sk-container-id-2 div.sk-item::before, #sk-container-id-2 div.sk-parallel-item::before {content: \"\";position: absolute;border-left: 1px solid gray;box-sizing: border-box;top: 0;bottom: 0;left: 50%;z-index: -1;}#sk-container-id-2 div.sk-parallel-item {display: flex;flex-direction: column;z-index: 1;position: relative;background-color: white;}#sk-container-id-2 div.sk-parallel-item:first-child::after {align-self: flex-end;width: 50%;}#sk-container-id-2 div.sk-parallel-item:last-child::after {align-self: flex-start;width: 50%;}#sk-container-id-2 div.sk-parallel-item:only-child::after {width: 0;}#sk-container-id-2 div.sk-dashed-wrapped {border: 1px dashed gray;margin: 0 0.4em 0.5em 0.4em;box-sizing: border-box;padding-bottom: 0.4em;background-color: white;}#sk-container-id-2 div.sk-label label {font-family: monospace;font-weight: bold;display: inline-block;line-height: 1.2em;}#sk-container-id-2 div.sk-label-container {text-align: center;}#sk-container-id-2 div.sk-container {/* jupyter's `normalize.less` sets `[hidden] { display: none; }` but bootstrap.min.css set `[hidden] { display: none !important; }` so we also need the `!important` here to be able to override the default hidden behavior on the sphinx rendered scikit-learn.org. See: https://github.com/scikit-learn/scikit-learn/issues/21755 */display: inline-block !important;position: relative;}#sk-container-id-2 div.sk-text-repr-fallback {display: none;}</style><div id=\"sk-container-id-2\" class=\"sk-top-container\"><div class=\"sk-text-repr-fallback\"><pre>PCA(n_components=10)</pre><b>In a Jupyter environment, please rerun this cell to show the HTML representation or trust the notebook. <br />On GitHub, the HTML representation is unable to render, please try loading this page with nbviewer.org.</b></div><div class=\"sk-container\" hidden><div class=\"sk-item\"><div class=\"sk-estimator sk-toggleable\"><input class=\"sk-toggleable__control sk-hidden--visually\" id=\"sk-estimator-id-2\" type=\"checkbox\" checked><label for=\"sk-estimator-id-2\" class=\"sk-toggleable__label sk-toggleable__label-arrow\">PCA</label><div class=\"sk-toggleable__content\"><pre>PCA(n_components=10)</pre></div></div></div></div></div>"
      ],
      "text/plain": [
       "PCA(n_components=10)"
      ]
     },
     "execution_count": 77,
     "metadata": {},
     "output_type": "execute_result"
    }
   ],
   "source": [
    "from sklearn.decomposition import PCA\n",
    "  \n",
    "pca = PCA(n_components=10)\n",
    "pca.fit(X_train_std)"
   ]
  },
  {
   "cell_type": "code",
   "execution_count": 78,
   "id": "6ea4419f",
   "metadata": {},
   "outputs": [
    {
     "name": "stdout",
     "output_type": "stream",
     "text": [
      "[9.43126989 3.00922138 1.94278914 1.22063582 0.8895297  0.51123393\n",
      " 0.33723736 0.20582981 0.16882939 0.0964447 ]\n"
     ]
    }
   ],
   "source": [
    "print(pca.explained_variance_)"
   ]
  },
  {
   "cell_type": "code",
   "execution_count": 79,
   "id": "88b99d30",
   "metadata": {},
   "outputs": [
    {
     "name": "stdout",
     "output_type": "stream",
     "text": [
      "[[ 2.74365682e-01  2.94511963e-01  3.05231429e-01  2.67243501e-01\n",
      "   7.34144070e-02  9.55549423e-02  3.16578296e-01 -3.13781632e-01\n",
      "   3.13856136e-01  2.82721179e-01  3.09843767e-01  3.14567611e-01\n",
      "   2.72650220e-01 -3.07884469e-02  5.07926215e-02  4.46678164e-02\n",
      "   2.76758508e-02  7.86110730e-02]\n",
      " [-1.38201855e-01  1.22377830e-01 -6.62479387e-02 -1.70000275e-01\n",
      "  -7.29753253e-02  7.83660262e-02  4.32451866e-02  1.40571717e-02\n",
      "   5.43143304e-02  1.13958735e-01  6.22168838e-02  4.63633098e-02\n",
      "   2.00361182e-01  5.07619161e-01 -7.80896099e-02 -1.10376253e-01\n",
      "  -5.42426532e-01 -5.35550417e-01]\n",
      " [-1.07232778e-01 -4.37922217e-02 -4.84169607e-02  2.94842587e-01\n",
      "   6.53132199e-01  5.85729880e-01 -9.12022355e-02  4.58614290e-02\n",
      "  -1.01903809e-01 -3.56348341e-02  5.13127810e-02 -1.01334651e-01\n",
      "  -5.53340990e-02  2.36763878e-01 -1.48091229e-01 -4.81605019e-02\n",
      "   5.56402739e-02  7.87624033e-02]\n",
      " [-8.58693928e-02 -1.83598846e-01  7.88085957e-02  3.44667707e-02\n",
      "  -5.41712619e-02 -5.49584812e-02  1.04475982e-01 -9.26225413e-02\n",
      "   1.00829790e-01 -1.79045519e-01  1.21112681e-01  9.98095402e-02\n",
      "  -1.98180730e-01  4.56782686e-02 -5.72814101e-01  6.91641606e-01\n",
      "  -1.03596786e-01 -2.52459240e-02]\n",
      " [ 8.80223277e-02 -7.52274508e-02  3.42979211e-02 -4.38695064e-02\n",
      "  -2.60511530e-02  2.30044951e-01 -2.23475665e-02  8.60799275e-02\n",
      "  -3.83170495e-03 -5.15638983e-02 -9.65812486e-03 -2.51360471e-02\n",
      "  -5.28557140e-02  1.45292194e-01  7.37609773e-01  5.85055272e-01\n",
      "  -8.60842277e-02 -3.02158973e-02]\n",
      " [ 1.63555283e-01 -3.09653741e-01 -1.23582453e-01  2.57226432e-01\n",
      "   2.19057596e-01 -3.85966514e-01  1.26520323e-01 -1.50206622e-01\n",
      "   1.04174807e-01 -4.86935565e-01  2.21555191e-01  1.60847124e-01\n",
      "  -1.52936319e-01  2.07766464e-01  2.02558565e-01 -1.99373010e-01\n",
      "   1.14560525e-01 -2.77530410e-01]\n",
      " [ 4.57332711e-01 -2.35164313e-01  7.96141044e-02 -1.79364818e-01\n",
      "  -4.03074138e-01  5.04790092e-01  6.14757564e-02  2.08449326e-02\n",
      "   1.00036809e-01 -9.13417206e-02  9.46797587e-02  7.14808576e-02\n",
      "  -3.84452100e-01  1.03316683e-01 -1.00953492e-01 -2.68589076e-01\n",
      "  -5.87161272e-03  4.76491834e-02]\n",
      " [ 5.99207598e-01  1.67218667e-01 -4.45600713e-01 -6.93003794e-02\n",
      "   1.01080090e-01 -1.87303934e-01 -8.75127812e-02  2.07533476e-01\n",
      "  -4.63800433e-02  2.34168143e-01 -8.31344314e-02 -2.00831934e-02\n",
      "   9.57874322e-02  3.22952661e-01 -1.70129602e-01  1.96670638e-01\n",
      "   2.60790258e-01  1.37086377e-02]\n",
      " [-4.14992698e-01 -1.15667366e-02 -2.01034019e-01 -2.12218578e-01\n",
      "  -2.79607558e-01  1.43039427e-01  4.73445178e-02 -1.45320059e-01\n",
      "  -5.87023673e-04 -8.05871203e-02  3.09471852e-01  7.56848889e-02\n",
      "   2.49489478e-01  3.47998949e-01  2.14943535e-02  1.04914901e-02\n",
      "   5.56846557e-01  1.34913639e-01]\n",
      " [-2.81021708e-01  1.03380695e-01 -2.37163644e-01 -4.36222210e-02\n",
      "   1.02266612e-01 -1.04239450e-01  1.72891124e-01 -1.52251425e-01\n",
      "   2.08412001e-01  4.56973680e-01 -1.15439954e-01  1.62849548e-01\n",
      "  -6.75396235e-01  1.07741813e-01  1.15428463e-01 -3.73400729e-02\n",
      "   4.61216513e-02  3.27585782e-02]]\n"
     ]
    }
   ],
   "source": [
    "print(pca.components_)"
   ]
  },
  {
   "cell_type": "code",
   "execution_count": 80,
   "id": "75f0b781",
   "metadata": {},
   "outputs": [
    {
     "name": "stdout",
     "output_type": "stream",
     "text": [
      "[0.523133   0.16691528 0.10776249 0.06770614 0.04934037 0.02835709\n",
      " 0.01870586 0.01141695 0.00936462 0.00534959]\n"
     ]
    }
   ],
   "source": [
    "print(pca.explained_variance_ratio_)"
   ]
  },
  {
   "cell_type": "markdown",
   "id": "3c692811",
   "metadata": {},
   "source": [
    "#### D. Visualize Cumulative Variance Explained with Number of Components. "
   ]
  },
  {
   "cell_type": "code",
   "execution_count": 81,
   "id": "f702be13",
   "metadata": {},
   "outputs": [
    {
     "data": {
      "image/png": "[encoded data removed]",
      "text/plain": [
       "<Figure size 432x288 with 1 Axes>"
      ]
     },
     "metadata": {
      "needs_background": "light"
     },
     "output_type": "display_data"
    }
   ],
   "source": [
    "plt.bar(list(range(1,11)),pca.explained_variance_ratio_,alpha=0.5, align='center')\n",
    "plt.ylabel('Variation explained')\n",
    "plt.xlabel('eigen Value')\n",
    "plt.show()"
   ]
  },
  {
   "cell_type": "code",
   "execution_count": 82,
   "id": "9cf06ee1",
   "metadata": {},
   "outputs": [
    {
     "name": "stdout",
     "output_type": "stream",
     "text": [
      "Covariance Matrix \n",
      "%s [[ 1.00157978  0.690088    0.79067399  0.69327154  0.07413624  0.13115883\n",
      "   0.80820992 -0.78505823  0.81023973  0.67415155  0.75605374  0.81344182\n",
      "   0.59038297 -0.28684336  0.28833417  0.11144845  0.29036204  0.38541622]\n",
      " [ 0.690088    1.00157978  0.80376203  0.62397069  0.13481189  0.2558214\n",
      "   0.85363621 -0.82656874  0.85104759  0.96421013  0.80758494  0.84716978\n",
      "   0.92896339  0.03115827  0.17494318 -0.04676479 -0.10621896  0.05939615]\n",
      " [ 0.79067399  0.80376203  1.00157978  0.76488962  0.13563536  0.24715641\n",
      "   0.90989478 -0.91493325  0.8999864   0.78094843  0.87388     0.89543031\n",
      "   0.71937547 -0.23798094  0.13912406  0.22596933  0.1287872   0.33507516]\n",
      " [ 0.69327154  0.62397069  0.76488962  1.00157978  0.64694241  0.4441335\n",
      "   0.73966944 -0.79427411  0.7147342   0.56834746  0.79869885  0.72894322\n",
      "   0.54116024 -0.20352759  0.06409781  0.13531898  0.36981975  0.4691265 ]\n",
      " [ 0.07413624  0.13481189  0.13563536  0.64694241  1.00157978  0.66534427\n",
      "   0.09173038 -0.16817623  0.07084674  0.10954804  0.25223917  0.08030052\n",
      "   0.10875886  0.16281888 -0.08178815 -0.04830067  0.21098806  0.23340439]\n",
      " [ 0.13115883  0.2558214   0.24715641  0.4441335   0.66534427  1.00157978\n",
      "   0.17109573 -0.18072588  0.17109699  0.30537934  0.32524817  0.15133439\n",
      "   0.20865617  0.35011098 -0.00312312  0.02055844 -0.07105626  0.08901334]\n",
      " [ 0.80820992  0.85363621  0.90989478  0.73966944  0.09173038  0.17109573\n",
      "   1.00157978 -0.97190204  0.9898004   0.81018005  0.95452186  0.99607236\n",
      "   0.80004729 -0.0540498   0.09625968  0.18153467 -0.00386234  0.13451051]\n",
      " [-0.78505823 -0.82656874 -0.91493325 -0.79427411 -0.16817623 -0.18072588\n",
      "  -0.97190204  1.00157978 -0.95069428 -0.77721332 -0.94581163 -0.95837685\n",
      "  -0.76815994  0.1266446  -0.07153556 -0.15355102 -0.10457463 -0.22968698]\n",
      " [ 0.81023973  0.85104759  0.8999864   0.7147342   0.07084674  0.17109699\n",
      "   0.9898004  -0.95069428  1.00157978  0.81435746  0.94029559  0.99115566\n",
      "   0.79670079 -0.0401617   0.10516707  0.18381654 -0.02825513  0.11764446]\n",
      " [ 0.67415155  0.96421013  0.78094843  0.56834746  0.10954804  0.30537934\n",
      "   0.81018005 -0.77721332  0.81435746  1.00157978  0.75030562  0.80077703\n",
      "   0.8659513   0.02096807  0.15944877 -0.02761102 -0.10740213  0.0910722 ]\n",
      " [ 0.75605374  0.80758494  0.87388     0.79869885  0.25223917  0.32524817\n",
      "   0.95452186 -0.94581163  0.94029559  0.75030562  1.00157978  0.95347788\n",
      "   0.78507881  0.06850494  0.05091782  0.16905872  0.00673375  0.10716534]\n",
      " [ 0.81344182  0.84716978  0.89543031  0.72894322  0.08030052  0.15133439\n",
      "   0.99607236 -0.95837685  0.99115566  0.80077703  0.95347788  1.00157978\n",
      "   0.7986516  -0.04488926  0.09973445  0.17318612 -0.00135933  0.12326396]\n",
      " [ 0.59038297  0.92896339  0.71937547  0.54116024  0.10875886  0.20865617\n",
      "   0.80004729 -0.76815994  0.79670079  0.8659513   0.78507881  0.7986516\n",
      "   1.00157978  0.16467815  0.19078214 -0.08438564 -0.21870433 -0.09920902]\n",
      " [-0.28684336  0.03115827 -0.23798094 -0.20352759  0.16281888  0.35011098\n",
      "  -0.0540498   0.1266446  -0.0401617   0.02096807  0.06850494 -0.04488926\n",
      "   0.16467815  1.00157978 -0.12963827 -0.10878812 -0.76526381 -0.81726003]\n",
      " [ 0.28833417  0.17494318  0.13912406  0.06409781 -0.08178815 -0.00312312\n",
      "   0.09625968 -0.07153556  0.10516707  0.15944877  0.05091782  0.09973445\n",
      "   0.19078214 -0.12963827  1.00157978 -0.05737584  0.14529782  0.1096387 ]\n",
      " [ 0.11144845 -0.04676479  0.22596933  0.13531898 -0.04830067  0.02055844\n",
      "   0.18153467 -0.15355102  0.18381654 -0.02761102  0.16905872  0.17318612\n",
      "  -0.08438564 -0.10878812 -0.05737584  1.00157978  0.05556357  0.1884418 ]\n",
      " [ 0.29036204 -0.10621896  0.1287872   0.36981975  0.21098806 -0.07105626\n",
      "  -0.00386234 -0.10457463 -0.02825513 -0.10740213  0.00673375 -0.00135933\n",
      "  -0.21870433 -0.76526381  0.14529782  0.05556357  1.00157978  0.89382288]\n",
      " [ 0.38541622  0.05939615  0.33507516  0.4691265   0.23340439  0.08901334\n",
      "   0.13451051 -0.22968698  0.11764446  0.0910722   0.10716534  0.12326396\n",
      "  -0.09920902 -0.81726003  0.1096387   0.1884418   0.89382288  1.00157978]]\n"
     ]
    }
   ],
   "source": [
    "# Covariance Matrix\n",
    "cov_matrix = np.cov(X_train_std.T)\n",
    "\n",
    "print('Covariance Matrix \\n%s', cov_matrix)"
   ]
  },
  {
   "cell_type": "code",
   "execution_count": 83,
   "id": "d93d98b4",
   "metadata": {},
   "outputs": [
    {
     "name": "stdout",
     "output_type": "stream",
     "text": [
      "Eigen Vectors \n",
      "%s [[ 2.74365682e-01 -1.38201855e-01 -1.07232778e-01 -8.58693928e-02\n",
      "   8.80223277e-02  1.63555283e-01  4.57332711e-01 -5.99207598e-01\n",
      "   4.14992698e-01  2.81021708e-01 -5.52607406e-02  2.51635512e-02\n",
      "   1.43138652e-01 -1.70161870e-03  6.79957104e-02  2.36583416e-03\n",
      "  -6.35429016e-02 -3.56464472e-03]\n",
      " [ 2.94511963e-01  1.22377830e-01 -4.37922217e-02 -1.83598846e-01\n",
      "  -7.52274508e-02 -3.09653741e-01 -2.35164313e-01 -1.67218667e-01\n",
      "   1.15667366e-02 -1.03380695e-01 -5.89149648e-03  2.03881295e-01\n",
      "  -2.95233792e-02  6.37148450e-03 -4.13463037e-01  6.99267334e-02\n",
      "  -5.15701934e-01  4.27463845e-01]\n",
      " [ 3.05231429e-01 -6.62479387e-02 -4.84169607e-02  7.88085957e-02\n",
      "   3.42979211e-02 -1.23582453e-01  7.96141044e-02  4.45600713e-01\n",
      "   2.01034019e-01  2.37163644e-01 -6.90347711e-01 -7.67034688e-03\n",
      "  -2.62174875e-01 -4.61100467e-03  1.09369419e-01 -3.79717468e-02\n",
      "   1.46470806e-02  1.29875187e-01]\n",
      " [ 2.67243501e-01 -1.70000275e-01  2.94842587e-01  3.44667707e-02\n",
      "  -4.38695064e-02  2.57226432e-01 -1.79364818e-01  6.93003794e-02\n",
      "   2.12218578e-01  4.36222210e-02  1.15896641e-01  2.32388968e-01\n",
      "  -3.68041200e-02 -1.94095387e-02 -5.38231350e-01  1.59152731e-02\n",
      "   5.46219647e-01  4.56805387e-02]\n",
      " [ 7.34144070e-02 -7.29753253e-02  6.53132199e-01 -5.41712619e-02\n",
      "  -2.60511530e-02  2.19057596e-01 -4.03074138e-01 -1.01080090e-01\n",
      "   2.79607558e-01 -1.02266612e-01 -6.58731496e-02 -1.63729018e-01\n",
      "  -3.13898590e-02  1.68751803e-02  3.54642450e-01 -1.42633032e-02\n",
      "  -2.95817535e-01 -6.22877592e-02]\n",
      " [ 9.55549423e-02  7.83660262e-02  5.85729880e-01 -5.49584812e-02\n",
      "   2.30044951e-01 -3.85966514e-01  5.04790092e-01  1.87303934e-01\n",
      "  -1.43039427e-01  1.04239450e-01  2.67828069e-01  1.32924563e-01\n",
      "   2.94962557e-02 -2.86260085e-02  8.07488581e-02 -3.22646420e-02\n",
      "   1.17004358e-02  1.29331918e-01]\n",
      " [ 3.16578296e-01  4.32451866e-02 -9.12022355e-02  1.04475982e-01\n",
      "  -2.23475665e-02  1.26520323e-01  6.14757564e-02  8.75127812e-02\n",
      "  -4.73445178e-02 -1.72891124e-01  1.67499504e-01 -1.11085543e-01\n",
      "   1.30576364e-02  7.20075171e-01  6.42339928e-02 -4.96083891e-01\n",
      "  -1.09566804e-02  9.57989274e-02]\n",
      " [-3.13781632e-01  1.40571717e-02  4.58614290e-02 -9.26225413e-02\n",
      "   8.60799275e-02 -1.50206622e-01  2.08449326e-02 -2.07533476e-01\n",
      "   1.45320059e-01  1.52251425e-01  9.48734114e-02 -9.94113123e-02\n",
      "  -8.05474880e-01  1.94159352e-01 -1.87634477e-01 -1.06941756e-01\n",
      "  -1.37661893e-02 -1.43814011e-01]\n",
      " [ 3.13856136e-01  5.43143304e-02 -1.01903809e-01  1.00829790e-01\n",
      "  -3.83170495e-03  1.04174807e-01  1.00036809e-01  4.63800433e-02\n",
      "   5.87023673e-04 -2.08412001e-01  2.48632327e-01 -3.10146774e-01\n",
      "  -2.91692653e-01  8.16254173e-02  1.75272265e-01  6.90074706e-01\n",
      "   1.03481048e-01  2.10103864e-01]\n",
      " [ 2.82721179e-01  1.13958735e-01 -3.56348341e-02 -1.79045519e-01\n",
      "  -5.15638983e-02 -4.86935565e-01 -9.13417206e-02 -2.34168143e-01\n",
      "   8.05871203e-02 -4.56973680e-01 -1.42569392e-01  1.44548992e-01\n",
      "  -2.96802872e-02 -1.15825511e-02  1.85402915e-01 -2.30758184e-02\n",
      "   3.41107993e-01 -4.02486957e-01]\n",
      " [ 3.09843767e-01  6.22168838e-02  5.13127810e-02  1.21112681e-01\n",
      "  -9.65812486e-03  2.21555191e-01  9.46797587e-02  8.31344314e-02\n",
      "  -3.09471852e-01  1.15439954e-01 -2.08729955e-02  2.33406592e-01\n",
      "  -9.95213240e-02  7.06797538e-02 -1.78920275e-01  1.89913885e-01\n",
      "  -3.66789612e-01 -6.60485446e-01]\n",
      " [ 3.14567611e-01  4.63633098e-02 -1.01334651e-01  9.98095402e-02\n",
      "  -2.51360471e-02  1.60847124e-01  7.14808576e-02  2.00831934e-02\n",
      "  -7.56848889e-02 -1.62849548e-01  2.15059672e-01 -1.81317440e-01\n",
      "  -2.80068435e-01 -6.55037664e-01  3.58716677e-02 -4.69688975e-01\n",
      "  -6.97569180e-02  3.16619383e-02]\n",
      " [ 2.72650220e-01  2.00361182e-01 -5.53340990e-02 -1.98180730e-01\n",
      "  -5.28557140e-02 -1.52936319e-01 -3.84452100e-01 -9.57874322e-02\n",
      "  -2.49489478e-01  6.75396235e-01  1.76671962e-01 -1.87375624e-01\n",
      "   4.37901390e-02  4.02167655e-03  1.83029080e-01 -2.90390800e-02\n",
      "   1.96340010e-01 -2.15442357e-02]\n",
      " [-3.07884469e-02  5.07619161e-01  2.36763878e-01  4.56782686e-02\n",
      "   1.45292194e-01  2.07766464e-01  1.03316683e-01 -3.22952661e-01\n",
      "  -3.47998949e-01 -1.07741813e-01 -4.50556017e-01 -2.77123829e-01\n",
      "   2.09266650e-02  1.26838654e-02 -2.19630689e-01 -1.53578352e-02\n",
      "   1.63866287e-01  1.24689059e-01]\n",
      " [ 5.07926215e-02 -7.80896099e-02 -1.48091229e-01 -5.72814101e-01\n",
      "   7.37609773e-01  2.02558565e-01 -1.00953492e-01  1.70129602e-01\n",
      "  -2.14943535e-02 -1.15428463e-01  8.71265514e-03 -1.96798382e-02\n",
      "   1.98757006e-02 -2.97957205e-03 -2.03845357e-02  3.63819592e-03\n",
      "  -1.53486158e-02 -4.15218829e-02]\n",
      " [ 4.46678164e-02 -1.10376253e-01 -4.81605019e-02  6.91641606e-01\n",
      "   5.85055272e-01 -1.99373010e-01 -2.68589076e-01 -1.96670638e-01\n",
      "  -1.04914901e-02  3.73400729e-02  2.89424680e-02  8.59751738e-02\n",
      "   2.47096298e-02 -1.05831377e-02  3.44169653e-02  1.34557165e-03\n",
      "  -4.74930574e-03  2.47065181e-02]\n",
      " [ 2.76758508e-02 -5.42426532e-01  5.56402739e-02 -1.03596786e-01\n",
      "  -8.60842277e-02  1.14560525e-01 -5.87161272e-03 -2.60790258e-01\n",
      "  -5.56846557e-01 -4.61216513e-02 -1.56532479e-01  3.04749506e-01\n",
      "  -2.24237986e-01  3.23499874e-02  2.37727912e-01 -1.11229021e-02\n",
      "   8.86424351e-02  2.39152251e-01]\n",
      " [ 7.86110730e-02 -5.35550417e-01  7.87624033e-02 -2.52459240e-02\n",
      "  -3.02158973e-02 -2.77530410e-01  4.76491834e-02 -1.37086377e-02\n",
      "  -1.34913639e-01 -3.27585782e-02 -7.28782770e-02 -6.48103692e-01\n",
      "   1.72573813e-01  6.07460460e-03 -3.36006170e-01  8.84347696e-04\n",
      "  -5.92291228e-02 -1.70054651e-01]]\n",
      "\n",
      " Eigen Values \n",
      "%s [9.43126989e+00 3.00922138e+00 1.94278914e+00 1.22063582e+00\n",
      " 8.89529705e-01 5.11233932e-01 3.37237356e-01 2.05829812e-01\n",
      " 1.68829391e-01 9.64447042e-02 6.38906514e-02 4.39953167e-02\n",
      " 3.45482750e-02 2.91082671e-03 2.44425109e-02 9.68853797e-03\n",
      " 1.72008566e-02 1.87379080e-02]\n"
     ]
    }
   ],
   "source": [
    "eig_vals, eig_vecs = np.linalg.eig(cov_matrix)\n",
    "print('Eigen Vectors \\n%s', eig_vecs)\n",
    "print('\\n Eigen Values \\n%s', eig_vals)"
   ]
  },
  {
   "cell_type": "code",
   "execution_count": 84,
   "id": "3e676ca6",
   "metadata": {},
   "outputs": [
    {
     "name": "stdout",
     "output_type": "stream",
     "text": [
      "Cumulative Variance Explained [ 52.31330041  69.00482805  79.78107694  86.551691    91.48572801\n",
      "  94.32143673  96.19202248  97.33371781  98.27017947  98.80513827\n",
      "  99.15952647  99.40355938  99.59519151  99.73076905  99.83470435\n",
      "  99.93011393  99.98385425 100.        ]\n"
     ]
    }
   ],
   "source": [
    "tot = sum(eig_vals)\n",
    "var_exp = [( i /tot ) * 100 for i in sorted(eig_vals, reverse=True)]\n",
    "cum_var_exp = np.cumsum(var_exp)   # array of size =  as many PC dimensions\n",
    "print(\"Cumulative Variance Explained\", cum_var_exp)"
   ]
  },
  {
   "cell_type": "markdown",
   "id": "2cf815bc",
   "metadata": {},
   "source": [
    "####  E. Draw a horizontal line on the above plot to highlight the threshold of 90%"
   ]
  },
  {
   "cell_type": "code",
   "execution_count": 85,
   "id": "4b432655",
   "metadata": {},
   "outputs": [
    {
     "data": {
      "image/png": "[encoded data removed]",
      "text/plain": [
       "<Figure size 1080x432 with 1 Axes>"
      ]
     },
     "metadata": {
      "needs_background": "light"
     },
     "output_type": "display_data"
    }
   ],
   "source": [
    "# Ploting \n",
    "plt.figure(figsize=(15 , 6))\n",
    "plt.bar(range(1, eig_vals.size + 1), var_exp, alpha = 0.5, align = 'center', label = 'Individual explained variance')\n",
    "plt.step(range(1, eig_vals.size + 1), cum_var_exp, where='mid', label = 'Cumulative explained variance')\n",
    "plt.ylabel('Explained Variance Ratio')\n",
    "plt.xlabel('Principal Components')\n",
    "plt.legend(loc = 'best')\n",
    "plt.tight_layout()\n",
    "plt.show()"
   ]
  },
  {
   "cell_type": "markdown",
   "id": "914c21d4",
   "metadata": {},
   "source": [
    "#### first 10 principle components explained 95% of data"
   ]
  },
  {
   "cell_type": "markdown",
   "id": "7ce739ba",
   "metadata": {},
   "source": [
    "#### F. Apply PCA on the data. This time Select Minimum Components with 90% or above variance explained. "
   ]
  },
  {
   "cell_type": "code",
   "execution_count": 86,
   "id": "d1292613",
   "metadata": {},
   "outputs": [
    {
     "name": "stdout",
     "output_type": "stream",
     "text": [
      "[[ 0.27436568  0.29451196  0.30523143  0.2672435   0.07341441  0.09555494\n",
      "   0.3165783  -0.31378163  0.31385614  0.28272118  0.30984377  0.31456761\n",
      "   0.27265022 -0.03078845  0.05079262  0.04466782  0.02767585  0.07861107]\n",
      " [-0.13820185  0.12237783 -0.06624794 -0.17000027 -0.07297533  0.07836603\n",
      "   0.04324519  0.01405717  0.05431433  0.11395874  0.06221688  0.04636331\n",
      "   0.20036118  0.50761916 -0.07808961 -0.11037625 -0.54242653 -0.53555042]\n",
      " [-0.10723278 -0.04379222 -0.04841696  0.29484259  0.6531322   0.58572988\n",
      "  -0.09120224  0.04586143 -0.10190381 -0.03563483  0.05131278 -0.10133465\n",
      "  -0.0553341   0.23676388 -0.14809123 -0.0481605   0.05564027  0.0787624 ]\n",
      " [-0.08586939 -0.18359885  0.0788086   0.03446677 -0.05417126 -0.05495848\n",
      "   0.10447598 -0.09262254  0.10082979 -0.17904552  0.12111268  0.09980954\n",
      "  -0.19818073  0.04567827 -0.5728141   0.69164161 -0.10359679 -0.02524592]\n",
      " [ 0.08802233 -0.07522745  0.03429792 -0.04386951 -0.02605115  0.23004495\n",
      "  -0.02234757  0.08607993 -0.0038317  -0.0515639  -0.00965812 -0.02513605\n",
      "  -0.05285571  0.14529219  0.73760977  0.58505527 -0.08608423 -0.0302159 ]\n",
      " [ 0.16355528 -0.30965374 -0.12358245  0.25722643  0.2190576  -0.38596651\n",
      "   0.12652032 -0.15020662  0.10417481 -0.48693557  0.22155519  0.16084712\n",
      "  -0.15293632  0.20776646  0.20255857 -0.19937301  0.11456053 -0.27753041]\n",
      " [ 0.45733271 -0.23516431  0.0796141  -0.17936482 -0.40307414  0.50479009\n",
      "   0.06147576  0.02084493  0.10003681 -0.09134172  0.09467976  0.07148086\n",
      "  -0.3844521   0.10331668 -0.10095349 -0.26858908 -0.00587161  0.04764918]\n",
      " [ 0.5992076   0.16721867 -0.44560071 -0.06930038  0.10108009 -0.18730393\n",
      "  -0.08751278  0.20753348 -0.04638004  0.23416814 -0.08313443 -0.02008319\n",
      "   0.09578743  0.32295266 -0.1701296   0.19667064  0.26079026  0.01370864]]\n",
      "[0.523133   0.16691528 0.10776249 0.06770614 0.04934037 0.02835709\n",
      " 0.01870586 0.01141695]\n"
     ]
    }
   ],
   "source": [
    "pca3 = PCA(n_components=8)\n",
    "pca3.fit(X_train_std)\n",
    "print(pca3.components_)\n",
    "print(pca3.explained_variance_ratio_)\n",
    "Xpca3 = pca3.transform(X_train_std)\n"
   ]
  },
  {
   "cell_type": "markdown",
   "id": "f02fb648",
   "metadata": {},
   "source": [
    "#### G. Train SVM model on components selected from above step."
   ]
  },
  {
   "cell_type": "code",
   "execution_count": 87,
   "id": "7b897c65",
   "metadata": {},
   "outputs": [],
   "source": [
    "# Make a set of (eigenvalue, eigenvector) pairs\n",
    "eig_pairs = [(eig_vals[index], eig_vecs[index]) for index in range(len(eig_vals))]\n",
    "\n",
    "# Sort the (eigenvalue, eigenvector) pairs from highest to lowest with respect to eigenvalue by default take first field for sorting\n",
    "eig_pairs.sort(reverse=True)\n",
    "\n",
    "\n",
    "# Note: always form pair of eigen vector and values  first before sorting...\n",
    "\n",
    "# Extract the descending ordered eigenvalues and eigenvectors\n",
    "eigvalues_sorted = [eig_pairs[index][0] for index in range(len(eig_vals))]\n",
    "eigvectors_sorted = [eig_pairs[index][1] for index in range(len(eig_vals))]"
   ]
  },
  {
   "cell_type": "code",
   "execution_count": 88,
   "id": "7da06054",
   "metadata": {},
   "outputs": [
    {
     "data": {
      "text/plain": [
       "((634, 8), (634,), (212, 8), (212,))"
      ]
     },
     "execution_count": 88,
     "metadata": {},
     "output_type": "execute_result"
    }
   ],
   "source": [
    "P_reduce = np.array(eigvectors_sorted[0:8]).transpose()   # Selecting first 8 eigen vector out if 18\n",
    "\n",
    "Proj_train_data = np.dot(X_train_std,P_reduce)   # projecting training data onto the eight eigen vectors\n",
    "\n",
    "Proj_test_data = np.dot(X_test_std,P_reduce)    # projecting test data onto the eight eigen vectors\n",
    "\n",
    "#Check shapes of train and test new feature and target set after PCA\n",
    "Proj_train_data.shape,y_train.shape,Proj_test_data.shape,y_test.shape"
   ]
  },
  {
   "cell_type": "code",
   "execution_count": 89,
   "id": "94e5695a",
   "metadata": {},
   "outputs": [],
   "source": [
    "# Use SVM\n",
    "\n",
    "# Use SVM\n",
    "\n",
    "from sklearn.svm import SVC\n",
    "\n",
    "# Building a Support Vector Machine on train data\n",
    "svc_model = SVC(C= .1, kernel='linear', gamma= 1)\n",
    "svc_model.fit(Proj_train_data, y_train)\n",
    "\n",
    "prediction = svc_model.predict(Proj_test_data)"
   ]
  },
  {
   "cell_type": "markdown",
   "id": "83bd7803",
   "metadata": {},
   "source": [
    "#### H. Print Classification metrics for train data of above model and share insights."
   ]
  },
  {
   "cell_type": "code",
   "execution_count": 90,
   "id": "338dc7a5",
   "metadata": {},
   "outputs": [
    {
     "name": "stdout",
     "output_type": "stream",
     "text": [
      "0.7949526813880127\n",
      "0.75\n"
     ]
    }
   ],
   "source": [
    "# check the accuracy on the training set\n",
    "print(svc_model.score(Proj_train_data, y_train))\n",
    "print(svc_model.score(Proj_test_data, y_test))"
   ]
  },
  {
   "cell_type": "code",
   "execution_count": 91,
   "id": "882949ef",
   "metadata": {},
   "outputs": [
    {
     "name": "stdout",
     "output_type": "stream",
     "text": [
      "Confusion Matrix:\n",
      " [[56 11  3]\n",
      " [ 9 76 17]\n",
      " [ 1 12 27]]\n"
     ]
    }
   ],
   "source": [
    "print(\"Confusion Matrix:\\n\",confusion_matrix(prediction,y_test))\n"
   ]
  },
  {
   "cell_type": "markdown",
   "id": "58911690",
   "metadata": {},
   "source": [
    "#### 4.Performance Improvement"
   ]
  },
  {
   "cell_type": "markdown",
   "id": "fbadc5d0",
   "metadata": {},
   "source": [
    "#### A.Train another SVM on the components out of PCA. Tune the parameters to improve performance."
   ]
  },
  {
   "cell_type": "markdown",
   "id": "42690888",
   "metadata": {},
   "source": [
    "#### with linear kernel"
   ]
  },
  {
   "cell_type": "markdown",
   "id": "2f7a66dd",
   "metadata": {},
   "source": [
    "B.Share best Parameters observed from above step."
   ]
  },
  {
   "cell_type": "markdown",
   "id": "2d62bf68",
   "metadata": {},
   "source": [
    "#### C. Print Classification metrics for train data of above model and share relative improvement in performance in all the models along with\n",
    "insights"
   ]
  },
  {
   "cell_type": "code",
   "execution_count": 92,
   "id": "35554ca6",
   "metadata": {},
   "outputs": [],
   "source": [
    "# Use SVM\n",
    "\n",
    "from sklearn.svm import SVC\n",
    "\n",
    "# Building a Support Vector Machine on train data\n",
    "svc_model = SVC(C= .1, kernel='linear', gamma= 1)\n",
    "svc_model.fit(Proj_train_data, y_train)\n",
    "\n",
    "prediction = svc_model.predict(Proj_test_data)"
   ]
  },
  {
   "cell_type": "code",
   "execution_count": 93,
   "id": "34dec126",
   "metadata": {},
   "outputs": [
    {
     "name": "stdout",
     "output_type": "stream",
     "text": [
      "0.7949526813880127\n",
      "0.75\n"
     ]
    }
   ],
   "source": [
    "# check the accuracy on the training set\n",
    "print(svc_model.score(Proj_train_data, y_train))\n",
    "print(svc_model.score(Proj_test_data, y_test))"
   ]
  },
  {
   "cell_type": "code",
   "execution_count": 94,
   "id": "30c3707e",
   "metadata": {},
   "outputs": [
    {
     "name": "stdout",
     "output_type": "stream",
     "text": [
      "Confusion Matrix:\n",
      " [[56 11  3]\n",
      " [ 9 76 17]\n",
      " [ 1 12 27]]\n"
     ]
    }
   ],
   "source": [
    "print(\"Confusion Matrix:\\n\",confusion_matrix(prediction,y_test))"
   ]
  },
  {
   "cell_type": "markdown",
   "id": "83c70f1a",
   "metadata": {},
   "source": [
    "#### With Rbf"
   ]
  },
  {
   "cell_type": "code",
   "execution_count": 95,
   "id": "164ee784",
   "metadata": {},
   "outputs": [],
   "source": [
    "# Building a Support Vector Machine on train data\n",
    "svc_model = SVC(kernel='rbf')\n",
    "svc_model.fit(Proj_train_data, y_train)\n",
    "\n",
    "prediction = svc_model.predict(Proj_test_data)"
   ]
  },
  {
   "cell_type": "code",
   "execution_count": 96,
   "id": "6cfabb95",
   "metadata": {},
   "outputs": [
    {
     "name": "stdout",
     "output_type": "stream",
     "text": [
      "0.916403785488959\n",
      "0.8632075471698113\n"
     ]
    }
   ],
   "source": [
    "print(svc_model.score(Proj_train_data, y_train))\n",
    "print(svc_model.score(Proj_test_data, y_test))"
   ]
  },
  {
   "cell_type": "code",
   "execution_count": 97,
   "id": "2135c07c",
   "metadata": {},
   "outputs": [
    {
     "name": "stdout",
     "output_type": "stream",
     "text": [
      "Confusion Matrix:\n",
      " [[58  6  3]\n",
      " [ 7 86  5]\n",
      " [ 1  7 39]]\n"
     ]
    }
   ],
   "source": [
    "print(\"Confusion Matrix:\\n\",confusion_matrix(prediction,y_test))"
   ]
  },
  {
   "cell_type": "code",
   "execution_count": 98,
   "id": "2b6d771a",
   "metadata": {},
   "outputs": [
    {
     "data": {
      "text/html": [
       "<style>#sk-container-id-3 {color: black;background-color: white;}#sk-container-id-3 pre{padding: 0;}#sk-container-id-3 div.sk-toggleable {background-color: white;}#sk-container-id-3 label.sk-toggleable__label {cursor: pointer;display: block;width: 100%;margin-bottom: 0;padding: 0.3em;box-sizing: border-box;text-align: center;}#sk-container-id-3 label.sk-toggleable__label-arrow:before {content: \"▸\";float: left;margin-right: 0.25em;color: #696969;}#sk-container-id-3 label.sk-toggleable__label-arrow:hover:before {color: black;}#sk-container-id-3 div.sk-estimator:hover label.sk-toggleable__label-arrow:before {color: black;}#sk-container-id-3 div.sk-toggleable__content {max-height: 0;max-width: 0;overflow: hidden;text-align: left;background-color: #f0f8ff;}#sk-container-id-3 div.sk-toggleable__content pre {margin: 0.2em;color: black;border-radius: 0.25em;background-color: #f0f8ff;}#sk-container-id-3 input.sk-toggleable__control:checked~div.sk-toggleable__content {max-height: 200px;max-width: 100%;overflow: auto;}#sk-container-id-3 input.sk-toggleable__control:checked~label.sk-toggleable__label-arrow:before {content: \"▾\";}#sk-container-id-3 div.sk-estimator input.sk-toggleable__control:checked~label.sk-toggleable__label {background-color: #d4ebff;}#sk-container-id-3 div.sk-label input.sk-toggleable__control:checked~label.sk-toggleable__label {background-color: #d4ebff;}#sk-container-id-3 input.sk-hidden--visually {border: 0;clip: rect(1px 1px 1px 1px);clip: rect(1px, 1px, 1px, 1px);height: 1px;margin: -1px;overflow: hidden;padding: 0;position: absolute;width: 1px;}#sk-container-id-3 div.sk-estimator {font-family: monospace;background-color: #f0f8ff;border: 1px dotted black;border-radius: 0.25em;box-sizing: border-box;margin-bottom: 0.5em;}#sk-container-id-3 div.sk-estimator:hover {background-color: #d4ebff;}#sk-container-id-3 div.sk-parallel-item::after {content: \"\";width: 100%;border-bottom: 1px solid gray;flex-grow: 1;}#sk-container-id-3 div.sk-label:hover label.sk-toggleable__label {background-color: #d4ebff;}#sk-container-id-3 div.sk-serial::before {content: \"\";position: absolute;border-left: 1px solid gray;box-sizing: border-box;top: 0;bottom: 0;left: 50%;z-index: 0;}#sk-container-id-3 div.sk-serial {display: flex;flex-direction: column;align-items: center;background-color: white;padding-right: 0.2em;padding-left: 0.2em;position: relative;}#sk-container-id-3 div.sk-item {position: relative;z-index: 1;}#sk-container-id-3 div.sk-parallel {display: flex;align-items: stretch;justify-content: center;background-color: white;position: relative;}#sk-container-id-3 div.sk-item::before, #sk-container-id-3 div.sk-parallel-item::before {content: \"\";position: absolute;border-left: 1px solid gray;box-sizing: border-box;top: 0;bottom: 0;left: 50%;z-index: -1;}#sk-container-id-3 div.sk-parallel-item {display: flex;flex-direction: column;z-index: 1;position: relative;background-color: white;}#sk-container-id-3 div.sk-parallel-item:first-child::after {align-self: flex-end;width: 50%;}#sk-container-id-3 div.sk-parallel-item:last-child::after {align-self: flex-start;width: 50%;}#sk-container-id-3 div.sk-parallel-item:only-child::after {width: 0;}#sk-container-id-3 div.sk-dashed-wrapped {border: 1px dashed gray;margin: 0 0.4em 0.5em 0.4em;box-sizing: border-box;padding-bottom: 0.4em;background-color: white;}#sk-container-id-3 div.sk-label label {font-family: monospace;font-weight: bold;display: inline-block;line-height: 1.2em;}#sk-container-id-3 div.sk-label-container {text-align: center;}#sk-container-id-3 div.sk-container {/* jupyter's `normalize.less` sets `[hidden] { display: none; }` but bootstrap.min.css set `[hidden] { display: none !important; }` so we also need the `!important` here to be able to override the default hidden behavior on the sphinx rendered scikit-learn.org. See: https://github.com/scikit-learn/scikit-learn/issues/21755 */display: inline-block !important;position: relative;}#sk-container-id-3 div.sk-text-repr-fallback {display: none;}</style><div id=\"sk-container-id-3\" class=\"sk-top-container\"><div class=\"sk-text-repr-fallback\"><pre>GridSearchCV(cv=10, estimator=SVC(), n_jobs=-1,\n",
       "             param_grid={&#x27;C&#x27;: [0.01, 0.05, 0.5, 1],\n",
       "                         &#x27;kernel&#x27;: [&#x27;linear&#x27;, &#x27;rbf&#x27;]})</pre><b>In a Jupyter environment, please rerun this cell to show the HTML representation or trust the notebook. <br />On GitHub, the HTML representation is unable to render, please try loading this page with nbviewer.org.</b></div><div class=\"sk-container\" hidden><div class=\"sk-item sk-dashed-wrapped\"><div class=\"sk-label-container\"><div class=\"sk-label sk-toggleable\"><input class=\"sk-toggleable__control sk-hidden--visually\" id=\"sk-estimator-id-3\" type=\"checkbox\" ><label for=\"sk-estimator-id-3\" class=\"sk-toggleable__label sk-toggleable__label-arrow\">GridSearchCV</label><div class=\"sk-toggleable__content\"><pre>GridSearchCV(cv=10, estimator=SVC(), n_jobs=-1,\n",
       "             param_grid={&#x27;C&#x27;: [0.01, 0.05, 0.5, 1],\n",
       "                         &#x27;kernel&#x27;: [&#x27;linear&#x27;, &#x27;rbf&#x27;]})</pre></div></div></div><div class=\"sk-parallel\"><div class=\"sk-parallel-item\"><div class=\"sk-item\"><div class=\"sk-label-container\"><div class=\"sk-label sk-toggleable\"><input class=\"sk-toggleable__control sk-hidden--visually\" id=\"sk-estimator-id-4\" type=\"checkbox\" ><label for=\"sk-estimator-id-4\" class=\"sk-toggleable__label sk-toggleable__label-arrow\">estimator: SVC</label><div class=\"sk-toggleable__content\"><pre>SVC()</pre></div></div></div><div class=\"sk-serial\"><div class=\"sk-item\"><div class=\"sk-estimator sk-toggleable\"><input class=\"sk-toggleable__control sk-hidden--visually\" id=\"sk-estimator-id-5\" type=\"checkbox\" ><label for=\"sk-estimator-id-5\" class=\"sk-toggleable__label sk-toggleable__label-arrow\">SVC</label><div class=\"sk-toggleable__content\"><pre>SVC()</pre></div></div></div></div></div></div></div></div></div></div>"
      ],
      "text/plain": [
       "GridSearchCV(cv=10, estimator=SVC(), n_jobs=-1,\n",
       "             param_grid={'C': [0.01, 0.05, 0.5, 1],\n",
       "                         'kernel': ['linear', 'rbf']})"
      ]
     },
     "execution_count": 98,
     "metadata": {},
     "output_type": "execute_result"
    }
   ],
   "source": [
    "#### Hyper Parameter Tuning\n",
    "#With Hyper Parameters Tuning\n",
    "#2-3,SVM\n",
    "#importing modules\n",
    "from sklearn.model_selection import GridSearchCV\n",
    "from sklearn import svm\n",
    "#making the instance\n",
    "model=svm.SVC()\n",
    "#Hyper Parameters Set\n",
    "params = {'C': [0.01, 0.05, 0.5, 1], \n",
    "      #    'gamma':[0.01, 0.02 , 0.03 , 0.04, 0.05],\n",
    "          'kernel': ['linear','rbf']}\n",
    "#Making models with hyper parameters sets\n",
    "gs = GridSearchCV(model, param_grid=params, n_jobs=-1,cv=10)\n",
    "#Learning\n",
    "gs.fit(Proj_train_data,y_train)"
   ]
  },
  {
   "cell_type": "code",
   "execution_count": 99,
   "id": "0ff71b75",
   "metadata": {},
   "outputs": [
    {
     "name": "stdout",
     "output_type": "stream",
     "text": [
      "Best Hyper Parameters:\n",
      " {'C': 1, 'kernel': 'rbf'}\n"
     ]
    }
   ],
   "source": [
    "#The best hyper parameters set\n",
    "print(\"Best Hyper Parameters:\\n\",gs.best_params_)"
   ]
  },
  {
   "cell_type": "code",
   "execution_count": 100,
   "id": "219f57bd",
   "metadata": {},
   "outputs": [
    {
     "name": "stdout",
     "output_type": "stream",
     "text": [
      "Accuracy: 0.8632075471698113\n",
      "Confusion Matrix:\n",
      " [[58  7  1]\n",
      " [ 6 86  7]\n",
      " [ 3  5 39]]\n"
     ]
    }
   ],
   "source": [
    "# calculate accuracy measures and confusion matrix\n",
    "from sklearn import metrics \n",
    "prediction=gs.predict(Proj_test_data)\n",
    "print(\"Accuracy:\",metrics.accuracy_score(prediction,y_test))\n",
    "#evaluation(Confusion Metrix)\n",
    "print(\"Confusion Matrix:\\n\",metrics.confusion_matrix(y_test,prediction))"
   ]
  },
  {
   "cell_type": "markdown",
   "id": "7194aca2",
   "metadata": {},
   "source": [
    "#### Looking at the confusion matrix, model predicts all the vans correctly through Silhoutte(100%) 55/62 buses are predicted correctly(95 %) 108/138 cars are predicted correctyy(93.5%)\n",
    "\n",
    "#### Test Accuracy(95.64%) is well in range of 95% confidence interval(86.8% to 99.6%)"
   ]
  },
  {
   "cell_type": "markdown",
   "id": "6e06854d",
   "metadata": {},
   "source": [
    "### 5. Data Understanding & Cleaning:"
   ]
  },
  {
   "cell_type": "markdown",
   "id": "36bf61ea",
   "metadata": {},
   "source": [
    "#### A.Explain pre-requisite/assumptions of PCA"
   ]
  },
  {
   "cell_type": "markdown",
   "id": "c1c9b92d",
   "metadata": {},
   "source": [
    "#### • There must be linearity in the data set, i.e. the variables combine in a linear manner to form the dataset. The variables exhibit relationships among themselves.\n",
    "\n",
    "#### • PCA assumes that the principal component with high variance must be paid attention and the PCs with lower variance are disregarded as noise. Pearson correlation coefficient framework led to the origin of PCA, and there it was assumed first that the axes with high variance would only be turned into principal components.\n",
    "\n",
    "#### • All variables should be accessed on the same ratio level of measurement. The most preferred norm is at least 150 observations of the sample set with a ratio measurement of 5:1.\n",
    "\n",
    "#### • Extreme values that deviate from other data points in any dataset, which are also called outliers, should be less. More number of outliers will represent experimental errors and will degrade your ML model/algorithm.\n",
    "\n",
    "#### • The feature set must be correlated and the reduced feature set after applying PCA will represent the original data set but in an effective way with fewer dimensions.\n",
    "\n"
   ]
  },
  {
   "cell_type": "markdown",
   "id": "bb569f89",
   "metadata": {},
   "source": [
    "#### B. Explain advantages and limitations of PCA."
   ]
  },
  {
   "cell_type": "markdown",
   "id": "0636738a",
   "metadata": {},
   "source": [
    "#### Advantages of PCA"
   ]
  },
  {
   "cell_type": "markdown",
   "id": "8bdb608c",
   "metadata": {},
   "source": [
    "##### 1. Removes Correlated Features\n",
    "\n",
    "#### 2. Improves Algorithm Performance\n",
    "\n",
    "#### 3. Reduces Overfitting\n",
    "\n",
    "#### 4. Improves Visualization\n"
   ]
  },
  {
   "cell_type": "markdown",
   "id": "431debaa",
   "metadata": {},
   "source": [
    "#### Disadvantages of PCA"
   ]
  },
  {
   "cell_type": "markdown",
   "id": "125eb43e",
   "metadata": {},
   "source": [
    "#### 1. Independent variables become less interpretable:\n",
    "#### 2. Data standardization is must before PCA\n",
    "#### 3. information loss"
   ]
  },
  {
   "cell_type": "code",
   "execution_count": null,
   "id": "1725f7db",
   "metadata": {},
   "outputs": [],
   "source": []
  }
 ],
 "metadata": {
  "kernelspec": {
   "display_name": "Python 3 (ipykernel)",
   "language": "python",
   "name": "python3"
  },
  "language_info": {
   "codemirror_mode": {
    "name": "ipython",
    "version": 3
   },
   "file_extension": ".py",
   "mimetype": "text/x-python",
   "name": "python",
   "nbconvert_exporter": "python",
   "pygments_lexer": "ipython3",
   "version": "3.9.12"
  }
 },
 "nbformat": 4,
 "nbformat_minor": 5
}
